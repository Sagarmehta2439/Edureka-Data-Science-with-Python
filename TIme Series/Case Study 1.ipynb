{
 "cells": [
  {
   "cell_type": "markdown",
   "id": "7bebe531",
   "metadata": {},
   "source": [
    "__Import the libraries__"
   ]
  },
  {
   "cell_type": "code",
   "execution_count": 1,
   "id": "85f4a926",
   "metadata": {
    "ExecuteTime": {
     "end_time": "2022-02-20T19:46:14.469885Z",
     "start_time": "2022-02-20T19:46:11.341511Z"
    }
   },
   "outputs": [],
   "source": [
    "import numpy as np \n",
    "import pandas as pd \n",
    "import matplotlib.pyplot as plt\n",
    "import seaborn as sns"
   ]
  },
  {
   "cell_type": "code",
   "execution_count": 9,
   "id": "8493e757",
   "metadata": {
    "ExecuteTime": {
     "end_time": "2022-02-20T19:51:21.584568Z",
     "start_time": "2022-02-20T19:51:21.566304Z"
    }
   },
   "outputs": [
    {
     "data": {
      "text/html": [
       "<div>\n",
       "<style scoped>\n",
       "    .dataframe tbody tr th:only-of-type {\n",
       "        vertical-align: middle;\n",
       "    }\n",
       "\n",
       "    .dataframe tbody tr th {\n",
       "        vertical-align: top;\n",
       "    }\n",
       "\n",
       "    .dataframe thead th {\n",
       "        text-align: right;\n",
       "    }\n",
       "</style>\n",
       "<table border=\"1\" class=\"dataframe\">\n",
       "  <thead>\n",
       "    <tr style=\"text-align: right;\">\n",
       "      <th></th>\n",
       "      <th>Month</th>\n",
       "      <th>#Passengers</th>\n",
       "    </tr>\n",
       "  </thead>\n",
       "  <tbody>\n",
       "    <tr>\n",
       "      <th>0</th>\n",
       "      <td>2003-01</td>\n",
       "      <td>112</td>\n",
       "    </tr>\n",
       "    <tr>\n",
       "      <th>1</th>\n",
       "      <td>2003-02</td>\n",
       "      <td>118</td>\n",
       "    </tr>\n",
       "    <tr>\n",
       "      <th>2</th>\n",
       "      <td>2003-03</td>\n",
       "      <td>132</td>\n",
       "    </tr>\n",
       "    <tr>\n",
       "      <th>3</th>\n",
       "      <td>2003-04</td>\n",
       "      <td>129</td>\n",
       "    </tr>\n",
       "    <tr>\n",
       "      <th>4</th>\n",
       "      <td>2003-05</td>\n",
       "      <td>121</td>\n",
       "    </tr>\n",
       "  </tbody>\n",
       "</table>\n",
       "</div>"
      ],
      "text/plain": [
       "     Month  #Passengers\n",
       "0  2003-01          112\n",
       "1  2003-02          118\n",
       "2  2003-03          132\n",
       "3  2003-04          129\n",
       "4  2003-05          121"
      ]
     },
     "execution_count": 9,
     "metadata": {},
     "output_type": "execute_result"
    }
   ],
   "source": [
    "df = pd.read_csv('SeaPlaneTravel.csv')\n",
    "df.head()"
   ]
  },
  {
   "cell_type": "code",
   "execution_count": 11,
   "id": "6b3806f1",
   "metadata": {
    "ExecuteTime": {
     "end_time": "2022-02-20T19:51:52.388495Z",
     "start_time": "2022-02-20T19:51:52.361217Z"
    }
   },
   "outputs": [
    {
     "name": "stdout",
     "output_type": "stream",
     "text": [
      "<class 'pandas.core.frame.DataFrame'>\n",
      "RangeIndex: 144 entries, 0 to 143\n",
      "Data columns (total 2 columns):\n",
      " #   Column       Non-Null Count  Dtype \n",
      "---  ------       --------------  ----- \n",
      " 0   Month        144 non-null    object\n",
      " 1   #Passengers  144 non-null    int64 \n",
      "dtypes: int64(1), object(1)\n",
      "memory usage: 2.4+ KB\n"
     ]
    }
   ],
   "source": [
    "df.info()"
   ]
  },
  {
   "cell_type": "code",
   "execution_count": 12,
   "id": "3fe56730",
   "metadata": {
    "ExecuteTime": {
     "end_time": "2022-02-20T19:52:57.265432Z",
     "start_time": "2022-02-20T19:52:57.253081Z"
    }
   },
   "outputs": [
    {
     "data": {
      "text/plain": [
       "Month\n",
       "2003-01-01    112\n",
       "2003-02-01    118\n",
       "2003-03-01    132\n",
       "2003-04-01    129\n",
       "2003-05-01    121\n",
       "Name: #Passengers, dtype: int64"
      ]
     },
     "execution_count": 12,
     "metadata": {},
     "output_type": "execute_result"
    }
   ],
   "source": [
    "df['Month'] = pd.to_datetime(df['Month'])\n",
    "indexed_df = df.set_index('Month')\n",
    "ts = indexed_df['#Passengers']\n",
    "ts.head(5)"
   ]
  },
  {
   "cell_type": "code",
   "execution_count": 13,
   "id": "a2cfb6f8",
   "metadata": {
    "ExecuteTime": {
     "end_time": "2022-02-20T19:53:07.522814Z",
     "start_time": "2022-02-20T19:53:07.386736Z"
    }
   },
   "outputs": [
    {
     "data": {
      "image/png": "[encoded data removed]",
      "text/plain": [
       "<Figure size 432x288 with 1 Axes>"
      ]
     },
     "metadata": {
      "needs_background": "light"
     },
     "output_type": "display_data"
    }
   ],
   "source": [
    "plt.plot(ts)\n",
    "plt.show()"
   ]
  },
  {
   "cell_type": "markdown",
   "id": "a9fc34f5",
   "metadata": {},
   "source": [
    "__Model Building__"
   ]
  },
  {
   "cell_type": "code",
   "execution_count": 18,
   "id": "9371d1ed",
   "metadata": {
    "ExecuteTime": {
     "end_time": "2022-02-20T19:57:51.912329Z",
     "start_time": "2022-02-20T19:57:51.890529Z"
    }
   },
   "outputs": [
    {
     "data": {
      "text/html": [
       "<div>\n",
       "<style scoped>\n",
       "    .dataframe tbody tr th:only-of-type {\n",
       "        vertical-align: middle;\n",
       "    }\n",
       "\n",
       "    .dataframe tbody tr th {\n",
       "        vertical-align: top;\n",
       "    }\n",
       "\n",
       "    .dataframe thead th {\n",
       "        text-align: right;\n",
       "    }\n",
       "</style>\n",
       "<table border=\"1\" class=\"dataframe\">\n",
       "  <thead>\n",
       "    <tr style=\"text-align: right;\">\n",
       "      <th></th>\n",
       "      <th>ds</th>\n",
       "      <th>y</th>\n",
       "    </tr>\n",
       "  </thead>\n",
       "  <tbody>\n",
       "    <tr>\n",
       "      <th>0</th>\n",
       "      <td>2003-01-01</td>\n",
       "      <td>112</td>\n",
       "    </tr>\n",
       "    <tr>\n",
       "      <th>1</th>\n",
       "      <td>2003-02-01</td>\n",
       "      <td>118</td>\n",
       "    </tr>\n",
       "    <tr>\n",
       "      <th>2</th>\n",
       "      <td>2003-03-01</td>\n",
       "      <td>132</td>\n",
       "    </tr>\n",
       "    <tr>\n",
       "      <th>3</th>\n",
       "      <td>2003-04-01</td>\n",
       "      <td>129</td>\n",
       "    </tr>\n",
       "    <tr>\n",
       "      <th>4</th>\n",
       "      <td>2003-05-01</td>\n",
       "      <td>121</td>\n",
       "    </tr>\n",
       "    <tr>\n",
       "      <th>...</th>\n",
       "      <td>...</td>\n",
       "      <td>...</td>\n",
       "    </tr>\n",
       "    <tr>\n",
       "      <th>110</th>\n",
       "      <td>2013-03-01</td>\n",
       "      <td>362</td>\n",
       "    </tr>\n",
       "    <tr>\n",
       "      <th>111</th>\n",
       "      <td>2013-04-01</td>\n",
       "      <td>348</td>\n",
       "    </tr>\n",
       "    <tr>\n",
       "      <th>112</th>\n",
       "      <td>2013-05-01</td>\n",
       "      <td>363</td>\n",
       "    </tr>\n",
       "    <tr>\n",
       "      <th>113</th>\n",
       "      <td>2013-06-01</td>\n",
       "      <td>435</td>\n",
       "    </tr>\n",
       "    <tr>\n",
       "      <th>114</th>\n",
       "      <td>2013-07-01</td>\n",
       "      <td>491</td>\n",
       "    </tr>\n",
       "  </tbody>\n",
       "</table>\n",
       "<p>115 rows × 2 columns</p>\n",
       "</div>"
      ],
      "text/plain": [
       "            ds    y\n",
       "0   2003-01-01  112\n",
       "1   2003-02-01  118\n",
       "2   2003-03-01  132\n",
       "3   2003-04-01  129\n",
       "4   2003-05-01  121\n",
       "..         ...  ...\n",
       "110 2013-03-01  362\n",
       "111 2013-04-01  348\n",
       "112 2013-05-01  363\n",
       "113 2013-06-01  435\n",
       "114 2013-07-01  491\n",
       "\n",
       "[115 rows x 2 columns]"
      ]
     },
     "execution_count": 18,
     "metadata": {},
     "output_type": "execute_result"
    }
   ],
   "source": [
    "train_dataset= pd.DataFrame()\n",
    "train_dataset['ds'] = df['Month']\n",
    "train_dataset['y']= df['#Passengers']\n",
    "train_dataset.head(115)"
   ]
  },
  {
   "cell_type": "code",
   "execution_count": 19,
   "id": "134eeebc",
   "metadata": {
    "ExecuteTime": {
     "end_time": "2022-02-20T20:16:22.369444Z",
     "start_time": "2022-02-20T19:58:39.905560Z"
    }
   },
   "outputs": [
    {
     "name": "stdout",
     "output_type": "stream",
     "text": [
      "Collecting package metadata (current_repodata.json): done\n",
      "Solving environment: failed with initial frozen solve. Retrying with flexible solve.\n",
      "Solving environment: failed with repodata from current_repodata.json, will retry with next repodata source.\n",
      "Collecting package metadata (repodata.json): done\n",
      "Solving environment: done\n",
      "\n",
      "## Package Plan ##\n",
      "\n",
      "  environment location: /opt/anaconda3\n",
      "\n",
      "  added / updated specs:\n",
      "    - prophet\n",
      "\n",
      "\n",
      "The following packages will be downloaded:\n",
      "\n",
      "    package                    |            build\n",
      "    ---------------------------|-----------------\n",
      "    arviz-0.11.4               |     pyhd8ed1ab_0         1.4 MB  conda-forge\n",
      "    cftime-1.5.2               |   py37h032687b_0         183 KB  conda-forge\n",
      "    clang-10.0.1               |default_hf57f61e_1        12.1 MB  conda-forge\n",
      "    clang_osx-64-10.0.1        |      h05bbb7f_10          15 KB  conda-forge\n",
      "    clangxx-10.0.1             |default_hf57f61e_1         123 KB  conda-forge\n",
      "    clangxx_osx-64-10.0.1      |      h05bbb7f_10          15 KB  conda-forge\n",
      "    cmdstanpy-0.9.68           |     pyhd8ed1ab_0          41 KB  conda-forge\n",
      "    compiler-rt-10.0.1         |       he6db49b_0          77 KB  conda-forge\n",
      "    compiler-rt_osx-64-10.0.1  |       h033240e_0         2.9 MB  conda-forge\n",
      "    convertdate-2.4.0          |     pyhd8ed1ab_0          38 KB  conda-forge\n",
      "    ephem-4.1.3                |   py37h271585c_1         1.4 MB  conda-forge\n",
      "    flask-1.1.2                |     pyh9f0ad1d_0          70 KB  conda-forge\n",
      "    hdf4-4.2.15                |       hefd3b78_3         885 KB  conda-forge\n",
      "    hijri-converter-2.2.3      |     pyhd8ed1ab_0          17 KB  conda-forge\n",
      "    holidays-0.13              |     pyhd8ed1ab_0          85 KB  conda-forge\n",
      "    jinja2-2.11.3              |     pyh44b312d_0          93 KB  conda-forge\n",
      "    korean_lunar_calendar-0.2.1|     pyh9f0ad1d_0          10 KB  conda-forge\n",
      "    ld64_osx-64-530            |       h3c32e8a_7         1.3 MB  conda-forge\n",
      "    libclang-cpp10-10.0.1      |default_hf57f61e_1        11.8 MB  conda-forge\n",
      "    libnetcdf-4.6.1            |     h34af652_200         1.2 MB  conda-forge\n",
      "    llvm-tools-10.0.1          |       h40edb58_5         3.5 MB\n",
      "    lunarcalendar-0.0.9        |             py_0          20 KB  conda-forge\n",
      "    netcdf4-1.4.1              | py37ha292673_200         518 KB  conda-forge\n",
      "    prophet-1.0.1              |   py37hf985489_5         673 KB  conda-forge\n",
      "    pymeeus-0.5.10             |     pyhd8ed1ab_0         534 KB  conda-forge\n",
      "    pystan-2.19.1.1            |   py37h6d0141a_2        17.3 MB  conda-forge\n",
      "    setuptools-git-1.2         |             py_1           9 KB  conda-forge\n",
      "    ujson-5.1.0                |   py37hd8d24ac_0          50 KB  conda-forge\n",
      "    ------------------------------------------------------------\n",
      "                                           Total:        56.2 MB\n",
      "\n",
      "The following NEW packages will be INSTALLED:\n",
      "\n",
      "  arviz              conda-forge/noarch::arviz-0.11.4-pyhd8ed1ab_0\n",
      "  cftime             conda-forge/osx-64::cftime-1.5.2-py37h032687b_0\n",
      "  cmdstanpy          conda-forge/noarch::cmdstanpy-0.9.68-pyhd8ed1ab_0\n",
      "  convertdate        conda-forge/noarch::convertdate-2.4.0-pyhd8ed1ab_0\n",
      "  ephem              conda-forge/osx-64::ephem-4.1.3-py37h271585c_1\n",
      "  hdf4               conda-forge/osx-64::hdf4-4.2.15-hefd3b78_3\n",
      "  hijri-converter    conda-forge/noarch::hijri-converter-2.2.3-pyhd8ed1ab_0\n",
      "  holidays           conda-forge/noarch::holidays-0.13-pyhd8ed1ab_0\n",
      "  korean_lunar_cale~ conda-forge/noarch::korean_lunar_calendar-0.2.1-pyh9f0ad1d_0\n",
      "  libclang-cpp10     conda-forge/osx-64::libclang-cpp10-10.0.1-default_hf57f61e_1\n",
      "  libnetcdf          conda-forge/osx-64::libnetcdf-4.6.1-h34af652_200\n",
      "  lunarcalendar      conda-forge/noarch::lunarcalendar-0.0.9-py_0\n",
      "  netcdf4            conda-forge/osx-64::netcdf4-1.4.1-py37ha292673_200\n",
      "  prophet            conda-forge/osx-64::prophet-1.0.1-py37hf985489_5\n",
      "  pymeeus            conda-forge/noarch::pymeeus-0.5.10-pyhd8ed1ab_0\n",
      "  pystan             conda-forge/osx-64::pystan-2.19.1.1-py37h6d0141a_2\n",
      "  setuptools-git     conda-forge/noarch::setuptools-git-1.2-py_1\n",
      "  ujson              conda-forge/osx-64::ujson-5.1.0-py37hd8d24ac_0\n",
      "\n",
      "The following packages will be REMOVED:\n",
      "\n",
      "  clang-12-12.0.0-default_hfcad0e5_2\n",
      "\n",
      "The following packages will be SUPERSEDED by a higher-priority channel:\n",
      "\n",
      "  clang                  pkgs/main::clang-12.0.0-hecd8cb5_2 --> conda-forge::clang-10.0.1-default_hf57f61e_1\n",
      "  clang_osx-64       pkgs/main::clang_osx-64-12.0.0-h7ad77~ --> conda-forge::clang_osx-64-10.0.1-h05bbb7f_10\n",
      "  clangxx            pkgs/main::clangxx-12.0.0-default_hfc~ --> conda-forge::clangxx-10.0.1-default_hf57f61e_1\n",
      "  clangxx_osx-64     pkgs/main::clangxx_osx-64-12.0.0-he0c~ --> conda-forge::clangxx_osx-64-10.0.1-h05bbb7f_10\n",
      "  compiler-rt        pkgs/main::compiler-rt-12.0.0-hd87ff7~ --> conda-forge::compiler-rt-10.0.1-he6db49b_0\n",
      "  compiler-rt_osx-64 pkgs/main::compiler-rt_osx-64-12.0.0-~ --> conda-forge::compiler-rt_osx-64-10.0.1-h033240e_0\n",
      "  flask                 pkgs/main::flask-2.0.1-pyhd3eb1b0_0 --> conda-forge::flask-1.1.2-pyh9f0ad1d_0\n",
      "  jinja2               pkgs/main::jinja2-3.0.1-pyhd3eb1b0_0 --> conda-forge::jinja2-2.11.3-pyh44b312d_0\n",
      "  ld64_osx-64        pkgs/main::ld64_osx-64-530-h70f3046_23 --> conda-forge::ld64_osx-64-530-h3c32e8a_7\n",
      "\n",
      "The following packages will be DOWNGRADED:\n",
      "\n",
      "  llvm-tools                              12.0.0-h9b2ccf5_3 --> 10.0.1-h40edb58_5\n",
      "\n",
      "\n",
      "\n",
      "Downloading and Extracting Packages\n",
      "clang_osx-64-10.0.1  | 15 KB     | ##################################### | 100% \n",
      "libclang-cpp10-10.0. | 11.8 MB   | ##################################### | 100% \n",
      "flask-1.1.2          | 70 KB     | ##################################### | 100% \n",
      "clang-10.0.1         | 12.1 MB   | ##################################### | 100% \n",
      "cftime-1.5.2         | 183 KB    | ##################################### | 100% \n",
      "jinja2-2.11.3        | 93 KB     | ##################################### | 100% \n",
      "clangxx-10.0.1       | 123 KB    | ##################################### | 100% \n",
      "compiler-rt-10.0.1   | 77 KB     | ##################################### | 100% \n",
      "lunarcalendar-0.0.9  | 20 KB     | ##################################### | 100% \n",
      "hijri-converter-2.2. | 17 KB     | ##################################### | 100% \n",
      "netcdf4-1.4.1        | 518 KB    | ##################################### | 100% \n",
      "pymeeus-0.5.10       | 534 KB    | ##################################### | 100% \n",
      "arviz-0.11.4         | 1.4 MB    | ##################################### | 100% \n",
      "prophet-1.0.1        | 673 KB    | ##################################### | 100% \n",
      "pystan-2.19.1.1      | 17.3 MB   | ##################################### | 100% \n",
      "compiler-rt_osx-64-1 | 2.9 MB    | ##################################### | 100% \n",
      "korean_lunar_calenda | 10 KB     | ##################################### | 100% \n",
      "ephem-4.1.3          | 1.4 MB    | ##################################### | 100% \n",
      "ld64_osx-64-530      | 1.3 MB    | ##################################### | 100% \n",
      "cmdstanpy-0.9.68     | 41 KB     | ##################################### | 100% \n",
      "clangxx_osx-64-10.0. | 15 KB     | ##################################### | 100% \n",
      "setuptools-git-1.2   | 9 KB      | ##################################### | 100% \n",
      "libnetcdf-4.6.1      | 1.2 MB    | ##################################### | 100% \n",
      "convertdate-2.4.0    | 38 KB     | ##################################### | 100% \n",
      "hdf4-4.2.15          | 885 KB    | ##################################### | 100% \n",
      "holidays-0.13        | 85 KB     | ##################################### | 100% \n",
      "ujson-5.1.0          | 50 KB     | ##################################### | 100% \n",
      "llvm-tools-10.0.1    | 3.5 MB    | ##################################### | 100% \n",
      "Preparing transaction: done\n",
      "Verifying transaction: - WARNING conda.core.path_actions:verify(963): Unable to create environments file. Path not writable.\n",
      "  environment location: /Users/sagar/.conda/environments.txt\n",
      "\n",
      "done\n",
      "Executing transaction: done\n",
      "\n",
      "Note: you may need to restart the kernel to use updated packages.\n"
     ]
    }
   ],
   "source": [
    "conda install -c conda-forge prophet"
   ]
  },
  {
   "cell_type": "code",
   "execution_count": null,
   "id": "9afa841d",
   "metadata": {},
   "outputs": [],
   "source": []
  },
  {
   "cell_type": "code",
   "execution_count": null,
   "id": "09748d83",
   "metadata": {},
   "outputs": [],
   "source": [
    "future= prophet_basic.make_future_dataframe(periods=14, freq='M')\n",
    "future.tail(15)"
   ]
  }
 ],
 "metadata": {
  "hide_input": false,
  "kernelspec": {
   "display_name": "Python 3 (ipykernel)",
   "language": "python",
   "name": "python3"
  },
  "language_info": {
   "codemirror_mode": {
    "name": "ipython",
    "version": 3
   },
   "file_extension": ".py",
   "mimetype": "text/x-python",
   "name": "python",
   "nbconvert_exporter": "python",
   "pygments_lexer": "ipython3",
   "version": "3.7.4"
  },
  "toc": {
   "base_numbering": 1,
   "nav_menu": {},
   "number_sections": true,
   "sideBar": true,
   "skip_h1_title": false,
   "title_cell": "Table of Contents",
   "title_sidebar": "Contents",
   "toc_cell": false,
   "toc_position": {},
   "toc_section_display": true,
   "toc_window_display": false
  },
  "varInspector": {
   "cols": {
    "lenName": 16,
    "lenType": 16,
    "lenVar": 40
   },
   "kernels_config": {
    "python": {
     "delete_cmd_postfix": "",
     "delete_cmd_prefix": "del ",
     "library": "var_list.py",
     "varRefreshCmd": "print(var_dic_list())"
    },
    "r": {
     "delete_cmd_postfix": ") ",
     "delete_cmd_prefix": "rm(",
     "library": "var_list.r",
     "varRefreshCmd": "cat(var_dic_list()) "
    }
   },
   "types_to_exclude": [
    "module",
    "function",
    "builtin_function_or_method",
    "instance",
    "_Feature"
   ],
   "window_display": false
  }
 },
 "nbformat": 4,
 "nbformat_minor": 5
}
