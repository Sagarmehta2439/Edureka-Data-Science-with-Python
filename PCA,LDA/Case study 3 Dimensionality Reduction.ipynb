{
 "cells": [
  {
   "cell_type": "markdown",
   "id": "1a2c1de7",
   "metadata": {},
   "source": [
    "__Import the libraries__"
   ]
  },
  {
   "cell_type": "code",
   "execution_count": 1,
   "id": "9fb36119",
   "metadata": {
    "ExecuteTime": {
     "end_time": "2021-12-17T20:39:32.239724Z",
     "start_time": "2021-12-17T20:39:24.250090Z"
    }
   },
   "outputs": [],
   "source": [
    "import numpy as np \n",
    "import pandas as pd \n",
    "import matplotlib.pyplot as plt\n",
    "import seaborn as sns"
   ]
  },
  {
   "cell_type": "code",
   "execution_count": 2,
   "id": "60b57c81",
   "metadata": {
    "ExecuteTime": {
     "end_time": "2021-12-17T20:39:34.401392Z",
     "start_time": "2021-12-17T20:39:34.013814Z"
    }
   },
   "outputs": [],
   "source": [
    "from sklearn.model_selection import train_test_split\n",
    "from sklearn.linear_model import LogisticRegression\n",
    "from sklearn.decomposition import PCA\n",
    "from sklearn.metrics import accuracy_score,classification_report,confusion_matrix"
   ]
  },
  {
   "cell_type": "code",
   "execution_count": 3,
   "id": "d3ac4b05",
   "metadata": {
    "ExecuteTime": {
     "end_time": "2021-12-17T20:41:48.103923Z",
     "start_time": "2021-12-17T20:41:48.063944Z"
    }
   },
   "outputs": [
    {
     "data": {
      "text/html": [
       "<div>\n",
       "<style scoped>\n",
       "    .dataframe tbody tr th:only-of-type {\n",
       "        vertical-align: middle;\n",
       "    }\n",
       "\n",
       "    .dataframe tbody tr th {\n",
       "        vertical-align: top;\n",
       "    }\n",
       "\n",
       "    .dataframe thead th {\n",
       "        text-align: right;\n",
       "    }\n",
       "</style>\n",
       "<table border=\"1\" class=\"dataframe\">\n",
       "  <thead>\n",
       "    <tr style=\"text-align: right;\">\n",
       "      <th></th>\n",
       "      <th>id</th>\n",
       "      <th>diagnosis</th>\n",
       "      <th>radius_mean</th>\n",
       "      <th>texture_mean</th>\n",
       "      <th>perimeter_mean</th>\n",
       "      <th>area_mean</th>\n",
       "      <th>smoothness_mean</th>\n",
       "      <th>compactness_mean</th>\n",
       "      <th>concavity_mean</th>\n",
       "      <th>concave points_mean</th>\n",
       "      <th>...</th>\n",
       "      <th>radius_worst</th>\n",
       "      <th>texture_worst</th>\n",
       "      <th>perimeter_worst</th>\n",
       "      <th>area_worst</th>\n",
       "      <th>smoothness_worst</th>\n",
       "      <th>compactness_worst</th>\n",
       "      <th>concavity_worst</th>\n",
       "      <th>concave points_worst</th>\n",
       "      <th>symmetry_worst</th>\n",
       "      <th>fractal_dimension_worst</th>\n",
       "    </tr>\n",
       "  </thead>\n",
       "  <tbody>\n",
       "    <tr>\n",
       "      <th>168</th>\n",
       "      <td>8712766</td>\n",
       "      <td>M</td>\n",
       "      <td>17.47</td>\n",
       "      <td>24.68</td>\n",
       "      <td>116.10</td>\n",
       "      <td>984.6</td>\n",
       "      <td>0.10490</td>\n",
       "      <td>0.16030</td>\n",
       "      <td>0.21590</td>\n",
       "      <td>0.10430</td>\n",
       "      <td>...</td>\n",
       "      <td>23.14</td>\n",
       "      <td>32.33</td>\n",
       "      <td>155.3</td>\n",
       "      <td>1660.0</td>\n",
       "      <td>0.1376</td>\n",
       "      <td>0.3830</td>\n",
       "      <td>0.4890</td>\n",
       "      <td>0.17210</td>\n",
       "      <td>0.2160</td>\n",
       "      <td>0.09300</td>\n",
       "    </tr>\n",
       "    <tr>\n",
       "      <th>26</th>\n",
       "      <td>852763</td>\n",
       "      <td>M</td>\n",
       "      <td>14.58</td>\n",
       "      <td>21.53</td>\n",
       "      <td>97.41</td>\n",
       "      <td>644.8</td>\n",
       "      <td>0.10540</td>\n",
       "      <td>0.18680</td>\n",
       "      <td>0.14250</td>\n",
       "      <td>0.08783</td>\n",
       "      <td>...</td>\n",
       "      <td>17.62</td>\n",
       "      <td>33.21</td>\n",
       "      <td>122.4</td>\n",
       "      <td>896.9</td>\n",
       "      <td>0.1525</td>\n",
       "      <td>0.6643</td>\n",
       "      <td>0.5539</td>\n",
       "      <td>0.27010</td>\n",
       "      <td>0.4264</td>\n",
       "      <td>0.12750</td>\n",
       "    </tr>\n",
       "    <tr>\n",
       "      <th>385</th>\n",
       "      <td>90291</td>\n",
       "      <td>M</td>\n",
       "      <td>14.60</td>\n",
       "      <td>23.29</td>\n",
       "      <td>93.97</td>\n",
       "      <td>664.7</td>\n",
       "      <td>0.08682</td>\n",
       "      <td>0.06636</td>\n",
       "      <td>0.08390</td>\n",
       "      <td>0.05271</td>\n",
       "      <td>...</td>\n",
       "      <td>15.79</td>\n",
       "      <td>31.71</td>\n",
       "      <td>102.2</td>\n",
       "      <td>758.2</td>\n",
       "      <td>0.1312</td>\n",
       "      <td>0.1581</td>\n",
       "      <td>0.2675</td>\n",
       "      <td>0.13590</td>\n",
       "      <td>0.2477</td>\n",
       "      <td>0.06836</td>\n",
       "    </tr>\n",
       "    <tr>\n",
       "      <th>399</th>\n",
       "      <td>904357</td>\n",
       "      <td>B</td>\n",
       "      <td>11.80</td>\n",
       "      <td>17.26</td>\n",
       "      <td>75.26</td>\n",
       "      <td>431.9</td>\n",
       "      <td>0.09087</td>\n",
       "      <td>0.06232</td>\n",
       "      <td>0.02853</td>\n",
       "      <td>0.01638</td>\n",
       "      <td>...</td>\n",
       "      <td>13.45</td>\n",
       "      <td>24.49</td>\n",
       "      <td>86.0</td>\n",
       "      <td>562.0</td>\n",
       "      <td>0.1244</td>\n",
       "      <td>0.1726</td>\n",
       "      <td>0.1449</td>\n",
       "      <td>0.05356</td>\n",
       "      <td>0.2779</td>\n",
       "      <td>0.08121</td>\n",
       "    </tr>\n",
       "    <tr>\n",
       "      <th>330</th>\n",
       "      <td>896839</td>\n",
       "      <td>M</td>\n",
       "      <td>16.03</td>\n",
       "      <td>15.51</td>\n",
       "      <td>105.80</td>\n",
       "      <td>793.2</td>\n",
       "      <td>0.09491</td>\n",
       "      <td>0.13710</td>\n",
       "      <td>0.12040</td>\n",
       "      <td>0.07041</td>\n",
       "      <td>...</td>\n",
       "      <td>18.76</td>\n",
       "      <td>21.98</td>\n",
       "      <td>124.3</td>\n",
       "      <td>1070.0</td>\n",
       "      <td>0.1435</td>\n",
       "      <td>0.4478</td>\n",
       "      <td>0.4956</td>\n",
       "      <td>0.19810</td>\n",
       "      <td>0.3019</td>\n",
       "      <td>0.09124</td>\n",
       "    </tr>\n",
       "  </tbody>\n",
       "</table>\n",
       "<p>5 rows × 32 columns</p>\n",
       "</div>"
      ],
      "text/plain": [
       "          id diagnosis  radius_mean  texture_mean  perimeter_mean  area_mean  \\\n",
       "168  8712766         M        17.47         24.68          116.10      984.6   \n",
       "26    852763         M        14.58         21.53           97.41      644.8   \n",
       "385    90291         M        14.60         23.29           93.97      664.7   \n",
       "399   904357         B        11.80         17.26           75.26      431.9   \n",
       "330   896839         M        16.03         15.51          105.80      793.2   \n",
       "\n",
       "     smoothness_mean  compactness_mean  concavity_mean  concave points_mean  \\\n",
       "168          0.10490           0.16030         0.21590              0.10430   \n",
       "26           0.10540           0.18680         0.14250              0.08783   \n",
       "385          0.08682           0.06636         0.08390              0.05271   \n",
       "399          0.09087           0.06232         0.02853              0.01638   \n",
       "330          0.09491           0.13710         0.12040              0.07041   \n",
       "\n",
       "     ...  radius_worst  texture_worst  perimeter_worst  area_worst  \\\n",
       "168  ...         23.14          32.33            155.3      1660.0   \n",
       "26   ...         17.62          33.21            122.4       896.9   \n",
       "385  ...         15.79          31.71            102.2       758.2   \n",
       "399  ...         13.45          24.49             86.0       562.0   \n",
       "330  ...         18.76          21.98            124.3      1070.0   \n",
       "\n",
       "     smoothness_worst  compactness_worst  concavity_worst  \\\n",
       "168            0.1376             0.3830           0.4890   \n",
       "26             0.1525             0.6643           0.5539   \n",
       "385            0.1312             0.1581           0.2675   \n",
       "399            0.1244             0.1726           0.1449   \n",
       "330            0.1435             0.4478           0.4956   \n",
       "\n",
       "     concave points_worst  symmetry_worst  fractal_dimension_worst  \n",
       "168               0.17210          0.2160                  0.09300  \n",
       "26                0.27010          0.4264                  0.12750  \n",
       "385               0.13590          0.2477                  0.06836  \n",
       "399               0.05356          0.2779                  0.08121  \n",
       "330               0.19810          0.3019                  0.09124  \n",
       "\n",
       "[5 rows x 32 columns]"
      ]
     },
     "execution_count": 3,
     "metadata": {},
     "output_type": "execute_result"
    }
   ],
   "source": [
    "bcd = pd.read_csv(\"breast-cancer-data.csv\")\n",
    "bcd.sample(5)"
   ]
  },
  {
   "cell_type": "code",
   "execution_count": 4,
   "id": "65e434d5",
   "metadata": {
    "ExecuteTime": {
     "end_time": "2021-12-17T20:42:53.770527Z",
     "start_time": "2021-12-17T20:42:53.755943Z"
    }
   },
   "outputs": [
    {
     "name": "stdout",
     "output_type": "stream",
     "text": [
      "<class 'pandas.core.frame.DataFrame'>\n",
      "RangeIndex: 569 entries, 0 to 568\n",
      "Data columns (total 32 columns):\n",
      " #   Column                   Non-Null Count  Dtype  \n",
      "---  ------                   --------------  -----  \n",
      " 0   id                       569 non-null    int64  \n",
      " 1   diagnosis                569 non-null    object \n",
      " 2   radius_mean              569 non-null    float64\n",
      " 3   texture_mean             569 non-null    float64\n",
      " 4   perimeter_mean           569 non-null    float64\n",
      " 5   area_mean                569 non-null    float64\n",
      " 6   smoothness_mean          569 non-null    float64\n",
      " 7   compactness_mean         569 non-null    float64\n",
      " 8   concavity_mean           569 non-null    float64\n",
      " 9   concave points_mean      569 non-null    float64\n",
      " 10  symmetry_mean            569 non-null    float64\n",
      " 11  fractal_dimension_mean   569 non-null    float64\n",
      " 12  radius_se                569 non-null    float64\n",
      " 13  texture_se               569 non-null    float64\n",
      " 14  perimeter_se             569 non-null    float64\n",
      " 15  area_se                  569 non-null    float64\n",
      " 16  smoothness_se            569 non-null    float64\n",
      " 17  compactness_se           569 non-null    float64\n",
      " 18  concavity_se             569 non-null    float64\n",
      " 19  concave points_se        569 non-null    float64\n",
      " 20  symmetry_se              569 non-null    float64\n",
      " 21  fractal_dimension_se     569 non-null    float64\n",
      " 22  radius_worst             569 non-null    float64\n",
      " 23  texture_worst            569 non-null    float64\n",
      " 24  perimeter_worst          569 non-null    float64\n",
      " 25  area_worst               569 non-null    float64\n",
      " 26  smoothness_worst         569 non-null    float64\n",
      " 27  compactness_worst        569 non-null    float64\n",
      " 28  concavity_worst          569 non-null    float64\n",
      " 29  concave points_worst     569 non-null    float64\n",
      " 30  symmetry_worst           569 non-null    float64\n",
      " 31  fractal_dimension_worst  569 non-null    float64\n",
      "dtypes: float64(30), int64(1), object(1)\n",
      "memory usage: 142.4+ KB\n"
     ]
    }
   ],
   "source": [
    "bcd.info()"
   ]
  },
  {
   "cell_type": "code",
   "execution_count": 5,
   "id": "9a6200ba",
   "metadata": {
    "ExecuteTime": {
     "end_time": "2021-12-17T20:43:55.920262Z",
     "start_time": "2021-12-17T20:43:55.910322Z"
    }
   },
   "outputs": [],
   "source": [
    "from sklearn.preprocessing import LabelEncoder\n",
    "le = LabelEncoder()"
   ]
  },
  {
   "cell_type": "code",
   "execution_count": 7,
   "id": "dd35b4d4",
   "metadata": {
    "ExecuteTime": {
     "end_time": "2021-12-17T20:44:54.313150Z",
     "start_time": "2021-12-17T20:44:54.278814Z"
    }
   },
   "outputs": [
    {
     "data": {
      "text/html": [
       "<div>\n",
       "<style scoped>\n",
       "    .dataframe tbody tr th:only-of-type {\n",
       "        vertical-align: middle;\n",
       "    }\n",
       "\n",
       "    .dataframe tbody tr th {\n",
       "        vertical-align: top;\n",
       "    }\n",
       "\n",
       "    .dataframe thead th {\n",
       "        text-align: right;\n",
       "    }\n",
       "</style>\n",
       "<table border=\"1\" class=\"dataframe\">\n",
       "  <thead>\n",
       "    <tr style=\"text-align: right;\">\n",
       "      <th></th>\n",
       "      <th>id</th>\n",
       "      <th>diagnosis</th>\n",
       "      <th>radius_mean</th>\n",
       "      <th>texture_mean</th>\n",
       "      <th>perimeter_mean</th>\n",
       "      <th>area_mean</th>\n",
       "      <th>smoothness_mean</th>\n",
       "      <th>compactness_mean</th>\n",
       "      <th>concavity_mean</th>\n",
       "      <th>concave points_mean</th>\n",
       "      <th>...</th>\n",
       "      <th>texture_worst</th>\n",
       "      <th>perimeter_worst</th>\n",
       "      <th>area_worst</th>\n",
       "      <th>smoothness_worst</th>\n",
       "      <th>compactness_worst</th>\n",
       "      <th>concavity_worst</th>\n",
       "      <th>concave points_worst</th>\n",
       "      <th>symmetry_worst</th>\n",
       "      <th>fractal_dimension_worst</th>\n",
       "      <th>label</th>\n",
       "    </tr>\n",
       "  </thead>\n",
       "  <tbody>\n",
       "    <tr>\n",
       "      <th>416</th>\n",
       "      <td>905978</td>\n",
       "      <td>B</td>\n",
       "      <td>9.405</td>\n",
       "      <td>21.7</td>\n",
       "      <td>59.6</td>\n",
       "      <td>271.2</td>\n",
       "      <td>0.1044</td>\n",
       "      <td>0.06159</td>\n",
       "      <td>0.02047</td>\n",
       "      <td>0.01257</td>\n",
       "      <td>...</td>\n",
       "      <td>31.24</td>\n",
       "      <td>68.73</td>\n",
       "      <td>359.4</td>\n",
       "      <td>0.1526</td>\n",
       "      <td>0.1193</td>\n",
       "      <td>0.06141</td>\n",
       "      <td>0.0377</td>\n",
       "      <td>0.2872</td>\n",
       "      <td>0.08304</td>\n",
       "      <td>0</td>\n",
       "    </tr>\n",
       "  </tbody>\n",
       "</table>\n",
       "<p>1 rows × 33 columns</p>\n",
       "</div>"
      ],
      "text/plain": [
       "         id diagnosis  radius_mean  texture_mean  perimeter_mean  area_mean  \\\n",
       "416  905978         B        9.405          21.7            59.6      271.2   \n",
       "\n",
       "     smoothness_mean  compactness_mean  concavity_mean  concave points_mean  \\\n",
       "416           0.1044           0.06159         0.02047              0.01257   \n",
       "\n",
       "     ...  texture_worst  perimeter_worst  area_worst  smoothness_worst  \\\n",
       "416  ...          31.24            68.73       359.4            0.1526   \n",
       "\n",
       "     compactness_worst  concavity_worst  concave points_worst  symmetry_worst  \\\n",
       "416             0.1193          0.06141                0.0377          0.2872   \n",
       "\n",
       "     fractal_dimension_worst  label  \n",
       "416                  0.08304      0  \n",
       "\n",
       "[1 rows x 33 columns]"
      ]
     },
     "execution_count": 7,
     "metadata": {},
     "output_type": "execute_result"
    }
   ],
   "source": [
    "bcd['label'] = le.fit_transform(bcd['diagnosis'])\n",
    "bcd.sample()"
   ]
  },
  {
   "cell_type": "code",
   "execution_count": 8,
   "id": "06b0f606",
   "metadata": {
    "ExecuteTime": {
     "end_time": "2021-12-17T20:46:39.470899Z",
     "start_time": "2021-12-17T20:46:39.461957Z"
    }
   },
   "outputs": [
    {
     "data": {
      "text/plain": [
       "0    357\n",
       "1    212\n",
       "Name: label, dtype: int64"
      ]
     },
     "execution_count": 8,
     "metadata": {},
     "output_type": "execute_result"
    }
   ],
   "source": [
    "bcd.label.value_counts()"
   ]
  },
  {
   "cell_type": "code",
   "execution_count": 10,
   "id": "8fa12805",
   "metadata": {
    "ExecuteTime": {
     "end_time": "2021-12-17T20:55:50.750894Z",
     "start_time": "2021-12-17T20:55:50.745258Z"
    }
   },
   "outputs": [],
   "source": [
    "X = bcd.drop(['id','diagnosis','label'],axis= 1)\n",
    "y = bcd.label"
   ]
  },
  {
   "cell_type": "code",
   "execution_count": 38,
   "id": "22c93b9e",
   "metadata": {
    "ExecuteTime": {
     "end_time": "2021-12-17T21:15:45.141106Z",
     "start_time": "2021-12-17T21:15:45.135228Z"
    }
   },
   "outputs": [],
   "source": [
    "X_train,X_test,y_train,y_test = train_test_split(X,y,test_size=0.2,random_state=42)"
   ]
  },
  {
   "cell_type": "code",
   "execution_count": 39,
   "id": "0feb8eae",
   "metadata": {
    "ExecuteTime": {
     "end_time": "2021-12-17T21:15:45.914995Z",
     "start_time": "2021-12-17T21:15:45.891991Z"
    }
   },
   "outputs": [
    {
     "data": {
      "text/plain": [
       "LogisticRegression()"
      ]
     },
     "execution_count": 39,
     "metadata": {},
     "output_type": "execute_result"
    }
   ],
   "source": [
    "lr = LogisticRegression()\n",
    "lr.fit(X_train,y_train)"
   ]
  },
  {
   "cell_type": "code",
   "execution_count": 42,
   "id": "5fe69d01",
   "metadata": {
    "ExecuteTime": {
     "end_time": "2021-12-17T21:15:58.661591Z",
     "start_time": "2021-12-17T21:15:58.651722Z"
    }
   },
   "outputs": [
    {
     "data": {
      "text/plain": [
       "97.37"
      ]
     },
     "execution_count": 42,
     "metadata": {},
     "output_type": "execute_result"
    }
   ],
   "source": [
    "y_pred = lr.predict(X_test)\n",
    "x = (accuracy_score(y_test,y_pred)*100).round(2)\n",
    "x"
   ]
  },
  {
   "cell_type": "markdown",
   "id": "dd16d6ce",
   "metadata": {},
   "source": [
    "__PCA__"
   ]
  },
  {
   "cell_type": "code",
   "execution_count": 15,
   "id": "cf44905e",
   "metadata": {
    "ExecuteTime": {
     "end_time": "2021-12-17T21:05:10.416035Z",
     "start_time": "2021-12-17T21:05:10.374555Z"
    }
   },
   "outputs": [
    {
     "data": {
      "text/plain": [
       "array([[ 1.09706398, -2.07333501,  1.26993369, ...,  2.29607613,\n",
       "         2.75062224,  1.93701461],\n",
       "       [ 1.82982061, -0.35363241,  1.68595471, ...,  1.0870843 ,\n",
       "        -0.24388967,  0.28118999],\n",
       "       [ 1.57988811,  0.45618695,  1.56650313, ...,  1.95500035,\n",
       "         1.152255  ,  0.20139121],\n",
       "       ...,\n",
       "       [ 0.70228425,  2.0455738 ,  0.67267578, ...,  0.41406869,\n",
       "        -1.10454895, -0.31840916],\n",
       "       [ 1.83834103,  2.33645719,  1.98252415, ...,  2.28998549,\n",
       "         1.91908301,  2.21963528],\n",
       "       [-1.80840125,  1.22179204, -1.81438851, ..., -1.74506282,\n",
       "        -0.04813821, -0.75120669]])"
      ]
     },
     "execution_count": 15,
     "metadata": {},
     "output_type": "execute_result"
    }
   ],
   "source": [
    "from sklearn.preprocessing import StandardScaler\n",
    "X= StandardScaler().fit_transform(X)\n",
    "X"
   ]
  },
  {
   "cell_type": "code",
   "execution_count": 21,
   "id": "c15e1c3f",
   "metadata": {
    "ExecuteTime": {
     "end_time": "2021-12-17T21:06:47.751037Z",
     "start_time": "2021-12-17T21:06:47.739176Z"
    }
   },
   "outputs": [],
   "source": [
    "pca= PCA(n_components=10)\n",
    "principalComponents = pca.fit_transform(X)\n",
    "principalDf = pd.DataFrame(data = principalComponents)"
   ]
  },
  {
   "cell_type": "code",
   "execution_count": 22,
   "id": "f229fc3b",
   "metadata": {
    "ExecuteTime": {
     "end_time": "2021-12-17T21:06:48.245512Z",
     "start_time": "2021-12-17T21:06:48.239292Z"
    }
   },
   "outputs": [
    {
     "data": {
      "text/plain": [
       "array([44.27202561, 63.24320765, 72.63637091, 79.23850582, 84.73427432,\n",
       "       88.75879636, 91.00953007, 92.59825387, 93.98790324, 95.15688143])"
      ]
     },
     "execution_count": 22,
     "metadata": {},
     "output_type": "execute_result"
    }
   ],
   "source": [
    "np.cumsum(pca.explained_variance_ratio_*100)"
   ]
  },
  {
   "cell_type": "code",
   "execution_count": 23,
   "id": "add2761f",
   "metadata": {
    "ExecuteTime": {
     "end_time": "2021-12-17T21:07:07.682174Z",
     "start_time": "2021-12-17T21:07:07.664836Z"
    }
   },
   "outputs": [
    {
     "data": {
      "text/html": [
       "<div>\n",
       "<style scoped>\n",
       "    .dataframe tbody tr th:only-of-type {\n",
       "        vertical-align: middle;\n",
       "    }\n",
       "\n",
       "    .dataframe tbody tr th {\n",
       "        vertical-align: top;\n",
       "    }\n",
       "\n",
       "    .dataframe thead th {\n",
       "        text-align: right;\n",
       "    }\n",
       "</style>\n",
       "<table border=\"1\" class=\"dataframe\">\n",
       "  <thead>\n",
       "    <tr style=\"text-align: right;\">\n",
       "      <th></th>\n",
       "      <th>0</th>\n",
       "      <th>1</th>\n",
       "      <th>2</th>\n",
       "      <th>3</th>\n",
       "      <th>4</th>\n",
       "      <th>5</th>\n",
       "      <th>6</th>\n",
       "      <th>7</th>\n",
       "      <th>8</th>\n",
       "      <th>9</th>\n",
       "    </tr>\n",
       "  </thead>\n",
       "  <tbody>\n",
       "    <tr>\n",
       "      <th>0</th>\n",
       "      <td>9.192837</td>\n",
       "      <td>1.948583</td>\n",
       "      <td>-1.123166</td>\n",
       "      <td>3.633731</td>\n",
       "      <td>-1.195110</td>\n",
       "      <td>1.411424</td>\n",
       "      <td>2.159370</td>\n",
       "      <td>-0.398406</td>\n",
       "      <td>-0.157118</td>\n",
       "      <td>-0.877399</td>\n",
       "    </tr>\n",
       "    <tr>\n",
       "      <th>1</th>\n",
       "      <td>2.387802</td>\n",
       "      <td>-3.768172</td>\n",
       "      <td>-0.529293</td>\n",
       "      <td>1.118264</td>\n",
       "      <td>0.621775</td>\n",
       "      <td>0.028656</td>\n",
       "      <td>0.013358</td>\n",
       "      <td>0.240987</td>\n",
       "      <td>-0.711907</td>\n",
       "      <td>1.106993</td>\n",
       "    </tr>\n",
       "    <tr>\n",
       "      <th>2</th>\n",
       "      <td>5.733896</td>\n",
       "      <td>-1.075174</td>\n",
       "      <td>-0.551748</td>\n",
       "      <td>0.912083</td>\n",
       "      <td>-0.177086</td>\n",
       "      <td>0.541452</td>\n",
       "      <td>-0.668165</td>\n",
       "      <td>0.097361</td>\n",
       "      <td>0.024061</td>\n",
       "      <td>0.454205</td>\n",
       "    </tr>\n",
       "    <tr>\n",
       "      <th>3</th>\n",
       "      <td>7.122953</td>\n",
       "      <td>10.275589</td>\n",
       "      <td>-3.232790</td>\n",
       "      <td>0.152547</td>\n",
       "      <td>-2.960878</td>\n",
       "      <td>3.053421</td>\n",
       "      <td>1.429913</td>\n",
       "      <td>1.059547</td>\n",
       "      <td>-1.405447</td>\n",
       "      <td>-1.117080</td>\n",
       "    </tr>\n",
       "    <tr>\n",
       "      <th>4</th>\n",
       "      <td>3.935302</td>\n",
       "      <td>-1.948072</td>\n",
       "      <td>1.389767</td>\n",
       "      <td>2.940639</td>\n",
       "      <td>0.546747</td>\n",
       "      <td>-1.226495</td>\n",
       "      <td>-0.936213</td>\n",
       "      <td>0.636383</td>\n",
       "      <td>-0.263803</td>\n",
       "      <td>0.377737</td>\n",
       "    </tr>\n",
       "    <tr>\n",
       "      <th>...</th>\n",
       "      <td>...</td>\n",
       "      <td>...</td>\n",
       "      <td>...</td>\n",
       "      <td>...</td>\n",
       "      <td>...</td>\n",
       "      <td>...</td>\n",
       "      <td>...</td>\n",
       "      <td>...</td>\n",
       "      <td>...</td>\n",
       "      <td>...</td>\n",
       "    </tr>\n",
       "    <tr>\n",
       "      <th>564</th>\n",
       "      <td>6.439315</td>\n",
       "      <td>-3.576817</td>\n",
       "      <td>2.459487</td>\n",
       "      <td>1.177314</td>\n",
       "      <td>-0.074824</td>\n",
       "      <td>-2.375193</td>\n",
       "      <td>-0.596130</td>\n",
       "      <td>-0.035469</td>\n",
       "      <td>0.987930</td>\n",
       "      <td>0.256994</td>\n",
       "    </tr>\n",
       "    <tr>\n",
       "      <th>565</th>\n",
       "      <td>3.793382</td>\n",
       "      <td>-3.584048</td>\n",
       "      <td>2.088476</td>\n",
       "      <td>-2.506028</td>\n",
       "      <td>-0.510723</td>\n",
       "      <td>-0.246710</td>\n",
       "      <td>-0.716326</td>\n",
       "      <td>-1.113361</td>\n",
       "      <td>-0.105208</td>\n",
       "      <td>-0.108636</td>\n",
       "    </tr>\n",
       "    <tr>\n",
       "      <th>566</th>\n",
       "      <td>1.256179</td>\n",
       "      <td>-1.902297</td>\n",
       "      <td>0.562731</td>\n",
       "      <td>-2.089227</td>\n",
       "      <td>1.809991</td>\n",
       "      <td>-0.534447</td>\n",
       "      <td>-0.192758</td>\n",
       "      <td>0.341883</td>\n",
       "      <td>0.393915</td>\n",
       "      <td>0.520871</td>\n",
       "    </tr>\n",
       "    <tr>\n",
       "      <th>567</th>\n",
       "      <td>10.374794</td>\n",
       "      <td>1.672010</td>\n",
       "      <td>-1.877029</td>\n",
       "      <td>-2.356031</td>\n",
       "      <td>-0.033742</td>\n",
       "      <td>0.567936</td>\n",
       "      <td>0.223082</td>\n",
       "      <td>-0.280235</td>\n",
       "      <td>-0.542033</td>\n",
       "      <td>-0.089293</td>\n",
       "    </tr>\n",
       "    <tr>\n",
       "      <th>568</th>\n",
       "      <td>-5.475243</td>\n",
       "      <td>-0.670637</td>\n",
       "      <td>1.490443</td>\n",
       "      <td>-2.299157</td>\n",
       "      <td>-0.184703</td>\n",
       "      <td>1.617837</td>\n",
       "      <td>1.698953</td>\n",
       "      <td>1.046349</td>\n",
       "      <td>0.374098</td>\n",
       "      <td>-0.047770</td>\n",
       "    </tr>\n",
       "  </tbody>\n",
       "</table>\n",
       "<p>569 rows × 10 columns</p>\n",
       "</div>"
      ],
      "text/plain": [
       "             0          1         2         3         4         5         6  \\\n",
       "0     9.192837   1.948583 -1.123166  3.633731 -1.195110  1.411424  2.159370   \n",
       "1     2.387802  -3.768172 -0.529293  1.118264  0.621775  0.028656  0.013358   \n",
       "2     5.733896  -1.075174 -0.551748  0.912083 -0.177086  0.541452 -0.668165   \n",
       "3     7.122953  10.275589 -3.232790  0.152547 -2.960878  3.053421  1.429913   \n",
       "4     3.935302  -1.948072  1.389767  2.940639  0.546747 -1.226495 -0.936213   \n",
       "..         ...        ...       ...       ...       ...       ...       ...   \n",
       "564   6.439315  -3.576817  2.459487  1.177314 -0.074824 -2.375193 -0.596130   \n",
       "565   3.793382  -3.584048  2.088476 -2.506028 -0.510723 -0.246710 -0.716326   \n",
       "566   1.256179  -1.902297  0.562731 -2.089227  1.809991 -0.534447 -0.192758   \n",
       "567  10.374794   1.672010 -1.877029 -2.356031 -0.033742  0.567936  0.223082   \n",
       "568  -5.475243  -0.670637  1.490443 -2.299157 -0.184703  1.617837  1.698953   \n",
       "\n",
       "            7         8         9  \n",
       "0   -0.398406 -0.157118 -0.877399  \n",
       "1    0.240987 -0.711907  1.106993  \n",
       "2    0.097361  0.024061  0.454205  \n",
       "3    1.059547 -1.405447 -1.117080  \n",
       "4    0.636383 -0.263803  0.377737  \n",
       "..        ...       ...       ...  \n",
       "564 -0.035469  0.987930  0.256994  \n",
       "565 -1.113361 -0.105208 -0.108636  \n",
       "566  0.341883  0.393915  0.520871  \n",
       "567 -0.280235 -0.542033 -0.089293  \n",
       "568  1.046349  0.374098 -0.047770  \n",
       "\n",
       "[569 rows x 10 columns]"
      ]
     },
     "execution_count": 23,
     "metadata": {},
     "output_type": "execute_result"
    }
   ],
   "source": [
    "principalDf"
   ]
  },
  {
   "cell_type": "code",
   "execution_count": 24,
   "id": "8e84e1d3",
   "metadata": {
    "ExecuteTime": {
     "end_time": "2021-12-17T21:07:40.159155Z",
     "start_time": "2021-12-17T21:07:40.148831Z"
    }
   },
   "outputs": [],
   "source": [
    "finalDf = pd.concat([principalDf, bcd[['label']]], axis = 1)"
   ]
  },
  {
   "cell_type": "code",
   "execution_count": 25,
   "id": "4cbcbc7e",
   "metadata": {
    "ExecuteTime": {
     "end_time": "2021-12-17T21:07:44.654898Z",
     "start_time": "2021-12-17T21:07:44.629499Z"
    }
   },
   "outputs": [
    {
     "data": {
      "text/html": [
       "<div>\n",
       "<style scoped>\n",
       "    .dataframe tbody tr th:only-of-type {\n",
       "        vertical-align: middle;\n",
       "    }\n",
       "\n",
       "    .dataframe tbody tr th {\n",
       "        vertical-align: top;\n",
       "    }\n",
       "\n",
       "    .dataframe thead th {\n",
       "        text-align: right;\n",
       "    }\n",
       "</style>\n",
       "<table border=\"1\" class=\"dataframe\">\n",
       "  <thead>\n",
       "    <tr style=\"text-align: right;\">\n",
       "      <th></th>\n",
       "      <th>0</th>\n",
       "      <th>1</th>\n",
       "      <th>2</th>\n",
       "      <th>3</th>\n",
       "      <th>4</th>\n",
       "      <th>5</th>\n",
       "      <th>6</th>\n",
       "      <th>7</th>\n",
       "      <th>8</th>\n",
       "      <th>9</th>\n",
       "      <th>label</th>\n",
       "    </tr>\n",
       "  </thead>\n",
       "  <tbody>\n",
       "    <tr>\n",
       "      <th>0</th>\n",
       "      <td>9.192837</td>\n",
       "      <td>1.948583</td>\n",
       "      <td>-1.123166</td>\n",
       "      <td>3.633731</td>\n",
       "      <td>-1.195110</td>\n",
       "      <td>1.411424</td>\n",
       "      <td>2.159370</td>\n",
       "      <td>-0.398406</td>\n",
       "      <td>-0.157118</td>\n",
       "      <td>-0.877399</td>\n",
       "      <td>1</td>\n",
       "    </tr>\n",
       "    <tr>\n",
       "      <th>1</th>\n",
       "      <td>2.387802</td>\n",
       "      <td>-3.768172</td>\n",
       "      <td>-0.529293</td>\n",
       "      <td>1.118264</td>\n",
       "      <td>0.621775</td>\n",
       "      <td>0.028656</td>\n",
       "      <td>0.013358</td>\n",
       "      <td>0.240987</td>\n",
       "      <td>-0.711907</td>\n",
       "      <td>1.106993</td>\n",
       "      <td>1</td>\n",
       "    </tr>\n",
       "    <tr>\n",
       "      <th>2</th>\n",
       "      <td>5.733896</td>\n",
       "      <td>-1.075174</td>\n",
       "      <td>-0.551748</td>\n",
       "      <td>0.912083</td>\n",
       "      <td>-0.177086</td>\n",
       "      <td>0.541452</td>\n",
       "      <td>-0.668165</td>\n",
       "      <td>0.097361</td>\n",
       "      <td>0.024061</td>\n",
       "      <td>0.454205</td>\n",
       "      <td>1</td>\n",
       "    </tr>\n",
       "    <tr>\n",
       "      <th>3</th>\n",
       "      <td>7.122953</td>\n",
       "      <td>10.275589</td>\n",
       "      <td>-3.232790</td>\n",
       "      <td>0.152547</td>\n",
       "      <td>-2.960878</td>\n",
       "      <td>3.053421</td>\n",
       "      <td>1.429913</td>\n",
       "      <td>1.059547</td>\n",
       "      <td>-1.405447</td>\n",
       "      <td>-1.117080</td>\n",
       "      <td>1</td>\n",
       "    </tr>\n",
       "    <tr>\n",
       "      <th>4</th>\n",
       "      <td>3.935302</td>\n",
       "      <td>-1.948072</td>\n",
       "      <td>1.389767</td>\n",
       "      <td>2.940639</td>\n",
       "      <td>0.546747</td>\n",
       "      <td>-1.226495</td>\n",
       "      <td>-0.936213</td>\n",
       "      <td>0.636383</td>\n",
       "      <td>-0.263803</td>\n",
       "      <td>0.377737</td>\n",
       "      <td>1</td>\n",
       "    </tr>\n",
       "    <tr>\n",
       "      <th>...</th>\n",
       "      <td>...</td>\n",
       "      <td>...</td>\n",
       "      <td>...</td>\n",
       "      <td>...</td>\n",
       "      <td>...</td>\n",
       "      <td>...</td>\n",
       "      <td>...</td>\n",
       "      <td>...</td>\n",
       "      <td>...</td>\n",
       "      <td>...</td>\n",
       "      <td>...</td>\n",
       "    </tr>\n",
       "    <tr>\n",
       "      <th>564</th>\n",
       "      <td>6.439315</td>\n",
       "      <td>-3.576817</td>\n",
       "      <td>2.459487</td>\n",
       "      <td>1.177314</td>\n",
       "      <td>-0.074824</td>\n",
       "      <td>-2.375193</td>\n",
       "      <td>-0.596130</td>\n",
       "      <td>-0.035469</td>\n",
       "      <td>0.987930</td>\n",
       "      <td>0.256994</td>\n",
       "      <td>1</td>\n",
       "    </tr>\n",
       "    <tr>\n",
       "      <th>565</th>\n",
       "      <td>3.793382</td>\n",
       "      <td>-3.584048</td>\n",
       "      <td>2.088476</td>\n",
       "      <td>-2.506028</td>\n",
       "      <td>-0.510723</td>\n",
       "      <td>-0.246710</td>\n",
       "      <td>-0.716326</td>\n",
       "      <td>-1.113361</td>\n",
       "      <td>-0.105208</td>\n",
       "      <td>-0.108636</td>\n",
       "      <td>1</td>\n",
       "    </tr>\n",
       "    <tr>\n",
       "      <th>566</th>\n",
       "      <td>1.256179</td>\n",
       "      <td>-1.902297</td>\n",
       "      <td>0.562731</td>\n",
       "      <td>-2.089227</td>\n",
       "      <td>1.809991</td>\n",
       "      <td>-0.534447</td>\n",
       "      <td>-0.192758</td>\n",
       "      <td>0.341883</td>\n",
       "      <td>0.393915</td>\n",
       "      <td>0.520871</td>\n",
       "      <td>1</td>\n",
       "    </tr>\n",
       "    <tr>\n",
       "      <th>567</th>\n",
       "      <td>10.374794</td>\n",
       "      <td>1.672010</td>\n",
       "      <td>-1.877029</td>\n",
       "      <td>-2.356031</td>\n",
       "      <td>-0.033742</td>\n",
       "      <td>0.567936</td>\n",
       "      <td>0.223082</td>\n",
       "      <td>-0.280235</td>\n",
       "      <td>-0.542033</td>\n",
       "      <td>-0.089293</td>\n",
       "      <td>1</td>\n",
       "    </tr>\n",
       "    <tr>\n",
       "      <th>568</th>\n",
       "      <td>-5.475243</td>\n",
       "      <td>-0.670637</td>\n",
       "      <td>1.490443</td>\n",
       "      <td>-2.299157</td>\n",
       "      <td>-0.184703</td>\n",
       "      <td>1.617837</td>\n",
       "      <td>1.698953</td>\n",
       "      <td>1.046349</td>\n",
       "      <td>0.374098</td>\n",
       "      <td>-0.047770</td>\n",
       "      <td>0</td>\n",
       "    </tr>\n",
       "  </tbody>\n",
       "</table>\n",
       "<p>569 rows × 11 columns</p>\n",
       "</div>"
      ],
      "text/plain": [
       "             0          1         2         3         4         5         6  \\\n",
       "0     9.192837   1.948583 -1.123166  3.633731 -1.195110  1.411424  2.159370   \n",
       "1     2.387802  -3.768172 -0.529293  1.118264  0.621775  0.028656  0.013358   \n",
       "2     5.733896  -1.075174 -0.551748  0.912083 -0.177086  0.541452 -0.668165   \n",
       "3     7.122953  10.275589 -3.232790  0.152547 -2.960878  3.053421  1.429913   \n",
       "4     3.935302  -1.948072  1.389767  2.940639  0.546747 -1.226495 -0.936213   \n",
       "..         ...        ...       ...       ...       ...       ...       ...   \n",
       "564   6.439315  -3.576817  2.459487  1.177314 -0.074824 -2.375193 -0.596130   \n",
       "565   3.793382  -3.584048  2.088476 -2.506028 -0.510723 -0.246710 -0.716326   \n",
       "566   1.256179  -1.902297  0.562731 -2.089227  1.809991 -0.534447 -0.192758   \n",
       "567  10.374794   1.672010 -1.877029 -2.356031 -0.033742  0.567936  0.223082   \n",
       "568  -5.475243  -0.670637  1.490443 -2.299157 -0.184703  1.617837  1.698953   \n",
       "\n",
       "            7         8         9  label  \n",
       "0   -0.398406 -0.157118 -0.877399      1  \n",
       "1    0.240987 -0.711907  1.106993      1  \n",
       "2    0.097361  0.024061  0.454205      1  \n",
       "3    1.059547 -1.405447 -1.117080      1  \n",
       "4    0.636383 -0.263803  0.377737      1  \n",
       "..        ...       ...       ...    ...  \n",
       "564 -0.035469  0.987930  0.256994      1  \n",
       "565 -1.113361 -0.105208 -0.108636      1  \n",
       "566  0.341883  0.393915  0.520871      1  \n",
       "567 -0.280235 -0.542033 -0.089293      1  \n",
       "568  1.046349  0.374098 -0.047770      0  \n",
       "\n",
       "[569 rows x 11 columns]"
      ]
     },
     "execution_count": 25,
     "metadata": {},
     "output_type": "execute_result"
    }
   ],
   "source": [
    "finalDf"
   ]
  },
  {
   "cell_type": "code",
   "execution_count": 26,
   "id": "ece8a390",
   "metadata": {
    "ExecuteTime": {
     "end_time": "2021-12-17T21:08:13.784694Z",
     "start_time": "2021-12-17T21:08:13.768196Z"
    }
   },
   "outputs": [
    {
     "data": {
      "text/html": [
       "<div>\n",
       "<style scoped>\n",
       "    .dataframe tbody tr th:only-of-type {\n",
       "        vertical-align: middle;\n",
       "    }\n",
       "\n",
       "    .dataframe tbody tr th {\n",
       "        vertical-align: top;\n",
       "    }\n",
       "\n",
       "    .dataframe thead th {\n",
       "        text-align: right;\n",
       "    }\n",
       "</style>\n",
       "<table border=\"1\" class=\"dataframe\">\n",
       "  <thead>\n",
       "    <tr style=\"text-align: right;\">\n",
       "      <th></th>\n",
       "      <th>pca_0</th>\n",
       "      <th>pca_1</th>\n",
       "      <th>pca_2</th>\n",
       "      <th>pca_3</th>\n",
       "      <th>pca_4</th>\n",
       "      <th>pca_5</th>\n",
       "      <th>pca_6</th>\n",
       "      <th>pca_7</th>\n",
       "      <th>pca_8</th>\n",
       "      <th>pca_9</th>\n",
       "      <th>pca_label</th>\n",
       "    </tr>\n",
       "  </thead>\n",
       "  <tbody>\n",
       "    <tr>\n",
       "      <th>273</th>\n",
       "      <td>-3.639136</td>\n",
       "      <td>1.589587</td>\n",
       "      <td>0.71628</td>\n",
       "      <td>0.670385</td>\n",
       "      <td>-1.577331</td>\n",
       "      <td>-0.745273</td>\n",
       "      <td>-0.306547</td>\n",
       "      <td>0.837056</td>\n",
       "      <td>0.368473</td>\n",
       "      <td>1.083042</td>\n",
       "      <td>0</td>\n",
       "    </tr>\n",
       "  </tbody>\n",
       "</table>\n",
       "</div>"
      ],
      "text/plain": [
       "        pca_0     pca_1    pca_2     pca_3     pca_4     pca_5     pca_6  \\\n",
       "273 -3.639136  1.589587  0.71628  0.670385 -1.577331 -0.745273 -0.306547   \n",
       "\n",
       "        pca_7     pca_8     pca_9  pca_label  \n",
       "273  0.837056  0.368473  1.083042          0  "
      ]
     },
     "execution_count": 26,
     "metadata": {},
     "output_type": "execute_result"
    }
   ],
   "source": [
    "finalDf = finalDf.add_prefix('pca_')\n",
    "finalDf.sample()"
   ]
  },
  {
   "cell_type": "code",
   "execution_count": 27,
   "id": "1740db2f",
   "metadata": {
    "ExecuteTime": {
     "end_time": "2021-12-17T21:08:43.775262Z",
     "start_time": "2021-12-17T21:08:43.762692Z"
    }
   },
   "outputs": [],
   "source": [
    "X_new = finalDf.drop('pca_label',axis=1)\n",
    "y_new = finalDf.pca_label"
   ]
  },
  {
   "cell_type": "code",
   "execution_count": 43,
   "id": "6405c10f",
   "metadata": {
    "ExecuteTime": {
     "end_time": "2021-12-17T21:17:32.916984Z",
     "start_time": "2021-12-17T21:17:32.907059Z"
    }
   },
   "outputs": [],
   "source": [
    "X_train_new,X_test_new,y_train_new,y_test_new = train_test_split(X_new,y_new,test_size=0.20,random_state=42)"
   ]
  },
  {
   "cell_type": "code",
   "execution_count": 44,
   "id": "c8b84d7b",
   "metadata": {
    "ExecuteTime": {
     "end_time": "2021-12-17T21:17:33.462523Z",
     "start_time": "2021-12-17T21:17:33.439980Z"
    }
   },
   "outputs": [
    {
     "data": {
      "text/plain": [
       "LogisticRegression(solver='newton-cg')"
      ]
     },
     "execution_count": 44,
     "metadata": {},
     "output_type": "execute_result"
    }
   ],
   "source": [
    "lr = LogisticRegression(solver='newton-cg')\n",
    "lr.fit(X_train_new,y_train_new)"
   ]
  },
  {
   "cell_type": "code",
   "execution_count": 46,
   "id": "85936164",
   "metadata": {
    "ExecuteTime": {
     "end_time": "2021-12-17T21:17:59.828107Z",
     "start_time": "2021-12-17T21:17:59.817518Z"
    }
   },
   "outputs": [
    {
     "data": {
      "text/plain": [
       "98.25"
      ]
     },
     "execution_count": 46,
     "metadata": {},
     "output_type": "execute_result"
    }
   ],
   "source": [
    "y_pred_new = lr.predict(X_test_new)\n",
    "y = (accuracy_score(y_test_new,y_pred_new)*100).round(2)\n",
    "y"
   ]
  },
  {
   "cell_type": "code",
   "execution_count": 32,
   "id": "f8a114c9",
   "metadata": {
    "ExecuteTime": {
     "end_time": "2021-12-17T21:10:53.664174Z",
     "start_time": "2021-12-17T21:10:53.658947Z"
    }
   },
   "outputs": [],
   "source": [
    "x = confusion_matrix(y_test_new,y_pred_new)"
   ]
  },
  {
   "cell_type": "code",
   "execution_count": 33,
   "id": "d08057ad",
   "metadata": {
    "ExecuteTime": {
     "end_time": "2021-12-17T21:11:00.802431Z",
     "start_time": "2021-12-17T21:11:00.791711Z"
    }
   },
   "outputs": [
    {
     "data": {
      "text/html": [
       "<div>\n",
       "<style scoped>\n",
       "    .dataframe tbody tr th:only-of-type {\n",
       "        vertical-align: middle;\n",
       "    }\n",
       "\n",
       "    .dataframe tbody tr th {\n",
       "        vertical-align: top;\n",
       "    }\n",
       "\n",
       "    .dataframe thead th {\n",
       "        text-align: right;\n",
       "    }\n",
       "</style>\n",
       "<table border=\"1\" class=\"dataframe\">\n",
       "  <thead>\n",
       "    <tr style=\"text-align: right;\">\n",
       "      <th></th>\n",
       "      <th>0</th>\n",
       "      <th>1</th>\n",
       "    </tr>\n",
       "  </thead>\n",
       "  <tbody>\n",
       "    <tr>\n",
       "      <th>0</th>\n",
       "      <td>70</td>\n",
       "      <td>1</td>\n",
       "    </tr>\n",
       "    <tr>\n",
       "      <th>1</th>\n",
       "      <td>1</td>\n",
       "      <td>42</td>\n",
       "    </tr>\n",
       "  </tbody>\n",
       "</table>\n",
       "</div>"
      ],
      "text/plain": [
       "    0   1\n",
       "0  70   1\n",
       "1   1  42"
      ]
     },
     "execution_count": 33,
     "metadata": {},
     "output_type": "execute_result"
    }
   ],
   "source": [
    "df_cm = pd.DataFrame(confusion_matrix(y_test_new,y_pred_new))\n",
    "df_cm"
   ]
  },
  {
   "cell_type": "markdown",
   "id": "ed0f83c2",
   "metadata": {},
   "source": [
    "__LDA__"
   ]
  },
  {
   "cell_type": "code",
   "execution_count": 48,
   "id": "9217e474",
   "metadata": {
    "ExecuteTime": {
     "end_time": "2021-12-17T21:18:37.515469Z",
     "start_time": "2021-12-17T21:18:37.503743Z"
    }
   },
   "outputs": [],
   "source": [
    "from sklearn.discriminant_analysis import LinearDiscriminantAnalysis\n",
    "lda = LinearDiscriminantAnalysis()\n",
    "X_train = lda.fit_transform(X_train, y_train)\n",
    "X_test = lda.transform(X_test)"
   ]
  },
  {
   "cell_type": "code",
   "execution_count": 49,
   "id": "063b48ce",
   "metadata": {
    "ExecuteTime": {
     "end_time": "2021-12-17T21:18:37.793824Z",
     "start_time": "2021-12-17T21:18:37.778544Z"
    }
   },
   "outputs": [
    {
     "data": {
      "text/plain": [
       "LogisticRegression(solver='newton-cg')"
      ]
     },
     "execution_count": 49,
     "metadata": {},
     "output_type": "execute_result"
    }
   ],
   "source": [
    "lg = LogisticRegression(solver='newton-cg')\n",
    "lg.fit(X_train,y_train)"
   ]
  },
  {
   "cell_type": "code",
   "execution_count": 51,
   "id": "9f1741ea",
   "metadata": {
    "ExecuteTime": {
     "end_time": "2021-12-17T21:18:42.093209Z",
     "start_time": "2021-12-17T21:18:42.083880Z"
    }
   },
   "outputs": [
    {
     "data": {
      "text/plain": [
       "94.74"
      ]
     },
     "execution_count": 51,
     "metadata": {},
     "output_type": "execute_result"
    }
   ],
   "source": [
    "y_pred_lda = lg.predict(X_test)\n",
    "z = (accuracy_score(y_test,y_pred_lda)*100).round(2)\n",
    "z"
   ]
  },
  {
   "cell_type": "code",
   "execution_count": 54,
   "id": "02e0879b",
   "metadata": {
    "ExecuteTime": {
     "end_time": "2021-12-17T21:19:45.088621Z",
     "start_time": "2021-12-17T21:19:45.076719Z"
    }
   },
   "outputs": [
    {
     "data": {
      "text/html": [
       "<div>\n",
       "<style scoped>\n",
       "    .dataframe tbody tr th:only-of-type {\n",
       "        vertical-align: middle;\n",
       "    }\n",
       "\n",
       "    .dataframe tbody tr th {\n",
       "        vertical-align: top;\n",
       "    }\n",
       "\n",
       "    .dataframe thead th {\n",
       "        text-align: right;\n",
       "    }\n",
       "</style>\n",
       "<table border=\"1\" class=\"dataframe\">\n",
       "  <thead>\n",
       "    <tr style=\"text-align: right;\">\n",
       "      <th></th>\n",
       "      <th>Model</th>\n",
       "      <th>Accuracy in percentage %</th>\n",
       "    </tr>\n",
       "  </thead>\n",
       "  <tbody>\n",
       "    <tr>\n",
       "      <th>0</th>\n",
       "      <td>Logistic Regression</td>\n",
       "      <td>97.37</td>\n",
       "    </tr>\n",
       "    <tr>\n",
       "      <th>1</th>\n",
       "      <td>Logistic Regression with PCA</td>\n",
       "      <td>98.25</td>\n",
       "    </tr>\n",
       "    <tr>\n",
       "      <th>2</th>\n",
       "      <td>Logistic Regression with LDA</td>\n",
       "      <td>94.74</td>\n",
       "    </tr>\n",
       "  </tbody>\n",
       "</table>\n",
       "</div>"
      ],
      "text/plain": [
       "                          Model  Accuracy in percentage %\n",
       "0           Logistic Regression                     97.37\n",
       "1  Logistic Regression with PCA                     98.25\n",
       "2  Logistic Regression with LDA                     94.74"
      ]
     },
     "execution_count": 54,
     "metadata": {},
     "output_type": "execute_result"
    }
   ],
   "source": [
    "df = pd.DataFrame({'Model':['Logistic Regression','Logistic Regression with PCA','Logistic Regression with LDA'],\n",
    "                  'Accuracy in percentage %':[x,y,z]})\n",
    "df"
   ]
  },
  {
   "cell_type": "code",
   "execution_count": null,
   "id": "e0a04f78",
   "metadata": {},
   "outputs": [],
   "source": []
  }
 ],
 "metadata": {
  "hide_input": false,
  "kernelspec": {
   "display_name": "Python 3 (ipykernel)",
   "language": "python",
   "name": "python3"
  },
  "language_info": {
   "codemirror_mode": {
    "name": "ipython",
    "version": 3
   },
   "file_extension": ".py",
   "mimetype": "text/x-python",
   "name": "python",
   "nbconvert_exporter": "python",
   "pygments_lexer": "ipython3",
   "version": "3.7.4"
  },
  "toc": {
   "base_numbering": 1,
   "nav_menu": {},
   "number_sections": true,
   "sideBar": true,
   "skip_h1_title": false,
   "title_cell": "Table of Contents",
   "title_sidebar": "Contents",
   "toc_cell": false,
   "toc_position": {},
   "toc_section_display": true,
   "toc_window_display": false
  },
  "varInspector": {
   "cols": {
    "lenName": 16,
    "lenType": 16,
    "lenVar": 40
   },
   "kernels_config": {
    "python": {
     "delete_cmd_postfix": "",
     "delete_cmd_prefix": "del ",
     "library": "var_list.py",
     "varRefreshCmd": "print(var_dic_list())"
    },
    "r": {
     "delete_cmd_postfix": ") ",
     "delete_cmd_prefix": "rm(",
     "library": "var_list.r",
     "varRefreshCmd": "cat(var_dic_list()) "
    }
   },
   "types_to_exclude": [
    "module",
    "function",
    "builtin_function_or_method",
    "instance",
    "_Feature"
   ],
   "window_display": false
  }
 },
 "nbformat": 4,
 "nbformat_minor": 5
}
