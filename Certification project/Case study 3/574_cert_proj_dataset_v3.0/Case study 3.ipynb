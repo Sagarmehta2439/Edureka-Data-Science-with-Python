{
 "cells": [
  {
   "cell_type": "markdown",
   "id": "30716bbb",
   "metadata": {},
   "source": [
    "__Import the libraries__"
   ]
  },
  {
   "cell_type": "code",
   "execution_count": 13,
   "id": "5acb8520",
   "metadata": {
    "ExecuteTime": {
     "end_time": "2021-12-15T22:59:23.327455Z",
     "start_time": "2021-12-15T22:59:23.321559Z"
    }
   },
   "outputs": [],
   "source": [
    "import numpy as np \n",
    "import pandas as pd \n",
    "import matplotlib.pyplot as plt\n",
    "import seaborn as sns"
   ]
  },
  {
   "cell_type": "markdown",
   "id": "443000ea",
   "metadata": {},
   "source": [
    "__Import the Machine learning libraries__"
   ]
  },
  {
   "cell_type": "code",
   "execution_count": 14,
   "id": "c1cfff00",
   "metadata": {
    "ExecuteTime": {
     "end_time": "2021-12-15T22:59:23.343712Z",
     "start_time": "2021-12-15T22:59:23.335526Z"
    }
   },
   "outputs": [],
   "source": [
    "from sklearn.model_selection import train_test_split\n",
    "from sklearn.tree import DecisionTreeClassifier\n",
    "from sklearn.ensemble import RandomForestClassifier\n",
    "from sklearn.naive_bayes import GaussianNB\n",
    "from sklearn.svm import SVC\n",
    "from sklearn.metrics import accuracy_score,classification_report,confusion_matrix,log_loss"
   ]
  },
  {
   "cell_type": "markdown",
   "id": "41474849",
   "metadata": {},
   "source": [
    "__Read the dataset__"
   ]
  },
  {
   "cell_type": "code",
   "execution_count": 15,
   "id": "b8e62c48",
   "metadata": {
    "ExecuteTime": {
     "end_time": "2021-12-15T22:59:23.427174Z",
     "start_time": "2021-12-15T22:59:23.347280Z"
    }
   },
   "outputs": [
    {
     "data": {
      "text/html": [
       "<div>\n",
       "<style scoped>\n",
       "    .dataframe tbody tr th:only-of-type {\n",
       "        vertical-align: middle;\n",
       "    }\n",
       "\n",
       "    .dataframe tbody tr th {\n",
       "        vertical-align: top;\n",
       "    }\n",
       "\n",
       "    .dataframe thead th {\n",
       "        text-align: right;\n",
       "    }\n",
       "</style>\n",
       "<table border=\"1\" class=\"dataframe\">\n",
       "  <thead>\n",
       "    <tr style=\"text-align: right;\">\n",
       "      <th></th>\n",
       "      <th>id</th>\n",
       "      <th>species</th>\n",
       "      <th>margin1</th>\n",
       "      <th>margin2</th>\n",
       "      <th>margin3</th>\n",
       "      <th>margin4</th>\n",
       "      <th>margin5</th>\n",
       "      <th>margin6</th>\n",
       "      <th>margin7</th>\n",
       "      <th>margin8</th>\n",
       "      <th>...</th>\n",
       "      <th>texture55</th>\n",
       "      <th>texture56</th>\n",
       "      <th>texture57</th>\n",
       "      <th>texture58</th>\n",
       "      <th>texture59</th>\n",
       "      <th>texture60</th>\n",
       "      <th>texture61</th>\n",
       "      <th>texture62</th>\n",
       "      <th>texture63</th>\n",
       "      <th>texture64</th>\n",
       "    </tr>\n",
       "  </thead>\n",
       "  <tbody>\n",
       "    <tr>\n",
       "      <th>547</th>\n",
       "      <td>874</td>\n",
       "      <td>Magnolia_Salicifolia</td>\n",
       "      <td>0.033203</td>\n",
       "      <td>0.062500</td>\n",
       "      <td>0.013672</td>\n",
       "      <td>0.007812</td>\n",
       "      <td>0.000000</td>\n",
       "      <td>0.044922</td>\n",
       "      <td>0.015625</td>\n",
       "      <td>0.0</td>\n",
       "      <td>...</td>\n",
       "      <td>0.375980</td>\n",
       "      <td>0.000000</td>\n",
       "      <td>0.041992</td>\n",
       "      <td>0.000000</td>\n",
       "      <td>0.010742</td>\n",
       "      <td>0.000000</td>\n",
       "      <td>0.000000</td>\n",
       "      <td>0.000000</td>\n",
       "      <td>0.002930</td>\n",
       "      <td>0.013672</td>\n",
       "    </tr>\n",
       "    <tr>\n",
       "      <th>710</th>\n",
       "      <td>1142</td>\n",
       "      <td>Quercus_Crassifolia</td>\n",
       "      <td>0.013672</td>\n",
       "      <td>0.021484</td>\n",
       "      <td>0.058594</td>\n",
       "      <td>0.005859</td>\n",
       "      <td>0.005859</td>\n",
       "      <td>0.037109</td>\n",
       "      <td>0.019531</td>\n",
       "      <td>0.0</td>\n",
       "      <td>...</td>\n",
       "      <td>0.000000</td>\n",
       "      <td>0.000000</td>\n",
       "      <td>0.000000</td>\n",
       "      <td>0.005859</td>\n",
       "      <td>0.036133</td>\n",
       "      <td>0.000000</td>\n",
       "      <td>0.000000</td>\n",
       "      <td>0.000000</td>\n",
       "      <td>0.000000</td>\n",
       "      <td>0.000000</td>\n",
       "    </tr>\n",
       "    <tr>\n",
       "      <th>741</th>\n",
       "      <td>1194</td>\n",
       "      <td>Quercus_Imbricaria</td>\n",
       "      <td>0.044922</td>\n",
       "      <td>0.070312</td>\n",
       "      <td>0.023438</td>\n",
       "      <td>0.011719</td>\n",
       "      <td>0.005859</td>\n",
       "      <td>0.083984</td>\n",
       "      <td>0.019531</td>\n",
       "      <td>0.0</td>\n",
       "      <td>...</td>\n",
       "      <td>0.040039</td>\n",
       "      <td>0.003906</td>\n",
       "      <td>0.001953</td>\n",
       "      <td>0.002930</td>\n",
       "      <td>0.001953</td>\n",
       "      <td>0.003906</td>\n",
       "      <td>0.035156</td>\n",
       "      <td>0.030273</td>\n",
       "      <td>0.003906</td>\n",
       "      <td>0.027344</td>\n",
       "    </tr>\n",
       "    <tr>\n",
       "      <th>258</th>\n",
       "      <td>430</td>\n",
       "      <td>Liriodendron_Tulipifera</td>\n",
       "      <td>0.050781</td>\n",
       "      <td>0.121090</td>\n",
       "      <td>0.046875</td>\n",
       "      <td>0.001953</td>\n",
       "      <td>0.000000</td>\n",
       "      <td>0.113280</td>\n",
       "      <td>0.003906</td>\n",
       "      <td>0.0</td>\n",
       "      <td>...</td>\n",
       "      <td>0.000977</td>\n",
       "      <td>0.007812</td>\n",
       "      <td>0.000977</td>\n",
       "      <td>0.087891</td>\n",
       "      <td>0.014648</td>\n",
       "      <td>0.003906</td>\n",
       "      <td>0.000000</td>\n",
       "      <td>0.098633</td>\n",
       "      <td>0.000000</td>\n",
       "      <td>0.010742</td>\n",
       "    </tr>\n",
       "    <tr>\n",
       "      <th>177</th>\n",
       "      <td>311</td>\n",
       "      <td>Acer_Pictum</td>\n",
       "      <td>0.001953</td>\n",
       "      <td>0.001953</td>\n",
       "      <td>0.035156</td>\n",
       "      <td>0.109380</td>\n",
       "      <td>0.003906</td>\n",
       "      <td>0.000000</td>\n",
       "      <td>0.003906</td>\n",
       "      <td>0.0</td>\n",
       "      <td>...</td>\n",
       "      <td>0.134770</td>\n",
       "      <td>0.000000</td>\n",
       "      <td>0.034180</td>\n",
       "      <td>0.000000</td>\n",
       "      <td>0.000977</td>\n",
       "      <td>0.000000</td>\n",
       "      <td>0.000000</td>\n",
       "      <td>0.000000</td>\n",
       "      <td>0.000000</td>\n",
       "      <td>0.000977</td>\n",
       "    </tr>\n",
       "  </tbody>\n",
       "</table>\n",
       "<p>5 rows × 194 columns</p>\n",
       "</div>"
      ],
      "text/plain": [
       "       id                  species   margin1   margin2   margin3   margin4  \\\n",
       "547   874     Magnolia_Salicifolia  0.033203  0.062500  0.013672  0.007812   \n",
       "710  1142      Quercus_Crassifolia  0.013672  0.021484  0.058594  0.005859   \n",
       "741  1194       Quercus_Imbricaria  0.044922  0.070312  0.023438  0.011719   \n",
       "258   430  Liriodendron_Tulipifera  0.050781  0.121090  0.046875  0.001953   \n",
       "177   311              Acer_Pictum  0.001953  0.001953  0.035156  0.109380   \n",
       "\n",
       "      margin5   margin6   margin7  margin8  ...  texture55  texture56  \\\n",
       "547  0.000000  0.044922  0.015625      0.0  ...   0.375980   0.000000   \n",
       "710  0.005859  0.037109  0.019531      0.0  ...   0.000000   0.000000   \n",
       "741  0.005859  0.083984  0.019531      0.0  ...   0.040039   0.003906   \n",
       "258  0.000000  0.113280  0.003906      0.0  ...   0.000977   0.007812   \n",
       "177  0.003906  0.000000  0.003906      0.0  ...   0.134770   0.000000   \n",
       "\n",
       "     texture57  texture58  texture59  texture60  texture61  texture62  \\\n",
       "547   0.041992   0.000000   0.010742   0.000000   0.000000   0.000000   \n",
       "710   0.000000   0.005859   0.036133   0.000000   0.000000   0.000000   \n",
       "741   0.001953   0.002930   0.001953   0.003906   0.035156   0.030273   \n",
       "258   0.000977   0.087891   0.014648   0.003906   0.000000   0.098633   \n",
       "177   0.034180   0.000000   0.000977   0.000000   0.000000   0.000000   \n",
       "\n",
       "     texture63  texture64  \n",
       "547   0.002930   0.013672  \n",
       "710   0.000000   0.000000  \n",
       "741   0.003906   0.027344  \n",
       "258   0.000000   0.010742  \n",
       "177   0.000000   0.000977  \n",
       "\n",
       "[5 rows x 194 columns]"
      ]
     },
     "execution_count": 15,
     "metadata": {},
     "output_type": "execute_result"
    }
   ],
   "source": [
    "train = pd.read_csv('train.csv')\n",
    "train.sample(5)"
   ]
  },
  {
   "cell_type": "code",
   "execution_count": 16,
   "id": "464c42b6",
   "metadata": {
    "ExecuteTime": {
     "end_time": "2021-12-15T22:59:23.442352Z",
     "start_time": "2021-12-15T22:59:23.431889Z"
    }
   },
   "outputs": [
    {
     "data": {
      "text/plain": [
       "id           0\n",
       "species      0\n",
       "margin1      0\n",
       "margin2      0\n",
       "margin3      0\n",
       "            ..\n",
       "texture60    0\n",
       "texture61    0\n",
       "texture62    0\n",
       "texture63    0\n",
       "texture64    0\n",
       "Length: 194, dtype: int64"
      ]
     },
     "execution_count": 16,
     "metadata": {},
     "output_type": "execute_result"
    }
   ],
   "source": [
    "train.isnull().sum()"
   ]
  },
  {
   "cell_type": "code",
   "execution_count": 17,
   "id": "8e6340ad",
   "metadata": {
    "ExecuteTime": {
     "end_time": "2021-12-15T22:59:23.543669Z",
     "start_time": "2021-12-15T22:59:23.446500Z"
    }
   },
   "outputs": [
    {
     "data": {
      "text/html": [
       "<div>\n",
       "<style scoped>\n",
       "    .dataframe tbody tr th:only-of-type {\n",
       "        vertical-align: middle;\n",
       "    }\n",
       "\n",
       "    .dataframe tbody tr th {\n",
       "        vertical-align: top;\n",
       "    }\n",
       "\n",
       "    .dataframe thead th {\n",
       "        text-align: right;\n",
       "    }\n",
       "</style>\n",
       "<table border=\"1\" class=\"dataframe\">\n",
       "  <thead>\n",
       "    <tr style=\"text-align: right;\">\n",
       "      <th></th>\n",
       "      <th>id</th>\n",
       "      <th>margin1</th>\n",
       "      <th>margin2</th>\n",
       "      <th>margin3</th>\n",
       "      <th>margin4</th>\n",
       "      <th>margin5</th>\n",
       "      <th>margin6</th>\n",
       "      <th>margin7</th>\n",
       "      <th>margin8</th>\n",
       "      <th>margin9</th>\n",
       "      <th>...</th>\n",
       "      <th>texture55</th>\n",
       "      <th>texture56</th>\n",
       "      <th>texture57</th>\n",
       "      <th>texture58</th>\n",
       "      <th>texture59</th>\n",
       "      <th>texture60</th>\n",
       "      <th>texture61</th>\n",
       "      <th>texture62</th>\n",
       "      <th>texture63</th>\n",
       "      <th>texture64</th>\n",
       "    </tr>\n",
       "  </thead>\n",
       "  <tbody>\n",
       "    <tr>\n",
       "      <th>243</th>\n",
       "      <td>624</td>\n",
       "      <td>0.015625</td>\n",
       "      <td>0.039062</td>\n",
       "      <td>0.019531</td>\n",
       "      <td>0.035156</td>\n",
       "      <td>0.003906</td>\n",
       "      <td>0.029297</td>\n",
       "      <td>0.03125</td>\n",
       "      <td>0.0</td>\n",
       "      <td>0.0</td>\n",
       "      <td>...</td>\n",
       "      <td>0.027344</td>\n",
       "      <td>0.0</td>\n",
       "      <td>0.041016</td>\n",
       "      <td>0.0</td>\n",
       "      <td>0.010742</td>\n",
       "      <td>0.0</td>\n",
       "      <td>0.000977</td>\n",
       "      <td>0.001953</td>\n",
       "      <td>0.016602</td>\n",
       "      <td>0.020508</td>\n",
       "    </tr>\n",
       "  </tbody>\n",
       "</table>\n",
       "<p>1 rows × 193 columns</p>\n",
       "</div>"
      ],
      "text/plain": [
       "      id   margin1   margin2   margin3   margin4   margin5   margin6  margin7  \\\n",
       "243  624  0.015625  0.039062  0.019531  0.035156  0.003906  0.029297  0.03125   \n",
       "\n",
       "     margin8  margin9  ...  texture55  texture56  texture57  texture58  \\\n",
       "243      0.0      0.0  ...   0.027344        0.0   0.041016        0.0   \n",
       "\n",
       "     texture59  texture60  texture61  texture62  texture63  texture64  \n",
       "243   0.010742        0.0   0.000977   0.001953   0.016602   0.020508  \n",
       "\n",
       "[1 rows x 193 columns]"
      ]
     },
     "execution_count": 17,
     "metadata": {},
     "output_type": "execute_result"
    }
   ],
   "source": [
    "test = pd.read_csv('test.csv')\n",
    "test.sample()"
   ]
  },
  {
   "cell_type": "code",
   "execution_count": 18,
   "id": "70603773",
   "metadata": {
    "ExecuteTime": {
     "end_time": "2021-12-15T22:59:23.552688Z",
     "start_time": "2021-12-15T22:59:23.546893Z"
    }
   },
   "outputs": [],
   "source": [
    "from sklearn.preprocessing import LabelEncoder\n",
    "le = LabelEncoder()\n",
    "train['label'] = le.fit_transform(train['species'])"
   ]
  },
  {
   "cell_type": "code",
   "execution_count": 19,
   "id": "311bb441",
   "metadata": {
    "ExecuteTime": {
     "end_time": "2021-12-15T22:59:23.597874Z",
     "start_time": "2021-12-15T22:59:23.557215Z"
    }
   },
   "outputs": [
    {
     "data": {
      "text/html": [
       "<div>\n",
       "<style scoped>\n",
       "    .dataframe tbody tr th:only-of-type {\n",
       "        vertical-align: middle;\n",
       "    }\n",
       "\n",
       "    .dataframe tbody tr th {\n",
       "        vertical-align: top;\n",
       "    }\n",
       "\n",
       "    .dataframe thead th {\n",
       "        text-align: right;\n",
       "    }\n",
       "</style>\n",
       "<table border=\"1\" class=\"dataframe\">\n",
       "  <thead>\n",
       "    <tr style=\"text-align: right;\">\n",
       "      <th></th>\n",
       "      <th>id</th>\n",
       "      <th>species</th>\n",
       "      <th>margin1</th>\n",
       "      <th>margin2</th>\n",
       "      <th>margin3</th>\n",
       "      <th>margin4</th>\n",
       "      <th>margin5</th>\n",
       "      <th>margin6</th>\n",
       "      <th>margin7</th>\n",
       "      <th>margin8</th>\n",
       "      <th>...</th>\n",
       "      <th>texture56</th>\n",
       "      <th>texture57</th>\n",
       "      <th>texture58</th>\n",
       "      <th>texture59</th>\n",
       "      <th>texture60</th>\n",
       "      <th>texture61</th>\n",
       "      <th>texture62</th>\n",
       "      <th>texture63</th>\n",
       "      <th>texture64</th>\n",
       "      <th>label</th>\n",
       "    </tr>\n",
       "  </thead>\n",
       "  <tbody>\n",
       "    <tr>\n",
       "      <th>0</th>\n",
       "      <td>1</td>\n",
       "      <td>Acer_Opalus</td>\n",
       "      <td>0.007812</td>\n",
       "      <td>0.023438</td>\n",
       "      <td>0.023438</td>\n",
       "      <td>0.003906</td>\n",
       "      <td>0.011719</td>\n",
       "      <td>0.009766</td>\n",
       "      <td>0.027344</td>\n",
       "      <td>0.0</td>\n",
       "      <td>...</td>\n",
       "      <td>0.000000</td>\n",
       "      <td>0.002930</td>\n",
       "      <td>0.002930</td>\n",
       "      <td>0.035156</td>\n",
       "      <td>0.0</td>\n",
       "      <td>0.0</td>\n",
       "      <td>0.004883</td>\n",
       "      <td>0.000000</td>\n",
       "      <td>0.025391</td>\n",
       "      <td>3</td>\n",
       "    </tr>\n",
       "    <tr>\n",
       "      <th>1</th>\n",
       "      <td>2</td>\n",
       "      <td>Pterocarya_Stenoptera</td>\n",
       "      <td>0.005859</td>\n",
       "      <td>0.000000</td>\n",
       "      <td>0.031250</td>\n",
       "      <td>0.015625</td>\n",
       "      <td>0.025391</td>\n",
       "      <td>0.001953</td>\n",
       "      <td>0.019531</td>\n",
       "      <td>0.0</td>\n",
       "      <td>...</td>\n",
       "      <td>0.000000</td>\n",
       "      <td>0.000000</td>\n",
       "      <td>0.000977</td>\n",
       "      <td>0.023438</td>\n",
       "      <td>0.0</td>\n",
       "      <td>0.0</td>\n",
       "      <td>0.000977</td>\n",
       "      <td>0.039062</td>\n",
       "      <td>0.022461</td>\n",
       "      <td>49</td>\n",
       "    </tr>\n",
       "    <tr>\n",
       "      <th>2</th>\n",
       "      <td>3</td>\n",
       "      <td>Quercus_Hartwissiana</td>\n",
       "      <td>0.005859</td>\n",
       "      <td>0.009766</td>\n",
       "      <td>0.019531</td>\n",
       "      <td>0.007812</td>\n",
       "      <td>0.003906</td>\n",
       "      <td>0.005859</td>\n",
       "      <td>0.068359</td>\n",
       "      <td>0.0</td>\n",
       "      <td>...</td>\n",
       "      <td>0.000000</td>\n",
       "      <td>0.005859</td>\n",
       "      <td>0.000977</td>\n",
       "      <td>0.007812</td>\n",
       "      <td>0.0</td>\n",
       "      <td>0.0</td>\n",
       "      <td>0.000000</td>\n",
       "      <td>0.020508</td>\n",
       "      <td>0.002930</td>\n",
       "      <td>65</td>\n",
       "    </tr>\n",
       "    <tr>\n",
       "      <th>3</th>\n",
       "      <td>5</td>\n",
       "      <td>Tilia_Tomentosa</td>\n",
       "      <td>0.000000</td>\n",
       "      <td>0.003906</td>\n",
       "      <td>0.023438</td>\n",
       "      <td>0.005859</td>\n",
       "      <td>0.021484</td>\n",
       "      <td>0.019531</td>\n",
       "      <td>0.023438</td>\n",
       "      <td>0.0</td>\n",
       "      <td>...</td>\n",
       "      <td>0.000977</td>\n",
       "      <td>0.000000</td>\n",
       "      <td>0.000000</td>\n",
       "      <td>0.020508</td>\n",
       "      <td>0.0</td>\n",
       "      <td>0.0</td>\n",
       "      <td>0.017578</td>\n",
       "      <td>0.000000</td>\n",
       "      <td>0.047852</td>\n",
       "      <td>94</td>\n",
       "    </tr>\n",
       "    <tr>\n",
       "      <th>4</th>\n",
       "      <td>6</td>\n",
       "      <td>Quercus_Variabilis</td>\n",
       "      <td>0.005859</td>\n",
       "      <td>0.003906</td>\n",
       "      <td>0.048828</td>\n",
       "      <td>0.009766</td>\n",
       "      <td>0.013672</td>\n",
       "      <td>0.015625</td>\n",
       "      <td>0.005859</td>\n",
       "      <td>0.0</td>\n",
       "      <td>...</td>\n",
       "      <td>0.000000</td>\n",
       "      <td>0.021484</td>\n",
       "      <td>0.000000</td>\n",
       "      <td>0.000000</td>\n",
       "      <td>0.0</td>\n",
       "      <td>0.0</td>\n",
       "      <td>0.000000</td>\n",
       "      <td>0.000000</td>\n",
       "      <td>0.031250</td>\n",
       "      <td>84</td>\n",
       "    </tr>\n",
       "  </tbody>\n",
       "</table>\n",
       "<p>5 rows × 195 columns</p>\n",
       "</div>"
      ],
      "text/plain": [
       "   id                species   margin1   margin2   margin3   margin4  \\\n",
       "0   1            Acer_Opalus  0.007812  0.023438  0.023438  0.003906   \n",
       "1   2  Pterocarya_Stenoptera  0.005859  0.000000  0.031250  0.015625   \n",
       "2   3   Quercus_Hartwissiana  0.005859  0.009766  0.019531  0.007812   \n",
       "3   5        Tilia_Tomentosa  0.000000  0.003906  0.023438  0.005859   \n",
       "4   6     Quercus_Variabilis  0.005859  0.003906  0.048828  0.009766   \n",
       "\n",
       "    margin5   margin6   margin7  margin8  ...  texture56  texture57  \\\n",
       "0  0.011719  0.009766  0.027344      0.0  ...   0.000000   0.002930   \n",
       "1  0.025391  0.001953  0.019531      0.0  ...   0.000000   0.000000   \n",
       "2  0.003906  0.005859  0.068359      0.0  ...   0.000000   0.005859   \n",
       "3  0.021484  0.019531  0.023438      0.0  ...   0.000977   0.000000   \n",
       "4  0.013672  0.015625  0.005859      0.0  ...   0.000000   0.021484   \n",
       "\n",
       "   texture58  texture59  texture60  texture61  texture62  texture63  \\\n",
       "0   0.002930   0.035156        0.0        0.0   0.004883   0.000000   \n",
       "1   0.000977   0.023438        0.0        0.0   0.000977   0.039062   \n",
       "2   0.000977   0.007812        0.0        0.0   0.000000   0.020508   \n",
       "3   0.000000   0.020508        0.0        0.0   0.017578   0.000000   \n",
       "4   0.000000   0.000000        0.0        0.0   0.000000   0.000000   \n",
       "\n",
       "   texture64  label  \n",
       "0   0.025391      3  \n",
       "1   0.022461     49  \n",
       "2   0.002930     65  \n",
       "3   0.047852     94  \n",
       "4   0.031250     84  \n",
       "\n",
       "[5 rows x 195 columns]"
      ]
     },
     "execution_count": 19,
     "metadata": {},
     "output_type": "execute_result"
    }
   ],
   "source": [
    "train.head()"
   ]
  },
  {
   "cell_type": "code",
   "execution_count": 20,
   "id": "507fdfd9",
   "metadata": {
    "ExecuteTime": {
     "end_time": "2021-12-15T22:59:23.613503Z",
     "start_time": "2021-12-15T22:59:23.601290Z"
    }
   },
   "outputs": [],
   "source": [
    "X = train.drop(['label','species','id'],axis = 1)\n",
    "y = train['label']"
   ]
  },
  {
   "cell_type": "code",
   "execution_count": 21,
   "id": "60d503de",
   "metadata": {
    "ExecuteTime": {
     "end_time": "2021-12-15T22:59:23.632796Z",
     "start_time": "2021-12-15T22:59:23.619969Z"
    }
   },
   "outputs": [],
   "source": [
    "X_train,X_test,y_train,y_test = train_test_split(X,y,random_state=42,test_size=0.20)"
   ]
  },
  {
   "cell_type": "markdown",
   "id": "53e34f4d",
   "metadata": {},
   "source": [
    "__Naïve Bayes__"
   ]
  },
  {
   "cell_type": "code",
   "execution_count": 22,
   "id": "8c0e6d33",
   "metadata": {
    "ExecuteTime": {
     "end_time": "2021-12-15T22:59:23.662801Z",
     "start_time": "2021-12-15T22:59:23.639077Z"
    }
   },
   "outputs": [
    {
     "data": {
      "text/plain": [
       "GaussianNB()"
      ]
     },
     "execution_count": 22,
     "metadata": {},
     "output_type": "execute_result"
    }
   ],
   "source": [
    "nb = GaussianNB()\n",
    "nb.fit(X_train,y_train)"
   ]
  },
  {
   "cell_type": "code",
   "execution_count": 23,
   "id": "b6e0e113",
   "metadata": {
    "ExecuteTime": {
     "end_time": "2021-12-15T22:59:23.692602Z",
     "start_time": "2021-12-15T22:59:23.665369Z"
    }
   },
   "outputs": [
    {
     "data": {
      "text/plain": [
       "0.47474747474747475"
      ]
     },
     "execution_count": 23,
     "metadata": {},
     "output_type": "execute_result"
    }
   ],
   "source": [
    "y_pred_nb = nb.predict(X_test)\n",
    "accuracy_score(y_test,y_pred_nb)"
   ]
  },
  {
   "cell_type": "markdown",
   "id": "f0d0f57f",
   "metadata": {},
   "source": [
    "__Decision Tree__"
   ]
  },
  {
   "cell_type": "code",
   "execution_count": 24,
   "id": "e8352278",
   "metadata": {
    "ExecuteTime": {
     "end_time": "2021-12-15T22:59:24.006742Z",
     "start_time": "2021-12-15T22:59:23.695629Z"
    }
   },
   "outputs": [
    {
     "data": {
      "text/plain": [
       "DecisionTreeClassifier()"
      ]
     },
     "execution_count": 24,
     "metadata": {},
     "output_type": "execute_result"
    }
   ],
   "source": [
    "dct = DecisionTreeClassifier()\n",
    "dct.fit(X_train,y_train)"
   ]
  },
  {
   "cell_type": "code",
   "execution_count": 25,
   "id": "910a5f1d",
   "metadata": {
    "ExecuteTime": {
     "end_time": "2021-12-15T22:59:24.023286Z",
     "start_time": "2021-12-15T22:59:24.010145Z"
    }
   },
   "outputs": [
    {
     "data": {
      "text/plain": [
       "0.5757575757575758"
      ]
     },
     "execution_count": 25,
     "metadata": {},
     "output_type": "execute_result"
    }
   ],
   "source": [
    "y_pred_dct = dct.predict(X_test)\n",
    "accuracy_score(y_test,y_pred_dct)"
   ]
  },
  {
   "cell_type": "markdown",
   "id": "f5020b71",
   "metadata": {},
   "source": [
    "__Random Forest__"
   ]
  },
  {
   "cell_type": "code",
   "execution_count": 26,
   "id": "c1aed059",
   "metadata": {
    "ExecuteTime": {
     "end_time": "2021-12-15T22:59:29.986961Z",
     "start_time": "2021-12-15T22:59:24.031660Z"
    }
   },
   "outputs": [
    {
     "data": {
      "text/plain": [
       "RandomForestClassifier(n_estimators=500)"
      ]
     },
     "execution_count": 26,
     "metadata": {},
     "output_type": "execute_result"
    }
   ],
   "source": [
    "rf = RandomForestClassifier(n_estimators=500)\n",
    "rf.fit(X_train,y_train)"
   ]
  },
  {
   "cell_type": "code",
   "execution_count": 40,
   "id": "ea40f79c",
   "metadata": {
    "ExecuteTime": {
     "end_time": "2021-12-16T05:41:22.852021Z",
     "start_time": "2021-12-16T05:41:22.507889Z"
    }
   },
   "outputs": [
    {
     "data": {
      "text/plain": [
       "0.9797979797979798"
      ]
     },
     "execution_count": 40,
     "metadata": {},
     "output_type": "execute_result"
    }
   ],
   "source": [
    "y_pred_rf = rf.predict(X_test)\n",
    "accuracy_score(y_test,y_pred_rf)"
   ]
  },
  {
   "cell_type": "markdown",
   "id": "99a8745e",
   "metadata": {},
   "source": [
    "__Support Vector Machine__"
   ]
  },
  {
   "cell_type": "code",
   "execution_count": 28,
   "id": "7aaec769",
   "metadata": {
    "ExecuteTime": {
     "end_time": "2021-12-15T22:59:30.305465Z",
     "start_time": "2021-12-15T22:59:30.125357Z"
    }
   },
   "outputs": [
    {
     "data": {
      "text/plain": [
       "SVC()"
      ]
     },
     "execution_count": 28,
     "metadata": {},
     "output_type": "execute_result"
    }
   ],
   "source": [
    "svm = SVC()\n",
    "svm.fit(X_train,y_train)"
   ]
  },
  {
   "cell_type": "code",
   "execution_count": 29,
   "id": "142142e1",
   "metadata": {
    "ExecuteTime": {
     "end_time": "2021-12-15T22:59:30.374522Z",
     "start_time": "2021-12-15T22:59:30.307237Z"
    }
   },
   "outputs": [
    {
     "data": {
      "text/plain": [
       "0.8838383838383839"
      ]
     },
     "execution_count": 29,
     "metadata": {},
     "output_type": "execute_result"
    }
   ],
   "source": [
    "y_pred_svm = svm.predict(X_test)\n",
    "accuracy_score(y_test,y_pred_svm)"
   ]
  },
  {
   "cell_type": "code",
   "execution_count": 30,
   "id": "fe88d050",
   "metadata": {
    "ExecuteTime": {
     "end_time": "2021-12-15T22:59:30.405505Z",
     "start_time": "2021-12-15T22:59:30.376311Z"
    }
   },
   "outputs": [
    {
     "name": "stdout",
     "output_type": "stream",
     "text": [
      "              precision    recall  f1-score   support\n",
      "\n",
      "           0       1.00      1.00      1.00         1\n",
      "           2       1.00      1.00      1.00         2\n",
      "           3       0.00      0.00      0.00         0\n",
      "           5       1.00      1.00      1.00         3\n",
      "           6       1.00      1.00      1.00         1\n",
      "           7       0.00      0.00      0.00         0\n",
      "           9       1.00      1.00      1.00         3\n",
      "          10       1.00      0.67      0.80         3\n",
      "          11       1.00      1.00      1.00         3\n",
      "          12       0.33      1.00      0.50         1\n",
      "          13       1.00      1.00      1.00         2\n",
      "          14       1.00      1.00      1.00         2\n",
      "          15       1.00      1.00      1.00         2\n",
      "          16       1.00      1.00      1.00         1\n",
      "          17       1.00      0.67      0.80         3\n",
      "          18       1.00      1.00      1.00         1\n",
      "          19       1.00      1.00      1.00         2\n",
      "          20       1.00      1.00      1.00         4\n",
      "          21       1.00      1.00      1.00         2\n",
      "          22       1.00      1.00      1.00         1\n",
      "          23       1.00      1.00      1.00         1\n",
      "          24       1.00      1.00      1.00         1\n",
      "          25       1.00      1.00      1.00         2\n",
      "          26       1.00      0.50      0.67         4\n",
      "          27       0.75      1.00      0.86         3\n",
      "          28       1.00      0.50      0.67         4\n",
      "          29       1.00      1.00      1.00         1\n",
      "          30       1.00      1.00      1.00         1\n",
      "          31       0.50      1.00      0.67         1\n",
      "          32       1.00      1.00      1.00         3\n",
      "          33       1.00      1.00      1.00         4\n",
      "          34       1.00      1.00      1.00         2\n",
      "          35       1.00      1.00      1.00         3\n",
      "          36       1.00      1.00      1.00         4\n",
      "          37       1.00      1.00      1.00         2\n",
      "          38       0.50      1.00      0.67         1\n",
      "          39       1.00      1.00      1.00         2\n",
      "          40       1.00      1.00      1.00         4\n",
      "          41       1.00      0.50      0.67         4\n",
      "          43       1.00      1.00      1.00         2\n",
      "          44       0.75      0.75      0.75         4\n",
      "          45       1.00      0.80      0.89         5\n",
      "          46       0.67      1.00      0.80         2\n",
      "          47       1.00      1.00      1.00         1\n",
      "          48       1.00      1.00      1.00         3\n",
      "          49       1.00      1.00      1.00         2\n",
      "          50       1.00      1.00      1.00         1\n",
      "          51       1.00      0.67      0.80         3\n",
      "          52       1.00      0.33      0.50         6\n",
      "          53       1.00      1.00      1.00         2\n",
      "          54       1.00      1.00      1.00         3\n",
      "          55       1.00      1.00      1.00         2\n",
      "          56       1.00      1.00      1.00         1\n",
      "          58       0.50      1.00      0.67         1\n",
      "          59       0.40      1.00      0.57         2\n",
      "          60       1.00      1.00      1.00         3\n",
      "          61       1.00      1.00      1.00         2\n",
      "          62       1.00      1.00      1.00         1\n",
      "          63       0.00      0.00      0.00         1\n",
      "          64       1.00      1.00      1.00         2\n",
      "          65       1.00      1.00      1.00         3\n",
      "          66       0.83      0.83      0.83         6\n",
      "          67       1.00      1.00      1.00         4\n",
      "          70       1.00      1.00      1.00         1\n",
      "          71       0.67      1.00      0.80         2\n",
      "          72       1.00      0.67      0.80         3\n",
      "          73       1.00      1.00      1.00         3\n",
      "          74       1.00      1.00      1.00         2\n",
      "          75       1.00      0.67      0.80         3\n",
      "          76       1.00      1.00      1.00         2\n",
      "          78       1.00      1.00      1.00         3\n",
      "          79       1.00      1.00      1.00         1\n",
      "          80       1.00      1.00      1.00         2\n",
      "          81       0.50      1.00      0.67         1\n",
      "          82       1.00      0.33      0.50         3\n",
      "          83       0.40      1.00      0.57         2\n",
      "          85       1.00      1.00      1.00         3\n",
      "          86       0.00      0.00      0.00         0\n",
      "          88       0.50      1.00      0.67         1\n",
      "          89       1.00      0.50      0.67         4\n",
      "          90       1.00      1.00      1.00         1\n",
      "          91       1.00      1.00      1.00         3\n",
      "          92       0.50      1.00      0.67         1\n",
      "          93       1.00      1.00      1.00         2\n",
      "          95       0.67      1.00      0.80         2\n",
      "          96       1.00      1.00      1.00         1\n",
      "          97       1.00      1.00      1.00         3\n",
      "          98       1.00      1.00      1.00         3\n",
      "\n",
      "    accuracy                           0.88       198\n",
      "   macro avg       0.88      0.89      0.86       198\n",
      "weighted avg       0.94      0.88      0.89       198\n",
      "\n"
     ]
    },
    {
     "name": "stderr",
     "output_type": "stream",
     "text": [
      "/opt/anaconda3/lib/python3.7/site-packages/sklearn/metrics/_classification.py:1248: UndefinedMetricWarning: Precision and F-score are ill-defined and being set to 0.0 in labels with no predicted samples. Use `zero_division` parameter to control this behavior.\n",
      "  _warn_prf(average, modifier, msg_start, len(result))\n",
      "/opt/anaconda3/lib/python3.7/site-packages/sklearn/metrics/_classification.py:1248: UndefinedMetricWarning: Recall and F-score are ill-defined and being set to 0.0 in labels with no true samples. Use `zero_division` parameter to control this behavior.\n",
      "  _warn_prf(average, modifier, msg_start, len(result))\n",
      "/opt/anaconda3/lib/python3.7/site-packages/sklearn/metrics/_classification.py:1248: UndefinedMetricWarning: Precision and F-score are ill-defined and being set to 0.0 in labels with no predicted samples. Use `zero_division` parameter to control this behavior.\n",
      "  _warn_prf(average, modifier, msg_start, len(result))\n",
      "/opt/anaconda3/lib/python3.7/site-packages/sklearn/metrics/_classification.py:1248: UndefinedMetricWarning: Recall and F-score are ill-defined and being set to 0.0 in labels with no true samples. Use `zero_division` parameter to control this behavior.\n",
      "  _warn_prf(average, modifier, msg_start, len(result))\n",
      "/opt/anaconda3/lib/python3.7/site-packages/sklearn/metrics/_classification.py:1248: UndefinedMetricWarning: Precision and F-score are ill-defined and being set to 0.0 in labels with no predicted samples. Use `zero_division` parameter to control this behavior.\n",
      "  _warn_prf(average, modifier, msg_start, len(result))\n",
      "/opt/anaconda3/lib/python3.7/site-packages/sklearn/metrics/_classification.py:1248: UndefinedMetricWarning: Recall and F-score are ill-defined and being set to 0.0 in labels with no true samples. Use `zero_division` parameter to control this behavior.\n",
      "  _warn_prf(average, modifier, msg_start, len(result))\n"
     ]
    }
   ],
   "source": [
    "print(classification_report(y_test,y_pred_svm))"
   ]
  },
  {
   "cell_type": "code",
   "execution_count": 31,
   "id": "96f41da3",
   "metadata": {
    "ExecuteTime": {
     "end_time": "2021-12-15T22:59:30.417329Z",
     "start_time": "2021-12-15T22:59:30.407571Z"
    }
   },
   "outputs": [],
   "source": [
    "parameters = {'C': [0.1, 1, 10],\n",
    "              'gamma': [1e-07, 1e-08, 1e-06],\n",
    "              'kernel' : ['rbf', 'linear'] }\n",
    "from sklearn.model_selection import GridSearchCV\n",
    "grid_search = GridSearchCV(svm, parameters, n_jobs=-1, cv=5)\n",
    " "
   ]
  },
  {
   "cell_type": "code",
   "execution_count": 32,
   "id": "af8d0a74",
   "metadata": {
    "ExecuteTime": {
     "end_time": "2021-12-15T22:59:38.714852Z",
     "start_time": "2021-12-15T22:59:30.419618Z"
    }
   },
   "outputs": [
    {
     "name": "stderr",
     "output_type": "stream",
     "text": [
      "/opt/anaconda3/lib/python3.7/site-packages/sklearn/model_selection/_split.py:668: UserWarning: The least populated class in y has only 4 members, which is less than n_splits=5.\n",
      "  % (min_groups, self.n_splits)), UserWarning)\n"
     ]
    },
    {
     "data": {
      "text/plain": [
       "GridSearchCV(cv=5, estimator=SVC(), n_jobs=-1,\n",
       "             param_grid={'C': [0.1, 1, 10], 'gamma': [1e-07, 1e-08, 1e-06],\n",
       "                         'kernel': ['rbf', 'linear']})"
      ]
     },
     "execution_count": 32,
     "metadata": {},
     "output_type": "execute_result"
    }
   ],
   "source": [
    "grid_search.fit(X_train,y_train)"
   ]
  },
  {
   "cell_type": "code",
   "execution_count": 33,
   "id": "452b1237",
   "metadata": {
    "ExecuteTime": {
     "end_time": "2021-12-15T22:59:38.724517Z",
     "start_time": "2021-12-15T22:59:38.719405Z"
    }
   },
   "outputs": [
    {
     "name": "stdout",
     "output_type": "stream",
     "text": [
      "The best model:\n",
      " {'C': 10, 'gamma': 1e-07, 'kernel': 'linear'}\n"
     ]
    }
   ],
   "source": [
    "print('The best model:\\n', grid_search.best_params_) "
   ]
  },
  {
   "cell_type": "code",
   "execution_count": 34,
   "id": "e122127a",
   "metadata": {
    "ExecuteTime": {
     "end_time": "2021-12-15T22:59:38.738742Z",
     "start_time": "2021-12-15T22:59:38.730400Z"
    }
   },
   "outputs": [
    {
     "data": {
      "text/plain": [
       "0.7840538173712284"
      ]
     },
     "execution_count": 34,
     "metadata": {},
     "output_type": "execute_result"
    }
   ],
   "source": [
    "grid_search.best_score_"
   ]
  },
  {
   "cell_type": "code",
   "execution_count": 35,
   "id": "dcb443d7",
   "metadata": {
    "ExecuteTime": {
     "end_time": "2021-12-15T22:59:38.811650Z",
     "start_time": "2021-12-15T22:59:38.742806Z"
    }
   },
   "outputs": [],
   "source": [
    "svm_best = grid_search.best_estimator_\n",
    "pred = svm_best.predict(X_test)"
   ]
  },
  {
   "cell_type": "code",
   "execution_count": 36,
   "id": "10da26ef",
   "metadata": {
    "ExecuteTime": {
     "end_time": "2021-12-15T22:59:38.866322Z",
     "start_time": "2021-12-15T22:59:38.823735Z"
    }
   },
   "outputs": [
    {
     "name": "stdout",
     "output_type": "stream",
     "text": [
      "The accuracy is: 82.3%\n"
     ]
    }
   ],
   "source": [
    "print(f'The accuracy is: {svm_best.score(X_test,y_test)*100:.1f}%')"
   ]
  },
  {
   "cell_type": "markdown",
   "id": "9ae6dfb2",
   "metadata": {},
   "source": [
    "__Predicting on test data__"
   ]
  },
  {
   "cell_type": "code",
   "execution_count": 37,
   "id": "afc6ad96",
   "metadata": {
    "ExecuteTime": {
     "end_time": "2021-12-15T22:59:38.906581Z",
     "start_time": "2021-12-15T22:59:38.869539Z"
    }
   },
   "outputs": [
    {
     "data": {
      "text/html": [
       "<div>\n",
       "<style scoped>\n",
       "    .dataframe tbody tr th:only-of-type {\n",
       "        vertical-align: middle;\n",
       "    }\n",
       "\n",
       "    .dataframe tbody tr th {\n",
       "        vertical-align: top;\n",
       "    }\n",
       "\n",
       "    .dataframe thead th {\n",
       "        text-align: right;\n",
       "    }\n",
       "</style>\n",
       "<table border=\"1\" class=\"dataframe\">\n",
       "  <thead>\n",
       "    <tr style=\"text-align: right;\">\n",
       "      <th></th>\n",
       "      <th>margin1</th>\n",
       "      <th>margin2</th>\n",
       "      <th>margin3</th>\n",
       "      <th>margin4</th>\n",
       "      <th>margin5</th>\n",
       "      <th>margin6</th>\n",
       "      <th>margin7</th>\n",
       "      <th>margin8</th>\n",
       "      <th>margin9</th>\n",
       "      <th>margin10</th>\n",
       "      <th>...</th>\n",
       "      <th>texture55</th>\n",
       "      <th>texture56</th>\n",
       "      <th>texture57</th>\n",
       "      <th>texture58</th>\n",
       "      <th>texture59</th>\n",
       "      <th>texture60</th>\n",
       "      <th>texture61</th>\n",
       "      <th>texture62</th>\n",
       "      <th>texture63</th>\n",
       "      <th>texture64</th>\n",
       "    </tr>\n",
       "  </thead>\n",
       "  <tbody>\n",
       "    <tr>\n",
       "      <th>0</th>\n",
       "      <td>0.019531</td>\n",
       "      <td>0.009766</td>\n",
       "      <td>0.078125</td>\n",
       "      <td>0.011719</td>\n",
       "      <td>0.003906</td>\n",
       "      <td>0.015625</td>\n",
       "      <td>0.005859</td>\n",
       "      <td>0.000000</td>\n",
       "      <td>0.005859</td>\n",
       "      <td>0.023438</td>\n",
       "      <td>...</td>\n",
       "      <td>0.006836</td>\n",
       "      <td>0.000000</td>\n",
       "      <td>0.015625</td>\n",
       "      <td>0.000977</td>\n",
       "      <td>0.015625</td>\n",
       "      <td>0.0</td>\n",
       "      <td>0.0</td>\n",
       "      <td>0.000000</td>\n",
       "      <td>0.003906</td>\n",
       "      <td>0.053711</td>\n",
       "    </tr>\n",
       "    <tr>\n",
       "      <th>1</th>\n",
       "      <td>0.007812</td>\n",
       "      <td>0.005859</td>\n",
       "      <td>0.064453</td>\n",
       "      <td>0.009766</td>\n",
       "      <td>0.003906</td>\n",
       "      <td>0.013672</td>\n",
       "      <td>0.007812</td>\n",
       "      <td>0.000000</td>\n",
       "      <td>0.033203</td>\n",
       "      <td>0.023438</td>\n",
       "      <td>...</td>\n",
       "      <td>0.000000</td>\n",
       "      <td>0.000000</td>\n",
       "      <td>0.006836</td>\n",
       "      <td>0.001953</td>\n",
       "      <td>0.013672</td>\n",
       "      <td>0.0</td>\n",
       "      <td>0.0</td>\n",
       "      <td>0.000977</td>\n",
       "      <td>0.037109</td>\n",
       "      <td>0.044922</td>\n",
       "    </tr>\n",
       "    <tr>\n",
       "      <th>2</th>\n",
       "      <td>0.000000</td>\n",
       "      <td>0.000000</td>\n",
       "      <td>0.001953</td>\n",
       "      <td>0.021484</td>\n",
       "      <td>0.041016</td>\n",
       "      <td>0.000000</td>\n",
       "      <td>0.023438</td>\n",
       "      <td>0.000000</td>\n",
       "      <td>0.011719</td>\n",
       "      <td>0.005859</td>\n",
       "      <td>...</td>\n",
       "      <td>0.128910</td>\n",
       "      <td>0.000000</td>\n",
       "      <td>0.000977</td>\n",
       "      <td>0.000000</td>\n",
       "      <td>0.000000</td>\n",
       "      <td>0.0</td>\n",
       "      <td>0.0</td>\n",
       "      <td>0.015625</td>\n",
       "      <td>0.000000</td>\n",
       "      <td>0.000000</td>\n",
       "    </tr>\n",
       "    <tr>\n",
       "      <th>3</th>\n",
       "      <td>0.000000</td>\n",
       "      <td>0.000000</td>\n",
       "      <td>0.009766</td>\n",
       "      <td>0.011719</td>\n",
       "      <td>0.017578</td>\n",
       "      <td>0.000000</td>\n",
       "      <td>0.003906</td>\n",
       "      <td>0.000000</td>\n",
       "      <td>0.003906</td>\n",
       "      <td>0.001953</td>\n",
       "      <td>...</td>\n",
       "      <td>0.012695</td>\n",
       "      <td>0.015625</td>\n",
       "      <td>0.002930</td>\n",
       "      <td>0.036133</td>\n",
       "      <td>0.013672</td>\n",
       "      <td>0.0</td>\n",
       "      <td>0.0</td>\n",
       "      <td>0.089844</td>\n",
       "      <td>0.000000</td>\n",
       "      <td>0.008789</td>\n",
       "    </tr>\n",
       "    <tr>\n",
       "      <th>4</th>\n",
       "      <td>0.001953</td>\n",
       "      <td>0.000000</td>\n",
       "      <td>0.015625</td>\n",
       "      <td>0.009766</td>\n",
       "      <td>0.039062</td>\n",
       "      <td>0.000000</td>\n",
       "      <td>0.009766</td>\n",
       "      <td>0.000000</td>\n",
       "      <td>0.005859</td>\n",
       "      <td>0.000000</td>\n",
       "      <td>...</td>\n",
       "      <td>0.000000</td>\n",
       "      <td>0.042969</td>\n",
       "      <td>0.016602</td>\n",
       "      <td>0.010742</td>\n",
       "      <td>0.041016</td>\n",
       "      <td>0.0</td>\n",
       "      <td>0.0</td>\n",
       "      <td>0.007812</td>\n",
       "      <td>0.009766</td>\n",
       "      <td>0.007812</td>\n",
       "    </tr>\n",
       "    <tr>\n",
       "      <th>...</th>\n",
       "      <td>...</td>\n",
       "      <td>...</td>\n",
       "      <td>...</td>\n",
       "      <td>...</td>\n",
       "      <td>...</td>\n",
       "      <td>...</td>\n",
       "      <td>...</td>\n",
       "      <td>...</td>\n",
       "      <td>...</td>\n",
       "      <td>...</td>\n",
       "      <td>...</td>\n",
       "      <td>...</td>\n",
       "      <td>...</td>\n",
       "      <td>...</td>\n",
       "      <td>...</td>\n",
       "      <td>...</td>\n",
       "      <td>...</td>\n",
       "      <td>...</td>\n",
       "      <td>...</td>\n",
       "      <td>...</td>\n",
       "      <td>...</td>\n",
       "    </tr>\n",
       "    <tr>\n",
       "      <th>589</th>\n",
       "      <td>0.000000</td>\n",
       "      <td>0.000000</td>\n",
       "      <td>0.003906</td>\n",
       "      <td>0.015625</td>\n",
       "      <td>0.041016</td>\n",
       "      <td>0.000000</td>\n",
       "      <td>0.017578</td>\n",
       "      <td>0.000000</td>\n",
       "      <td>0.005859</td>\n",
       "      <td>0.013672</td>\n",
       "      <td>...</td>\n",
       "      <td>0.098633</td>\n",
       "      <td>0.000000</td>\n",
       "      <td>0.004883</td>\n",
       "      <td>0.000000</td>\n",
       "      <td>0.003906</td>\n",
       "      <td>0.0</td>\n",
       "      <td>0.0</td>\n",
       "      <td>0.018555</td>\n",
       "      <td>0.000000</td>\n",
       "      <td>0.000977</td>\n",
       "    </tr>\n",
       "    <tr>\n",
       "      <th>590</th>\n",
       "      <td>0.000000</td>\n",
       "      <td>0.003906</td>\n",
       "      <td>0.003906</td>\n",
       "      <td>0.005859</td>\n",
       "      <td>0.017578</td>\n",
       "      <td>0.000000</td>\n",
       "      <td>0.017578</td>\n",
       "      <td>0.005859</td>\n",
       "      <td>0.000000</td>\n",
       "      <td>0.005859</td>\n",
       "      <td>...</td>\n",
       "      <td>0.012695</td>\n",
       "      <td>0.004883</td>\n",
       "      <td>0.004883</td>\n",
       "      <td>0.002930</td>\n",
       "      <td>0.009766</td>\n",
       "      <td>0.0</td>\n",
       "      <td>0.0</td>\n",
       "      <td>0.090820</td>\n",
       "      <td>0.000000</td>\n",
       "      <td>0.016602</td>\n",
       "    </tr>\n",
       "    <tr>\n",
       "      <th>591</th>\n",
       "      <td>0.017578</td>\n",
       "      <td>0.029297</td>\n",
       "      <td>0.015625</td>\n",
       "      <td>0.013672</td>\n",
       "      <td>0.003906</td>\n",
       "      <td>0.015625</td>\n",
       "      <td>0.025391</td>\n",
       "      <td>0.000000</td>\n",
       "      <td>0.000000</td>\n",
       "      <td>0.009766</td>\n",
       "      <td>...</td>\n",
       "      <td>0.073242</td>\n",
       "      <td>0.000000</td>\n",
       "      <td>0.028320</td>\n",
       "      <td>0.000000</td>\n",
       "      <td>0.001953</td>\n",
       "      <td>0.0</td>\n",
       "      <td>0.0</td>\n",
       "      <td>0.000000</td>\n",
       "      <td>0.042969</td>\n",
       "      <td>0.006836</td>\n",
       "    </tr>\n",
       "    <tr>\n",
       "      <th>592</th>\n",
       "      <td>0.013672</td>\n",
       "      <td>0.009766</td>\n",
       "      <td>0.060547</td>\n",
       "      <td>0.025391</td>\n",
       "      <td>0.035156</td>\n",
       "      <td>0.025391</td>\n",
       "      <td>0.039062</td>\n",
       "      <td>0.000000</td>\n",
       "      <td>0.003906</td>\n",
       "      <td>0.023438</td>\n",
       "      <td>...</td>\n",
       "      <td>0.003906</td>\n",
       "      <td>0.000000</td>\n",
       "      <td>0.000977</td>\n",
       "      <td>0.000000</td>\n",
       "      <td>0.011719</td>\n",
       "      <td>0.0</td>\n",
       "      <td>0.0</td>\n",
       "      <td>0.000000</td>\n",
       "      <td>0.011719</td>\n",
       "      <td>0.018555</td>\n",
       "    </tr>\n",
       "    <tr>\n",
       "      <th>593</th>\n",
       "      <td>0.000000</td>\n",
       "      <td>0.117190</td>\n",
       "      <td>0.000000</td>\n",
       "      <td>0.019531</td>\n",
       "      <td>0.000000</td>\n",
       "      <td>0.136720</td>\n",
       "      <td>0.001953</td>\n",
       "      <td>0.005859</td>\n",
       "      <td>0.000000</td>\n",
       "      <td>0.007812</td>\n",
       "      <td>...</td>\n",
       "      <td>0.107420</td>\n",
       "      <td>0.012695</td>\n",
       "      <td>0.016602</td>\n",
       "      <td>0.000977</td>\n",
       "      <td>0.004883</td>\n",
       "      <td>0.0</td>\n",
       "      <td>0.0</td>\n",
       "      <td>0.015625</td>\n",
       "      <td>0.000000</td>\n",
       "      <td>0.017578</td>\n",
       "    </tr>\n",
       "  </tbody>\n",
       "</table>\n",
       "<p>594 rows × 192 columns</p>\n",
       "</div>"
      ],
      "text/plain": [
       "      margin1   margin2   margin3   margin4   margin5   margin6   margin7  \\\n",
       "0    0.019531  0.009766  0.078125  0.011719  0.003906  0.015625  0.005859   \n",
       "1    0.007812  0.005859  0.064453  0.009766  0.003906  0.013672  0.007812   \n",
       "2    0.000000  0.000000  0.001953  0.021484  0.041016  0.000000  0.023438   \n",
       "3    0.000000  0.000000  0.009766  0.011719  0.017578  0.000000  0.003906   \n",
       "4    0.001953  0.000000  0.015625  0.009766  0.039062  0.000000  0.009766   \n",
       "..        ...       ...       ...       ...       ...       ...       ...   \n",
       "589  0.000000  0.000000  0.003906  0.015625  0.041016  0.000000  0.017578   \n",
       "590  0.000000  0.003906  0.003906  0.005859  0.017578  0.000000  0.017578   \n",
       "591  0.017578  0.029297  0.015625  0.013672  0.003906  0.015625  0.025391   \n",
       "592  0.013672  0.009766  0.060547  0.025391  0.035156  0.025391  0.039062   \n",
       "593  0.000000  0.117190  0.000000  0.019531  0.000000  0.136720  0.001953   \n",
       "\n",
       "      margin8   margin9  margin10  ...  texture55  texture56  texture57  \\\n",
       "0    0.000000  0.005859  0.023438  ...   0.006836   0.000000   0.015625   \n",
       "1    0.000000  0.033203  0.023438  ...   0.000000   0.000000   0.006836   \n",
       "2    0.000000  0.011719  0.005859  ...   0.128910   0.000000   0.000977   \n",
       "3    0.000000  0.003906  0.001953  ...   0.012695   0.015625   0.002930   \n",
       "4    0.000000  0.005859  0.000000  ...   0.000000   0.042969   0.016602   \n",
       "..        ...       ...       ...  ...        ...        ...        ...   \n",
       "589  0.000000  0.005859  0.013672  ...   0.098633   0.000000   0.004883   \n",
       "590  0.005859  0.000000  0.005859  ...   0.012695   0.004883   0.004883   \n",
       "591  0.000000  0.000000  0.009766  ...   0.073242   0.000000   0.028320   \n",
       "592  0.000000  0.003906  0.023438  ...   0.003906   0.000000   0.000977   \n",
       "593  0.005859  0.000000  0.007812  ...   0.107420   0.012695   0.016602   \n",
       "\n",
       "     texture58  texture59  texture60  texture61  texture62  texture63  \\\n",
       "0     0.000977   0.015625        0.0        0.0   0.000000   0.003906   \n",
       "1     0.001953   0.013672        0.0        0.0   0.000977   0.037109   \n",
       "2     0.000000   0.000000        0.0        0.0   0.015625   0.000000   \n",
       "3     0.036133   0.013672        0.0        0.0   0.089844   0.000000   \n",
       "4     0.010742   0.041016        0.0        0.0   0.007812   0.009766   \n",
       "..         ...        ...        ...        ...        ...        ...   \n",
       "589   0.000000   0.003906        0.0        0.0   0.018555   0.000000   \n",
       "590   0.002930   0.009766        0.0        0.0   0.090820   0.000000   \n",
       "591   0.000000   0.001953        0.0        0.0   0.000000   0.042969   \n",
       "592   0.000000   0.011719        0.0        0.0   0.000000   0.011719   \n",
       "593   0.000977   0.004883        0.0        0.0   0.015625   0.000000   \n",
       "\n",
       "     texture64  \n",
       "0     0.053711  \n",
       "1     0.044922  \n",
       "2     0.000000  \n",
       "3     0.008789  \n",
       "4     0.007812  \n",
       "..         ...  \n",
       "589   0.000977  \n",
       "590   0.016602  \n",
       "591   0.006836  \n",
       "592   0.018555  \n",
       "593   0.017578  \n",
       "\n",
       "[594 rows x 192 columns]"
      ]
     },
     "execution_count": 37,
     "metadata": {},
     "output_type": "execute_result"
    }
   ],
   "source": [
    "x_test = test.drop('id',axis=1)\n",
    "x_test"
   ]
  },
  {
   "cell_type": "code",
   "execution_count": 41,
   "id": "99dfff40",
   "metadata": {
    "ExecuteTime": {
     "end_time": "2021-12-16T05:44:38.877727Z",
     "start_time": "2021-12-16T05:44:38.637063Z"
    }
   },
   "outputs": [
    {
     "data": {
      "text/plain": [
       "0      51\n",
       "1      50\n",
       "2       1\n",
       "3      19\n",
       "4      14\n",
       "       ..\n",
       "589     1\n",
       "590    12\n",
       "591    54\n",
       "592    73\n",
       "593    15\n",
       "Length: 594, dtype: int64"
      ]
     },
     "execution_count": 41,
     "metadata": {},
     "output_type": "execute_result"
    }
   ],
   "source": [
    "y_predicted = rf.predict(x_test)\n",
    "y_predicted = pd.Series(y_predicted)\n",
    "y_predicted"
   ]
  },
  {
   "cell_type": "code",
   "execution_count": 42,
   "id": "ec097133",
   "metadata": {
    "ExecuteTime": {
     "end_time": "2021-12-16T05:44:42.415266Z",
     "start_time": "2021-12-16T05:44:42.403877Z"
    }
   },
   "outputs": [],
   "source": [
    "test['Predicted_Species'] = y_predicted"
   ]
  },
  {
   "cell_type": "code",
   "execution_count": 43,
   "id": "4a9fcaa8",
   "metadata": {
    "ExecuteTime": {
     "end_time": "2021-12-16T05:44:43.028696Z",
     "start_time": "2021-12-16T05:44:42.997063Z"
    }
   },
   "outputs": [
    {
     "data": {
      "text/html": [
       "<div>\n",
       "<style scoped>\n",
       "    .dataframe tbody tr th:only-of-type {\n",
       "        vertical-align: middle;\n",
       "    }\n",
       "\n",
       "    .dataframe tbody tr th {\n",
       "        vertical-align: top;\n",
       "    }\n",
       "\n",
       "    .dataframe thead th {\n",
       "        text-align: right;\n",
       "    }\n",
       "</style>\n",
       "<table border=\"1\" class=\"dataframe\">\n",
       "  <thead>\n",
       "    <tr style=\"text-align: right;\">\n",
       "      <th></th>\n",
       "      <th>id</th>\n",
       "      <th>margin1</th>\n",
       "      <th>margin2</th>\n",
       "      <th>margin3</th>\n",
       "      <th>margin4</th>\n",
       "      <th>margin5</th>\n",
       "      <th>margin6</th>\n",
       "      <th>margin7</th>\n",
       "      <th>margin8</th>\n",
       "      <th>margin9</th>\n",
       "      <th>...</th>\n",
       "      <th>texture56</th>\n",
       "      <th>texture57</th>\n",
       "      <th>texture58</th>\n",
       "      <th>texture59</th>\n",
       "      <th>texture60</th>\n",
       "      <th>texture61</th>\n",
       "      <th>texture62</th>\n",
       "      <th>texture63</th>\n",
       "      <th>texture64</th>\n",
       "      <th>Predicted_Species</th>\n",
       "    </tr>\n",
       "  </thead>\n",
       "  <tbody>\n",
       "    <tr>\n",
       "      <th>190</th>\n",
       "      <td>484</td>\n",
       "      <td>0.000000</td>\n",
       "      <td>0.000000</td>\n",
       "      <td>0.013672</td>\n",
       "      <td>0.039062</td>\n",
       "      <td>0.082031</td>\n",
       "      <td>0.000000</td>\n",
       "      <td>0.003906</td>\n",
       "      <td>0.003906</td>\n",
       "      <td>0.007812</td>\n",
       "      <td>...</td>\n",
       "      <td>0.0</td>\n",
       "      <td>0.001953</td>\n",
       "      <td>0.058594</td>\n",
       "      <td>0.073242</td>\n",
       "      <td>0.013672</td>\n",
       "      <td>0.0</td>\n",
       "      <td>0.010742</td>\n",
       "      <td>0.000000</td>\n",
       "      <td>0.005859</td>\n",
       "      <td>89</td>\n",
       "    </tr>\n",
       "    <tr>\n",
       "      <th>235</th>\n",
       "      <td>602</td>\n",
       "      <td>0.035156</td>\n",
       "      <td>0.117190</td>\n",
       "      <td>0.019531</td>\n",
       "      <td>0.003906</td>\n",
       "      <td>0.000000</td>\n",
       "      <td>0.216800</td>\n",
       "      <td>0.000000</td>\n",
       "      <td>0.000000</td>\n",
       "      <td>0.003906</td>\n",
       "      <td>...</td>\n",
       "      <td>0.0</td>\n",
       "      <td>0.051758</td>\n",
       "      <td>0.000000</td>\n",
       "      <td>0.001953</td>\n",
       "      <td>0.000000</td>\n",
       "      <td>0.0</td>\n",
       "      <td>0.000000</td>\n",
       "      <td>0.000000</td>\n",
       "      <td>0.010742</td>\n",
       "      <td>37</td>\n",
       "    </tr>\n",
       "    <tr>\n",
       "      <th>264</th>\n",
       "      <td>683</td>\n",
       "      <td>0.052734</td>\n",
       "      <td>0.099609</td>\n",
       "      <td>0.013672</td>\n",
       "      <td>0.011719</td>\n",
       "      <td>0.000000</td>\n",
       "      <td>0.072266</td>\n",
       "      <td>0.009766</td>\n",
       "      <td>0.000000</td>\n",
       "      <td>0.013672</td>\n",
       "      <td>...</td>\n",
       "      <td>0.0</td>\n",
       "      <td>0.003906</td>\n",
       "      <td>0.000977</td>\n",
       "      <td>0.006836</td>\n",
       "      <td>0.000000</td>\n",
       "      <td>0.0</td>\n",
       "      <td>0.000000</td>\n",
       "      <td>0.004883</td>\n",
       "      <td>0.016602</td>\n",
       "      <td>30</td>\n",
       "    </tr>\n",
       "    <tr>\n",
       "      <th>126</th>\n",
       "      <td>296</td>\n",
       "      <td>0.011719</td>\n",
       "      <td>0.019531</td>\n",
       "      <td>0.097656</td>\n",
       "      <td>0.009766</td>\n",
       "      <td>0.003906</td>\n",
       "      <td>0.015625</td>\n",
       "      <td>0.001953</td>\n",
       "      <td>0.000000</td>\n",
       "      <td>0.005859</td>\n",
       "      <td>...</td>\n",
       "      <td>0.0</td>\n",
       "      <td>0.005859</td>\n",
       "      <td>0.000000</td>\n",
       "      <td>0.012695</td>\n",
       "      <td>0.000000</td>\n",
       "      <td>0.0</td>\n",
       "      <td>0.004883</td>\n",
       "      <td>0.004883</td>\n",
       "      <td>0.045898</td>\n",
       "      <td>51</td>\n",
       "    </tr>\n",
       "    <tr>\n",
       "      <th>215</th>\n",
       "      <td>554</td>\n",
       "      <td>0.044922</td>\n",
       "      <td>0.054688</td>\n",
       "      <td>0.029297</td>\n",
       "      <td>0.001953</td>\n",
       "      <td>0.005859</td>\n",
       "      <td>0.091797</td>\n",
       "      <td>0.046875</td>\n",
       "      <td>0.000000</td>\n",
       "      <td>0.005859</td>\n",
       "      <td>...</td>\n",
       "      <td>0.0</td>\n",
       "      <td>0.032227</td>\n",
       "      <td>0.011719</td>\n",
       "      <td>0.020508</td>\n",
       "      <td>0.000000</td>\n",
       "      <td>0.0</td>\n",
       "      <td>0.019531</td>\n",
       "      <td>0.035156</td>\n",
       "      <td>0.045898</td>\n",
       "      <td>96</td>\n",
       "    </tr>\n",
       "  </tbody>\n",
       "</table>\n",
       "<p>5 rows × 194 columns</p>\n",
       "</div>"
      ],
      "text/plain": [
       "      id   margin1   margin2   margin3   margin4   margin5   margin6  \\\n",
       "190  484  0.000000  0.000000  0.013672  0.039062  0.082031  0.000000   \n",
       "235  602  0.035156  0.117190  0.019531  0.003906  0.000000  0.216800   \n",
       "264  683  0.052734  0.099609  0.013672  0.011719  0.000000  0.072266   \n",
       "126  296  0.011719  0.019531  0.097656  0.009766  0.003906  0.015625   \n",
       "215  554  0.044922  0.054688  0.029297  0.001953  0.005859  0.091797   \n",
       "\n",
       "      margin7   margin8   margin9  ...  texture56  texture57  texture58  \\\n",
       "190  0.003906  0.003906  0.007812  ...        0.0   0.001953   0.058594   \n",
       "235  0.000000  0.000000  0.003906  ...        0.0   0.051758   0.000000   \n",
       "264  0.009766  0.000000  0.013672  ...        0.0   0.003906   0.000977   \n",
       "126  0.001953  0.000000  0.005859  ...        0.0   0.005859   0.000000   \n",
       "215  0.046875  0.000000  0.005859  ...        0.0   0.032227   0.011719   \n",
       "\n",
       "     texture59  texture60  texture61  texture62  texture63  texture64  \\\n",
       "190   0.073242   0.013672        0.0   0.010742   0.000000   0.005859   \n",
       "235   0.001953   0.000000        0.0   0.000000   0.000000   0.010742   \n",
       "264   0.006836   0.000000        0.0   0.000000   0.004883   0.016602   \n",
       "126   0.012695   0.000000        0.0   0.004883   0.004883   0.045898   \n",
       "215   0.020508   0.000000        0.0   0.019531   0.035156   0.045898   \n",
       "\n",
       "     Predicted_Species  \n",
       "190                 89  \n",
       "235                 37  \n",
       "264                 30  \n",
       "126                 51  \n",
       "215                 96  \n",
       "\n",
       "[5 rows x 194 columns]"
      ]
     },
     "execution_count": 43,
     "metadata": {},
     "output_type": "execute_result"
    }
   ],
   "source": [
    "test.sample(5)"
   ]
  },
  {
   "cell_type": "code",
   "execution_count": 44,
   "id": "3bf55f06",
   "metadata": {
    "ExecuteTime": {
     "end_time": "2021-12-16T05:44:50.834474Z",
     "start_time": "2021-12-16T05:44:50.828083Z"
    }
   },
   "outputs": [],
   "source": [
    "test['speices'] = le.inverse_transform(test['Predicted_Species'])"
   ]
  },
  {
   "cell_type": "code",
   "execution_count": 45,
   "id": "d99b4844",
   "metadata": {
    "ExecuteTime": {
     "end_time": "2021-12-16T05:44:51.690453Z",
     "start_time": "2021-12-16T05:44:51.656463Z"
    }
   },
   "outputs": [
    {
     "data": {
      "text/html": [
       "<div>\n",
       "<style scoped>\n",
       "    .dataframe tbody tr th:only-of-type {\n",
       "        vertical-align: middle;\n",
       "    }\n",
       "\n",
       "    .dataframe tbody tr th {\n",
       "        vertical-align: top;\n",
       "    }\n",
       "\n",
       "    .dataframe thead th {\n",
       "        text-align: right;\n",
       "    }\n",
       "</style>\n",
       "<table border=\"1\" class=\"dataframe\">\n",
       "  <thead>\n",
       "    <tr style=\"text-align: right;\">\n",
       "      <th></th>\n",
       "      <th>id</th>\n",
       "      <th>margin1</th>\n",
       "      <th>margin2</th>\n",
       "      <th>margin3</th>\n",
       "      <th>margin4</th>\n",
       "      <th>margin5</th>\n",
       "      <th>margin6</th>\n",
       "      <th>margin7</th>\n",
       "      <th>margin8</th>\n",
       "      <th>margin9</th>\n",
       "      <th>...</th>\n",
       "      <th>texture57</th>\n",
       "      <th>texture58</th>\n",
       "      <th>texture59</th>\n",
       "      <th>texture60</th>\n",
       "      <th>texture61</th>\n",
       "      <th>texture62</th>\n",
       "      <th>texture63</th>\n",
       "      <th>texture64</th>\n",
       "      <th>Predicted_Species</th>\n",
       "      <th>speices</th>\n",
       "    </tr>\n",
       "  </thead>\n",
       "  <tbody>\n",
       "    <tr>\n",
       "      <th>0</th>\n",
       "      <td>4</td>\n",
       "      <td>0.019531</td>\n",
       "      <td>0.009766</td>\n",
       "      <td>0.078125</td>\n",
       "      <td>0.011719</td>\n",
       "      <td>0.003906</td>\n",
       "      <td>0.015625</td>\n",
       "      <td>0.005859</td>\n",
       "      <td>0.000000</td>\n",
       "      <td>0.005859</td>\n",
       "      <td>...</td>\n",
       "      <td>0.015625</td>\n",
       "      <td>0.000977</td>\n",
       "      <td>0.015625</td>\n",
       "      <td>0.0</td>\n",
       "      <td>0.0</td>\n",
       "      <td>0.000000</td>\n",
       "      <td>0.003906</td>\n",
       "      <td>0.053711</td>\n",
       "      <td>51</td>\n",
       "      <td>Quercus_Agrifolia</td>\n",
       "    </tr>\n",
       "    <tr>\n",
       "      <th>1</th>\n",
       "      <td>7</td>\n",
       "      <td>0.007812</td>\n",
       "      <td>0.005859</td>\n",
       "      <td>0.064453</td>\n",
       "      <td>0.009766</td>\n",
       "      <td>0.003906</td>\n",
       "      <td>0.013672</td>\n",
       "      <td>0.007812</td>\n",
       "      <td>0.000000</td>\n",
       "      <td>0.033203</td>\n",
       "      <td>...</td>\n",
       "      <td>0.006836</td>\n",
       "      <td>0.001953</td>\n",
       "      <td>0.013672</td>\n",
       "      <td>0.0</td>\n",
       "      <td>0.0</td>\n",
       "      <td>0.000977</td>\n",
       "      <td>0.037109</td>\n",
       "      <td>0.044922</td>\n",
       "      <td>50</td>\n",
       "      <td>Quercus_Afares</td>\n",
       "    </tr>\n",
       "    <tr>\n",
       "      <th>2</th>\n",
       "      <td>9</td>\n",
       "      <td>0.000000</td>\n",
       "      <td>0.000000</td>\n",
       "      <td>0.001953</td>\n",
       "      <td>0.021484</td>\n",
       "      <td>0.041016</td>\n",
       "      <td>0.000000</td>\n",
       "      <td>0.023438</td>\n",
       "      <td>0.000000</td>\n",
       "      <td>0.011719</td>\n",
       "      <td>...</td>\n",
       "      <td>0.000977</td>\n",
       "      <td>0.000000</td>\n",
       "      <td>0.000000</td>\n",
       "      <td>0.0</td>\n",
       "      <td>0.0</td>\n",
       "      <td>0.015625</td>\n",
       "      <td>0.000000</td>\n",
       "      <td>0.000000</td>\n",
       "      <td>1</td>\n",
       "      <td>Acer_Circinatum</td>\n",
       "    </tr>\n",
       "    <tr>\n",
       "      <th>3</th>\n",
       "      <td>12</td>\n",
       "      <td>0.000000</td>\n",
       "      <td>0.000000</td>\n",
       "      <td>0.009766</td>\n",
       "      <td>0.011719</td>\n",
       "      <td>0.017578</td>\n",
       "      <td>0.000000</td>\n",
       "      <td>0.003906</td>\n",
       "      <td>0.000000</td>\n",
       "      <td>0.003906</td>\n",
       "      <td>...</td>\n",
       "      <td>0.002930</td>\n",
       "      <td>0.036133</td>\n",
       "      <td>0.013672</td>\n",
       "      <td>0.0</td>\n",
       "      <td>0.0</td>\n",
       "      <td>0.089844</td>\n",
       "      <td>0.000000</td>\n",
       "      <td>0.008789</td>\n",
       "      <td>19</td>\n",
       "      <td>Castanea_Sativa</td>\n",
       "    </tr>\n",
       "    <tr>\n",
       "      <th>4</th>\n",
       "      <td>13</td>\n",
       "      <td>0.001953</td>\n",
       "      <td>0.000000</td>\n",
       "      <td>0.015625</td>\n",
       "      <td>0.009766</td>\n",
       "      <td>0.039062</td>\n",
       "      <td>0.000000</td>\n",
       "      <td>0.009766</td>\n",
       "      <td>0.000000</td>\n",
       "      <td>0.005859</td>\n",
       "      <td>...</td>\n",
       "      <td>0.016602</td>\n",
       "      <td>0.010742</td>\n",
       "      <td>0.041016</td>\n",
       "      <td>0.0</td>\n",
       "      <td>0.0</td>\n",
       "      <td>0.007812</td>\n",
       "      <td>0.009766</td>\n",
       "      <td>0.007812</td>\n",
       "      <td>14</td>\n",
       "      <td>Alnus_Viridis</td>\n",
       "    </tr>\n",
       "    <tr>\n",
       "      <th>...</th>\n",
       "      <td>...</td>\n",
       "      <td>...</td>\n",
       "      <td>...</td>\n",
       "      <td>...</td>\n",
       "      <td>...</td>\n",
       "      <td>...</td>\n",
       "      <td>...</td>\n",
       "      <td>...</td>\n",
       "      <td>...</td>\n",
       "      <td>...</td>\n",
       "      <td>...</td>\n",
       "      <td>...</td>\n",
       "      <td>...</td>\n",
       "      <td>...</td>\n",
       "      <td>...</td>\n",
       "      <td>...</td>\n",
       "      <td>...</td>\n",
       "      <td>...</td>\n",
       "      <td>...</td>\n",
       "      <td>...</td>\n",
       "      <td>...</td>\n",
       "    </tr>\n",
       "    <tr>\n",
       "      <th>589</th>\n",
       "      <td>1576</td>\n",
       "      <td>0.000000</td>\n",
       "      <td>0.000000</td>\n",
       "      <td>0.003906</td>\n",
       "      <td>0.015625</td>\n",
       "      <td>0.041016</td>\n",
       "      <td>0.000000</td>\n",
       "      <td>0.017578</td>\n",
       "      <td>0.000000</td>\n",
       "      <td>0.005859</td>\n",
       "      <td>...</td>\n",
       "      <td>0.004883</td>\n",
       "      <td>0.000000</td>\n",
       "      <td>0.003906</td>\n",
       "      <td>0.0</td>\n",
       "      <td>0.0</td>\n",
       "      <td>0.018555</td>\n",
       "      <td>0.000000</td>\n",
       "      <td>0.000977</td>\n",
       "      <td>1</td>\n",
       "      <td>Acer_Circinatum</td>\n",
       "    </tr>\n",
       "    <tr>\n",
       "      <th>590</th>\n",
       "      <td>1577</td>\n",
       "      <td>0.000000</td>\n",
       "      <td>0.003906</td>\n",
       "      <td>0.003906</td>\n",
       "      <td>0.005859</td>\n",
       "      <td>0.017578</td>\n",
       "      <td>0.000000</td>\n",
       "      <td>0.017578</td>\n",
       "      <td>0.005859</td>\n",
       "      <td>0.000000</td>\n",
       "      <td>...</td>\n",
       "      <td>0.004883</td>\n",
       "      <td>0.002930</td>\n",
       "      <td>0.009766</td>\n",
       "      <td>0.0</td>\n",
       "      <td>0.0</td>\n",
       "      <td>0.090820</td>\n",
       "      <td>0.000000</td>\n",
       "      <td>0.016602</td>\n",
       "      <td>12</td>\n",
       "      <td>Alnus_Rubra</td>\n",
       "    </tr>\n",
       "    <tr>\n",
       "      <th>591</th>\n",
       "      <td>1579</td>\n",
       "      <td>0.017578</td>\n",
       "      <td>0.029297</td>\n",
       "      <td>0.015625</td>\n",
       "      <td>0.013672</td>\n",
       "      <td>0.003906</td>\n",
       "      <td>0.015625</td>\n",
       "      <td>0.025391</td>\n",
       "      <td>0.000000</td>\n",
       "      <td>0.000000</td>\n",
       "      <td>...</td>\n",
       "      <td>0.028320</td>\n",
       "      <td>0.000000</td>\n",
       "      <td>0.001953</td>\n",
       "      <td>0.0</td>\n",
       "      <td>0.0</td>\n",
       "      <td>0.000000</td>\n",
       "      <td>0.042969</td>\n",
       "      <td>0.006836</td>\n",
       "      <td>54</td>\n",
       "      <td>Quercus_Canariensis</td>\n",
       "    </tr>\n",
       "    <tr>\n",
       "      <th>592</th>\n",
       "      <td>1580</td>\n",
       "      <td>0.013672</td>\n",
       "      <td>0.009766</td>\n",
       "      <td>0.060547</td>\n",
       "      <td>0.025391</td>\n",
       "      <td>0.035156</td>\n",
       "      <td>0.025391</td>\n",
       "      <td>0.039062</td>\n",
       "      <td>0.000000</td>\n",
       "      <td>0.003906</td>\n",
       "      <td>...</td>\n",
       "      <td>0.000977</td>\n",
       "      <td>0.000000</td>\n",
       "      <td>0.011719</td>\n",
       "      <td>0.0</td>\n",
       "      <td>0.0</td>\n",
       "      <td>0.000000</td>\n",
       "      <td>0.011719</td>\n",
       "      <td>0.018555</td>\n",
       "      <td>73</td>\n",
       "      <td>Quercus_Phillyraeoides</td>\n",
       "    </tr>\n",
       "    <tr>\n",
       "      <th>593</th>\n",
       "      <td>1583</td>\n",
       "      <td>0.000000</td>\n",
       "      <td>0.117190</td>\n",
       "      <td>0.000000</td>\n",
       "      <td>0.019531</td>\n",
       "      <td>0.000000</td>\n",
       "      <td>0.136720</td>\n",
       "      <td>0.001953</td>\n",
       "      <td>0.005859</td>\n",
       "      <td>0.000000</td>\n",
       "      <td>...</td>\n",
       "      <td>0.016602</td>\n",
       "      <td>0.000977</td>\n",
       "      <td>0.004883</td>\n",
       "      <td>0.0</td>\n",
       "      <td>0.0</td>\n",
       "      <td>0.015625</td>\n",
       "      <td>0.000000</td>\n",
       "      <td>0.017578</td>\n",
       "      <td>15</td>\n",
       "      <td>Arundinaria_Simonii</td>\n",
       "    </tr>\n",
       "  </tbody>\n",
       "</table>\n",
       "<p>594 rows × 195 columns</p>\n",
       "</div>"
      ],
      "text/plain": [
       "       id   margin1   margin2   margin3   margin4   margin5   margin6  \\\n",
       "0       4  0.019531  0.009766  0.078125  0.011719  0.003906  0.015625   \n",
       "1       7  0.007812  0.005859  0.064453  0.009766  0.003906  0.013672   \n",
       "2       9  0.000000  0.000000  0.001953  0.021484  0.041016  0.000000   \n",
       "3      12  0.000000  0.000000  0.009766  0.011719  0.017578  0.000000   \n",
       "4      13  0.001953  0.000000  0.015625  0.009766  0.039062  0.000000   \n",
       "..    ...       ...       ...       ...       ...       ...       ...   \n",
       "589  1576  0.000000  0.000000  0.003906  0.015625  0.041016  0.000000   \n",
       "590  1577  0.000000  0.003906  0.003906  0.005859  0.017578  0.000000   \n",
       "591  1579  0.017578  0.029297  0.015625  0.013672  0.003906  0.015625   \n",
       "592  1580  0.013672  0.009766  0.060547  0.025391  0.035156  0.025391   \n",
       "593  1583  0.000000  0.117190  0.000000  0.019531  0.000000  0.136720   \n",
       "\n",
       "      margin7   margin8   margin9  ...  texture57  texture58  texture59  \\\n",
       "0    0.005859  0.000000  0.005859  ...   0.015625   0.000977   0.015625   \n",
       "1    0.007812  0.000000  0.033203  ...   0.006836   0.001953   0.013672   \n",
       "2    0.023438  0.000000  0.011719  ...   0.000977   0.000000   0.000000   \n",
       "3    0.003906  0.000000  0.003906  ...   0.002930   0.036133   0.013672   \n",
       "4    0.009766  0.000000  0.005859  ...   0.016602   0.010742   0.041016   \n",
       "..        ...       ...       ...  ...        ...        ...        ...   \n",
       "589  0.017578  0.000000  0.005859  ...   0.004883   0.000000   0.003906   \n",
       "590  0.017578  0.005859  0.000000  ...   0.004883   0.002930   0.009766   \n",
       "591  0.025391  0.000000  0.000000  ...   0.028320   0.000000   0.001953   \n",
       "592  0.039062  0.000000  0.003906  ...   0.000977   0.000000   0.011719   \n",
       "593  0.001953  0.005859  0.000000  ...   0.016602   0.000977   0.004883   \n",
       "\n",
       "     texture60  texture61  texture62  texture63  texture64  Predicted_Species  \\\n",
       "0          0.0        0.0   0.000000   0.003906   0.053711                 51   \n",
       "1          0.0        0.0   0.000977   0.037109   0.044922                 50   \n",
       "2          0.0        0.0   0.015625   0.000000   0.000000                  1   \n",
       "3          0.0        0.0   0.089844   0.000000   0.008789                 19   \n",
       "4          0.0        0.0   0.007812   0.009766   0.007812                 14   \n",
       "..         ...        ...        ...        ...        ...                ...   \n",
       "589        0.0        0.0   0.018555   0.000000   0.000977                  1   \n",
       "590        0.0        0.0   0.090820   0.000000   0.016602                 12   \n",
       "591        0.0        0.0   0.000000   0.042969   0.006836                 54   \n",
       "592        0.0        0.0   0.000000   0.011719   0.018555                 73   \n",
       "593        0.0        0.0   0.015625   0.000000   0.017578                 15   \n",
       "\n",
       "                    speices  \n",
       "0         Quercus_Agrifolia  \n",
       "1            Quercus_Afares  \n",
       "2           Acer_Circinatum  \n",
       "3           Castanea_Sativa  \n",
       "4             Alnus_Viridis  \n",
       "..                      ...  \n",
       "589         Acer_Circinatum  \n",
       "590             Alnus_Rubra  \n",
       "591     Quercus_Canariensis  \n",
       "592  Quercus_Phillyraeoides  \n",
       "593     Arundinaria_Simonii  \n",
       "\n",
       "[594 rows x 195 columns]"
      ]
     },
     "execution_count": 45,
     "metadata": {},
     "output_type": "execute_result"
    }
   ],
   "source": [
    "test"
   ]
  }
 ],
 "metadata": {
  "hide_input": false,
  "kernelspec": {
   "display_name": "Python 3 (ipykernel)",
   "language": "python",
   "name": "python3"
  },
  "language_info": {
   "codemirror_mode": {
    "name": "ipython",
    "version": 3
   },
   "file_extension": ".py",
   "mimetype": "text/x-python",
   "name": "python",
   "nbconvert_exporter": "python",
   "pygments_lexer": "ipython3",
   "version": "3.7.4"
  },
  "toc": {
   "base_numbering": 1,
   "nav_menu": {},
   "number_sections": true,
   "sideBar": true,
   "skip_h1_title": false,
   "title_cell": "Table of Contents",
   "title_sidebar": "Contents",
   "toc_cell": false,
   "toc_position": {},
   "toc_section_display": true,
   "toc_window_display": false
  },
  "varInspector": {
   "cols": {
    "lenName": 16,
    "lenType": 16,
    "lenVar": 40
   },
   "kernels_config": {
    "python": {
     "delete_cmd_postfix": "",
     "delete_cmd_prefix": "del ",
     "library": "var_list.py",
     "varRefreshCmd": "print(var_dic_list())"
    },
    "r": {
     "delete_cmd_postfix": ") ",
     "delete_cmd_prefix": "rm(",
     "library": "var_list.r",
     "varRefreshCmd": "cat(var_dic_list()) "
    }
   },
   "types_to_exclude": [
    "module",
    "function",
    "builtin_function_or_method",
    "instance",
    "_Feature"
   ],
   "window_display": false
  }
 },
 "nbformat": 4,
 "nbformat_minor": 5
}
