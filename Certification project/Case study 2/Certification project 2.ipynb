{
 "cells": [
  {
   "cell_type": "markdown",
   "id": "241829b9",
   "metadata": {},
   "source": [
    "__Import the libraries__"
   ]
  },
  {
   "cell_type": "code",
   "execution_count": 1,
   "id": "0558d658",
   "metadata": {
    "ExecuteTime": {
     "end_time": "2021-12-18T16:49:17.929764Z",
     "start_time": "2021-12-18T16:49:14.398605Z"
    }
   },
   "outputs": [],
   "source": [
    "import numpy as np \n",
    "import pandas as pd \n",
    "import matplotlib.pyplot as plt\n",
    "import seaborn as sns"
   ]
  },
  {
   "cell_type": "code",
   "execution_count": 3,
   "id": "a44b5f41",
   "metadata": {
    "ExecuteTime": {
     "end_time": "2021-12-18T16:51:10.062832Z",
     "start_time": "2021-12-18T16:51:10.058023Z"
    }
   },
   "outputs": [],
   "source": [
    "from sklearn.model_selection import train_test_split\n",
    "from sklearn.decomposition import PCA\n",
    "from sklearn.cluster import KMeans"
   ]
  },
  {
   "cell_type": "markdown",
   "id": "2f90854a",
   "metadata": {},
   "source": [
    "__Read the data file and check for any missing values__"
   ]
  },
  {
   "cell_type": "code",
   "execution_count": 5,
   "id": "18fb20ba",
   "metadata": {
    "ExecuteTime": {
     "end_time": "2021-12-18T16:52:31.182574Z",
     "start_time": "2021-12-18T16:52:31.145427Z"
    }
   },
   "outputs": [
    {
     "data": {
      "text/html": [
       "<div>\n",
       "<style scoped>\n",
       "    .dataframe tbody tr th:only-of-type {\n",
       "        vertical-align: middle;\n",
       "    }\n",
       "\n",
       "    .dataframe tbody tr th {\n",
       "        vertical-align: top;\n",
       "    }\n",
       "\n",
       "    .dataframe thead th {\n",
       "        text-align: right;\n",
       "    }\n",
       "</style>\n",
       "<table border=\"1\" class=\"dataframe\">\n",
       "  <thead>\n",
       "    <tr style=\"text-align: right;\">\n",
       "      <th></th>\n",
       "      <th>Sales of Wheat in tons</th>\n",
       "      <th>1990</th>\n",
       "      <th>1991</th>\n",
       "      <th>1992</th>\n",
       "      <th>1993</th>\n",
       "      <th>1994</th>\n",
       "      <th>1995</th>\n",
       "      <th>1996</th>\n",
       "      <th>1997</th>\n",
       "      <th>1998</th>\n",
       "      <th>1999</th>\n",
       "      <th>2000</th>\n",
       "      <th>2001</th>\n",
       "      <th>2002</th>\n",
       "      <th>2003</th>\n",
       "      <th>2004</th>\n",
       "      <th>2005</th>\n",
       "      <th>2006</th>\n",
       "      <th>2007</th>\n",
       "    </tr>\n",
       "  </thead>\n",
       "  <tbody>\n",
       "    <tr>\n",
       "      <th>188</th>\n",
       "      <td>Turks and Caicos Islands</td>\n",
       "      <td>42</td>\n",
       "      <td>40</td>\n",
       "      <td>37</td>\n",
       "      <td>35</td>\n",
       "      <td>33</td>\n",
       "      <td>31</td>\n",
       "      <td>30</td>\n",
       "      <td>29</td>\n",
       "      <td>28</td>\n",
       "      <td>17</td>\n",
       "      <td>16</td>\n",
       "      <td>23</td>\n",
       "      <td>23</td>\n",
       "      <td>22</td>\n",
       "      <td>22</td>\n",
       "      <td>22</td>\n",
       "      <td>18</td>\n",
       "      <td>17</td>\n",
       "    </tr>\n",
       "    <tr>\n",
       "      <th>37</th>\n",
       "      <td>Central African Republic</td>\n",
       "      <td>318</td>\n",
       "      <td>336</td>\n",
       "      <td>342</td>\n",
       "      <td>350</td>\n",
       "      <td>356</td>\n",
       "      <td>365</td>\n",
       "      <td>270</td>\n",
       "      <td>395</td>\n",
       "      <td>419</td>\n",
       "      <td>449</td>\n",
       "      <td>485</td>\n",
       "      <td>495</td>\n",
       "      <td>468</td>\n",
       "      <td>566</td>\n",
       "      <td>574</td>\n",
       "      <td>507</td>\n",
       "      <td>437</td>\n",
       "      <td>425</td>\n",
       "    </tr>\n",
       "    <tr>\n",
       "      <th>206</th>\n",
       "      <td>Zimbabwe</td>\n",
       "      <td>409</td>\n",
       "      <td>417</td>\n",
       "      <td>415</td>\n",
       "      <td>419</td>\n",
       "      <td>426</td>\n",
       "      <td>439</td>\n",
       "      <td>453</td>\n",
       "      <td>481</td>\n",
       "      <td>392</td>\n",
       "      <td>430</td>\n",
       "      <td>479</td>\n",
       "      <td>523</td>\n",
       "      <td>571</td>\n",
       "      <td>632</td>\n",
       "      <td>652</td>\n",
       "      <td>680</td>\n",
       "      <td>699</td>\n",
       "      <td>714</td>\n",
       "    </tr>\n",
       "    <tr>\n",
       "      <th>40</th>\n",
       "      <td>China</td>\n",
       "      <td>327</td>\n",
       "      <td>321</td>\n",
       "      <td>315</td>\n",
       "      <td>309</td>\n",
       "      <td>303</td>\n",
       "      <td>303</td>\n",
       "      <td>290</td>\n",
       "      <td>283</td>\n",
       "      <td>276</td>\n",
       "      <td>273</td>\n",
       "      <td>269</td>\n",
       "      <td>265</td>\n",
       "      <td>259</td>\n",
       "      <td>241</td>\n",
       "      <td>220</td>\n",
       "      <td>206</td>\n",
       "      <td>200</td>\n",
       "      <td>194</td>\n",
       "    </tr>\n",
       "    <tr>\n",
       "      <th>60</th>\n",
       "      <td>Equatorial Guinea</td>\n",
       "      <td>169</td>\n",
       "      <td>181</td>\n",
       "      <td>187</td>\n",
       "      <td>194</td>\n",
       "      <td>200</td>\n",
       "      <td>207</td>\n",
       "      <td>216</td>\n",
       "      <td>222</td>\n",
       "      <td>236</td>\n",
       "      <td>253</td>\n",
       "      <td>274</td>\n",
       "      <td>441</td>\n",
       "      <td>470</td>\n",
       "      <td>490</td>\n",
       "      <td>370</td>\n",
       "      <td>366</td>\n",
       "      <td>358</td>\n",
       "      <td>469</td>\n",
       "    </tr>\n",
       "  </tbody>\n",
       "</table>\n",
       "</div>"
      ],
      "text/plain": [
       "       Sales of Wheat in tons 1990 1991 1992 1993 1994 1995  1996  1997  1998  \\\n",
       "188  Turks and Caicos Islands   42   40   37   35   33   31    30    29    28   \n",
       "37   Central African Republic  318  336  342  350  356  365   270   395   419   \n",
       "206                  Zimbabwe  409  417  415  419  426  439   453   481   392   \n",
       "40                      China  327  321  315  309  303  303   290   283   276   \n",
       "60          Equatorial Guinea  169  181  187  194  200  207   216   222   236   \n",
       "\n",
       "     1999  2000  2001  2002  2003 2004 2005 2006 2007  \n",
       "188    17    16    23    23    22   22   22   18   17  \n",
       "37    449   485   495   468   566  574  507  437  425  \n",
       "206   430   479   523   571   632  652  680  699  714  \n",
       "40    273   269   265   259   241  220  206  200  194  \n",
       "60    253   274   441   470   490  370  366  358  469  "
      ]
     },
     "execution_count": 5,
     "metadata": {},
     "output_type": "execute_result"
    }
   ],
   "source": [
    "df = pd.read_csv(\"Project_Data_1.csv\")\n",
    "df.sample(5)"
   ]
  },
  {
   "cell_type": "code",
   "execution_count": 7,
   "id": "f1c4ed9f",
   "metadata": {
    "ExecuteTime": {
     "end_time": "2021-12-18T16:53:09.636086Z",
     "start_time": "2021-12-18T16:53:09.629499Z"
    }
   },
   "outputs": [
    {
     "name": "stdout",
     "output_type": "stream",
     "text": [
      "['Sales of Wheat in tons', '1990', '1991', '1992', '1993', '1994', '1995', '1996', '1997', '1998', '1999', '2000', '2001', '2002', '2003', '2004', '2005', '2006', '2007']\n"
     ]
    }
   ],
   "source": [
    "print(df.columns.tolist())"
   ]
  },
  {
   "cell_type": "code",
   "execution_count": 9,
   "id": "47156816",
   "metadata": {
    "ExecuteTime": {
     "end_time": "2021-12-18T16:53:33.755108Z",
     "start_time": "2021-12-18T16:53:33.738508Z"
    }
   },
   "outputs": [
    {
     "name": "stdout",
     "output_type": "stream",
     "text": [
      "<class 'pandas.core.frame.DataFrame'>\n",
      "RangeIndex: 207 entries, 0 to 206\n",
      "Data columns (total 19 columns):\n",
      " #   Column                  Non-Null Count  Dtype \n",
      "---  ------                  --------------  ----- \n",
      " 0   Sales of Wheat in tons  207 non-null    object\n",
      " 1   1990                    207 non-null    object\n",
      " 2   1991                    207 non-null    object\n",
      " 3   1992                    207 non-null    object\n",
      " 4   1993                    207 non-null    object\n",
      " 5   1994                    207 non-null    object\n",
      " 6   1995                    207 non-null    object\n",
      " 7   1996                    207 non-null    int64 \n",
      " 8   1997                    207 non-null    int64 \n",
      " 9   1998                    207 non-null    int64 \n",
      " 10  1999                    207 non-null    int64 \n",
      " 11  2000                    207 non-null    int64 \n",
      " 12  2001                    207 non-null    int64 \n",
      " 13  2002                    207 non-null    int64 \n",
      " 14  2003                    207 non-null    int64 \n",
      " 15  2004                    207 non-null    object\n",
      " 16  2005                    207 non-null    object\n",
      " 17  2006                    207 non-null    object\n",
      " 18  2007                    207 non-null    object\n",
      "dtypes: int64(8), object(11)\n",
      "memory usage: 30.9+ KB\n",
      "None\n"
     ]
    }
   ],
   "source": [
    "print(df.info())"
   ]
  },
  {
   "cell_type": "code",
   "execution_count": 73,
   "id": "219141ac",
   "metadata": {
    "ExecuteTime": {
     "end_time": "2021-12-18T19:32:50.815989Z",
     "start_time": "2021-12-18T19:32:50.803244Z"
    }
   },
   "outputs": [
    {
     "data": {
      "text/plain": [
       "Sales of Wheat in tons    0\n",
       "1990                      0\n",
       "1991                      0\n",
       "1992                      0\n",
       "1993                      0\n",
       "1994                      0\n",
       "1995                      0\n",
       "1996                      0\n",
       "1997                      0\n",
       "1998                      0\n",
       "1999                      0\n",
       "2000                      0\n",
       "2001                      0\n",
       "2002                      0\n",
       "2003                      0\n",
       "2004                      0\n",
       "2005                      0\n",
       "2006                      0\n",
       "2007                      0\n",
       "cluster2                  0\n",
       "dtype: int64"
      ]
     },
     "execution_count": 73,
     "metadata": {},
     "output_type": "execute_result"
    }
   ],
   "source": [
    "df.isnull().sum()"
   ]
  },
  {
   "cell_type": "markdown",
   "id": "c5709dc5",
   "metadata": {},
   "source": [
    "__Cleaning the data__"
   ]
  },
  {
   "cell_type": "code",
   "execution_count": 27,
   "id": "07670e9e",
   "metadata": {
    "ExecuteTime": {
     "end_time": "2021-12-18T17:14:29.477139Z",
     "start_time": "2021-12-18T17:14:29.460904Z"
    }
   },
   "outputs": [],
   "source": [
    "df['1990']= df['1990'].str.replace(',',\"\")\n",
    "df['1991']= df['1991'].str.replace(',',\"\")\n",
    "df['1992']= df['1992'].str.replace(',',\"\")\n",
    "df['1993']= df['1993'].str.replace(',',\"\")\n",
    "df['1994']= df['1994'].str.replace(',',\"\")\n",
    "df['1995']= df['1995'].str.replace(',',\"\")\n",
    "df['2004']= df['2004'].str.replace(',',\"\")\n",
    "df['2005']= df['2004'].str.replace(',',\"\")\n",
    "df['2006']= df['2004'].str.replace(',',\"\")\n",
    "df['2007']= df['2004'].str.replace(',',\"\")"
   ]
  },
  {
   "cell_type": "code",
   "execution_count": 29,
   "id": "936bfcc8",
   "metadata": {
    "ExecuteTime": {
     "end_time": "2021-12-18T17:16:27.665574Z",
     "start_time": "2021-12-18T17:16:27.648237Z"
    }
   },
   "outputs": [],
   "source": [
    "df[['1990','1991', '1992', '1993', '1994', '1995','2004', '2005', '2006', '2007']]= df[['1990','1991', '1992', '1993', '1994', '1995','2004', '2005', '2006', '2007']].astype('int64')"
   ]
  },
  {
   "cell_type": "code",
   "execution_count": 30,
   "id": "4072372b",
   "metadata": {
    "ExecuteTime": {
     "end_time": "2021-12-18T17:16:33.793014Z",
     "start_time": "2021-12-18T17:16:33.782125Z"
    }
   },
   "outputs": [
    {
     "name": "stdout",
     "output_type": "stream",
     "text": [
      "<class 'pandas.core.frame.DataFrame'>\n",
      "RangeIndex: 207 entries, 0 to 206\n",
      "Data columns (total 19 columns):\n",
      " #   Column                  Non-Null Count  Dtype \n",
      "---  ------                  --------------  ----- \n",
      " 0   Sales of Wheat in tons  207 non-null    object\n",
      " 1   1990                    207 non-null    int64 \n",
      " 2   1991                    207 non-null    int64 \n",
      " 3   1992                    207 non-null    int64 \n",
      " 4   1993                    207 non-null    int64 \n",
      " 5   1994                    207 non-null    int64 \n",
      " 6   1995                    207 non-null    int64 \n",
      " 7   1996                    207 non-null    int64 \n",
      " 8   1997                    207 non-null    int64 \n",
      " 9   1998                    207 non-null    int64 \n",
      " 10  1999                    207 non-null    int64 \n",
      " 11  2000                    207 non-null    int64 \n",
      " 12  2001                    207 non-null    int64 \n",
      " 13  2002                    207 non-null    int64 \n",
      " 14  2003                    207 non-null    int64 \n",
      " 15  2004                    207 non-null    int64 \n",
      " 16  2005                    207 non-null    int64 \n",
      " 17  2006                    207 non-null    int64 \n",
      " 18  2007                    207 non-null    int64 \n",
      "dtypes: int64(18), object(1)\n",
      "memory usage: 30.9+ KB\n"
     ]
    }
   ],
   "source": [
    "df.info()"
   ]
  },
  {
   "cell_type": "markdown",
   "id": "514106e6",
   "metadata": {},
   "source": [
    "__As we need to make this across years we need to apply PCA first__"
   ]
  },
  {
   "cell_type": "code",
   "execution_count": 31,
   "id": "f3386af2",
   "metadata": {
    "ExecuteTime": {
     "end_time": "2021-12-18T17:34:57.985544Z",
     "start_time": "2021-12-18T17:34:57.980795Z"
    }
   },
   "outputs": [],
   "source": [
    "X = df.drop('Sales of Wheat in tons',axis=1)\n"
   ]
  },
  {
   "cell_type": "code",
   "execution_count": 32,
   "id": "f6cf3eca",
   "metadata": {
    "ExecuteTime": {
     "end_time": "2021-12-18T17:34:59.959268Z",
     "start_time": "2021-12-18T17:34:59.931996Z"
    }
   },
   "outputs": [
    {
     "data": {
      "text/plain": [
       "array([[ 1.03110452,  1.01641938,  1.02196785, ...,  0.51947036,\n",
       "         0.51947036,  0.51947036],\n",
       "       [-0.66846748, -0.68394081, -0.67693899, ..., -0.69018075,\n",
       "        -0.69018075, -0.69018075],\n",
       "       [-0.65552658, -0.66645639, -0.66356177, ..., -0.58064542,\n",
       "        -0.58064542, -0.58064542],\n",
       "       ...,\n",
       "       [ 0.29347302,  0.28207359,  0.31297523, ..., -0.17107851,\n",
       "        -0.17107851, -0.17107851],\n",
       "       [ 1.03110452,  1.13443924,  1.34302111, ...,  1.40051545,\n",
       "         1.40051545,  1.40051545],\n",
       "       [ 0.91463639,  0.96396611,  0.99075433, ...,  2.27679815,\n",
       "         2.27679815,  2.27679815]])"
      ]
     },
     "execution_count": 32,
     "metadata": {},
     "output_type": "execute_result"
    }
   ],
   "source": [
    "from sklearn.preprocessing import StandardScaler\n",
    "X= StandardScaler().fit_transform(X)\n",
    "X"
   ]
  },
  {
   "cell_type": "code",
   "execution_count": null,
   "id": "d261edc6",
   "metadata": {},
   "outputs": [],
   "source": []
  },
  {
   "cell_type": "code",
   "execution_count": 35,
   "id": "208bfb4b",
   "metadata": {
    "ExecuteTime": {
     "end_time": "2021-12-18T17:36:16.345684Z",
     "start_time": "2021-12-18T17:36:16.332042Z"
    }
   },
   "outputs": [],
   "source": [
    "pca= PCA(n_components=2)\n",
    "principalComponents = pca.fit_transform(X)\n",
    "principalDf = pd.DataFrame(data = principalComponents)"
   ]
  },
  {
   "cell_type": "code",
   "execution_count": 34,
   "id": "51b22ad3",
   "metadata": {
    "ExecuteTime": {
     "end_time": "2021-12-18T17:35:49.163459Z",
     "start_time": "2021-12-18T17:35:49.156501Z"
    }
   },
   "outputs": [
    {
     "data": {
      "text/plain": [
       "array([ 92.39538861,  97.92309535,  99.01374792,  99.26297631,\n",
       "        99.49888196,  99.65870725,  99.75657534,  99.83150193,\n",
       "        99.8828166 ,  99.92724492,  99.9555837 ,  99.97290223,\n",
       "        99.98670337,  99.99760688, 100.        , 100.        ,\n",
       "       100.        , 100.        ])"
      ]
     },
     "execution_count": 34,
     "metadata": {},
     "output_type": "execute_result"
    }
   ],
   "source": [
    "np.cumsum(pca.explained_variance_ratio_*100)"
   ]
  },
  {
   "cell_type": "code",
   "execution_count": 36,
   "id": "f920fcc9",
   "metadata": {
    "ExecuteTime": {
     "end_time": "2021-12-18T17:36:28.378214Z",
     "start_time": "2021-12-18T17:36:28.364673Z"
    }
   },
   "outputs": [
    {
     "data": {
      "text/html": [
       "<div>\n",
       "<style scoped>\n",
       "    .dataframe tbody tr th:only-of-type {\n",
       "        vertical-align: middle;\n",
       "    }\n",
       "\n",
       "    .dataframe tbody tr th {\n",
       "        vertical-align: top;\n",
       "    }\n",
       "\n",
       "    .dataframe thead th {\n",
       "        text-align: right;\n",
       "    }\n",
       "</style>\n",
       "<table border=\"1\" class=\"dataframe\">\n",
       "  <thead>\n",
       "    <tr style=\"text-align: right;\">\n",
       "      <th></th>\n",
       "      <th>0</th>\n",
       "      <th>1</th>\n",
       "    </tr>\n",
       "  </thead>\n",
       "  <tbody>\n",
       "    <tr>\n",
       "      <th>0</th>\n",
       "      <td>3.584786</td>\n",
       "      <td>0.858913</td>\n",
       "    </tr>\n",
       "    <tr>\n",
       "      <th>1</th>\n",
       "      <td>-2.943227</td>\n",
       "      <td>0.016130</td>\n",
       "    </tr>\n",
       "    <tr>\n",
       "      <th>2</th>\n",
       "      <td>-2.751701</td>\n",
       "      <td>-0.153355</td>\n",
       "    </tr>\n",
       "    <tr>\n",
       "      <th>3</th>\n",
       "      <td>-3.461650</td>\n",
       "      <td>0.023427</td>\n",
       "    </tr>\n",
       "    <tr>\n",
       "      <th>4</th>\n",
       "      <td>-3.196126</td>\n",
       "      <td>0.050598</td>\n",
       "    </tr>\n",
       "    <tr>\n",
       "      <th>...</th>\n",
       "      <td>...</td>\n",
       "      <td>...</td>\n",
       "    </tr>\n",
       "    <tr>\n",
       "      <th>202</th>\n",
       "      <td>-1.101682</td>\n",
       "      <td>0.499356</td>\n",
       "    </tr>\n",
       "    <tr>\n",
       "      <th>203</th>\n",
       "      <td>-2.818139</td>\n",
       "      <td>0.061937</td>\n",
       "    </tr>\n",
       "    <tr>\n",
       "      <th>204</th>\n",
       "      <td>0.239981</td>\n",
       "      <td>0.835923</td>\n",
       "    </tr>\n",
       "    <tr>\n",
       "      <th>205</th>\n",
       "      <td>7.459023</td>\n",
       "      <td>-0.161461</td>\n",
       "    </tr>\n",
       "    <tr>\n",
       "      <th>206</th>\n",
       "      <td>6.594832</td>\n",
       "      <td>-1.987388</td>\n",
       "    </tr>\n",
       "  </tbody>\n",
       "</table>\n",
       "<p>207 rows × 2 columns</p>\n",
       "</div>"
      ],
      "text/plain": [
       "            0         1\n",
       "0    3.584786  0.858913\n",
       "1   -2.943227  0.016130\n",
       "2   -2.751701 -0.153355\n",
       "3   -3.461650  0.023427\n",
       "4   -3.196126  0.050598\n",
       "..        ...       ...\n",
       "202 -1.101682  0.499356\n",
       "203 -2.818139  0.061937\n",
       "204  0.239981  0.835923\n",
       "205  7.459023 -0.161461\n",
       "206  6.594832 -1.987388\n",
       "\n",
       "[207 rows x 2 columns]"
      ]
     },
     "execution_count": 36,
     "metadata": {},
     "output_type": "execute_result"
    }
   ],
   "source": [
    "principalDf"
   ]
  },
  {
   "cell_type": "markdown",
   "id": "b4ef2b37",
   "metadata": {},
   "source": [
    "__Plot elbow chart or scree plot to find out optimal number of clusters__"
   ]
  },
  {
   "cell_type": "code",
   "execution_count": 74,
   "id": "aa589121",
   "metadata": {
    "ExecuteTime": {
     "end_time": "2021-12-18T19:33:42.084909Z",
     "start_time": "2021-12-18T19:33:41.632970Z"
    }
   },
   "outputs": [
    {
     "data": {
      "image/png": "[encoded data removed]",
      "text/plain": [
       "<Figure size 432x288 with 1 Axes>"
      ]
     },
     "metadata": {},
     "output_type": "display_data"
    }
   ],
   "source": [
    "distortion = []\n",
    "for i in range(1,11):\n",
    "    kmeans = KMeans(n_clusters = i,random_state = 42)\n",
    "    kmeans.fit(principalDf)\n",
    "    distortion.append(kmeans.inertia_)\n",
    "plt.plot(range(1,11),distortion,marker = 'o')\n",
    "plt.xlabel('Number of clusters')\n",
    "plt.ylabel('Distortion')\n",
    "plt.tight_layout()\n",
    "plt.show()"
   ]
  },
  {
   "cell_type": "markdown",
   "id": "82f60f40",
   "metadata": {},
   "source": [
    "__Then try to apply K means, Hierarchicalclustering and showcase the results__"
   ]
  },
  {
   "cell_type": "code",
   "execution_count": 75,
   "id": "b366df8d",
   "metadata": {
    "ExecuteTime": {
     "end_time": "2021-12-18T19:34:05.067397Z",
     "start_time": "2021-12-18T19:34:05.043978Z"
    }
   },
   "outputs": [
    {
     "data": {
      "text/plain": [
       "KMeans(n_clusters=2, random_state=42)"
      ]
     },
     "execution_count": 75,
     "metadata": {},
     "output_type": "execute_result"
    }
   ],
   "source": [
    "kmeans = KMeans(n_clusters = 2,random_state = 42)\n",
    "kmeans.fit(principalDf)"
   ]
  },
  {
   "cell_type": "code",
   "execution_count": 76,
   "id": "6a41b9d2",
   "metadata": {
    "ExecuteTime": {
     "end_time": "2021-12-18T19:34:05.901409Z",
     "start_time": "2021-12-18T19:34:05.671879Z"
    }
   },
   "outputs": [
    {
     "data": {
      "image/png": "[encoded data removed]",
      "text/plain": [
       "<Figure size 576x576 with 1 Axes>"
      ]
     },
     "metadata": {},
     "output_type": "display_data"
    }
   ],
   "source": [
    "plt.figure(figsize = (8,8))\n",
    "principalDf['cluster2'] = kmeans.labels_\n",
    "sns.set_style('dark')\n",
    "sns.scatterplot(x = 0, y = 1,data=principalDf, hue='cluster2')\n",
    "plt.scatter(kmeans.cluster_centers_[:,0],kmeans.cluster_centers_[:,1],s = 250,c = 'black',marker = '*',edgecolor = 'white',label = 'centroids')\n",
    "plt.show()"
   ]
  },
  {
   "cell_type": "code",
   "execution_count": 57,
   "id": "97bcc23a",
   "metadata": {
    "ExecuteTime": {
     "end_time": "2021-12-18T17:51:45.162020Z",
     "start_time": "2021-12-18T17:51:45.133202Z"
    }
   },
   "outputs": [
    {
     "name": "stdout",
     "output_type": "stream",
     "text": [
      "Cluster labels: [0 1 1 1 1 0 1 1 1 1 1 1 1 1 1 0 1 1 1 1 1 1 0 1 1 0 1 1 1 1 1 0 0 1 1 0 1\n",
      " 0 0 1 1 1 1 0 1 1 1 1 1 1 0 0 0 1 2 1 1 1 1 1 1 1 1 0 1 1 1 1 1 0 1 1 0 1\n",
      " 1 1 1 1 0 1 0 1 1 1 0 0 1 1 1 1 1 1 1 1 1 1 0 1 1 0 1 1 1 0 1 1 1 0 0 1 1\n",
      " 0 1 0 1 1 1 1 1 1 1 0 1 0 1 0 1 1 1 1 1 1 0 1 1 1 1 0 1 1 0 1 1 0 1 1 1 1\n",
      " 1 1 1 1 0 1 1 1 1 1 1 1 0 1 0 1 1 1 0 0 0 1 1 0 1 0 1 1 1 1 1 1 0 0 1 1 1\n",
      " 1 1 1 1 0 0 1 1 1 1 1 1 1 1 1 1 1 1 1 1 0 0]\n"
     ]
    }
   ],
   "source": [
    "from sklearn.cluster import AgglomerativeClustering\n",
    "ac = AgglomerativeClustering(n_clusters = 3,affinity = 'euclidean',linkage = 'complete')\n",
    "labels = ac.fit_predict(principalDf)\n",
    "print('Cluster labels: %s' % labels)"
   ]
  },
  {
   "cell_type": "code",
   "execution_count": 60,
   "id": "ce9025e0",
   "metadata": {
    "ExecuteTime": {
     "end_time": "2021-12-18T17:53:00.895332Z",
     "start_time": "2021-12-18T17:52:57.260171Z"
    }
   },
   "outputs": [
    {
     "data": {
      "image/png": "[encoded data removed]",
      "text/plain": [
       "<Figure size 1080x576 with 1 Axes>"
      ]
     },
     "metadata": {},
     "output_type": "display_data"
    }
   ],
   "source": [
    "import scipy.cluster.hierarchy as shc\n",
    "plt.figure(figsize=(15,8))  \n",
    "plt.title(\"Dendrograms\")  \n",
    "dend = shc.dendrogram(shc.linkage(principalDf, method='ward'))"
   ]
  },
  {
   "cell_type": "code",
   "execution_count": 61,
   "id": "9443c8e0",
   "metadata": {
    "ExecuteTime": {
     "end_time": "2021-12-18T18:34:25.382557Z",
     "start_time": "2021-12-18T18:34:25.365301Z"
    }
   },
   "outputs": [
    {
     "data": {
      "text/html": [
       "<div>\n",
       "<style scoped>\n",
       "    .dataframe tbody tr th:only-of-type {\n",
       "        vertical-align: middle;\n",
       "    }\n",
       "\n",
       "    .dataframe tbody tr th {\n",
       "        vertical-align: top;\n",
       "    }\n",
       "\n",
       "    .dataframe thead th {\n",
       "        text-align: right;\n",
       "    }\n",
       "</style>\n",
       "<table border=\"1\" class=\"dataframe\">\n",
       "  <thead>\n",
       "    <tr style=\"text-align: right;\">\n",
       "      <th></th>\n",
       "      <th>0</th>\n",
       "      <th>1</th>\n",
       "      <th>cluster</th>\n",
       "      <th>cluster2</th>\n",
       "    </tr>\n",
       "  </thead>\n",
       "  <tbody>\n",
       "    <tr>\n",
       "      <th>0</th>\n",
       "      <td>3.584786</td>\n",
       "      <td>0.858913</td>\n",
       "      <td>0</td>\n",
       "      <td>0</td>\n",
       "    </tr>\n",
       "    <tr>\n",
       "      <th>1</th>\n",
       "      <td>-2.943227</td>\n",
       "      <td>0.016130</td>\n",
       "      <td>1</td>\n",
       "      <td>1</td>\n",
       "    </tr>\n",
       "    <tr>\n",
       "      <th>2</th>\n",
       "      <td>-2.751701</td>\n",
       "      <td>-0.153355</td>\n",
       "      <td>1</td>\n",
       "      <td>1</td>\n",
       "    </tr>\n",
       "    <tr>\n",
       "      <th>3</th>\n",
       "      <td>-3.461650</td>\n",
       "      <td>0.023427</td>\n",
       "      <td>1</td>\n",
       "      <td>1</td>\n",
       "    </tr>\n",
       "    <tr>\n",
       "      <th>4</th>\n",
       "      <td>-3.196126</td>\n",
       "      <td>0.050598</td>\n",
       "      <td>1</td>\n",
       "      <td>1</td>\n",
       "    </tr>\n",
       "    <tr>\n",
       "      <th>...</th>\n",
       "      <td>...</td>\n",
       "      <td>...</td>\n",
       "      <td>...</td>\n",
       "      <td>...</td>\n",
       "    </tr>\n",
       "    <tr>\n",
       "      <th>202</th>\n",
       "      <td>-1.101682</td>\n",
       "      <td>0.499356</td>\n",
       "      <td>1</td>\n",
       "      <td>1</td>\n",
       "    </tr>\n",
       "    <tr>\n",
       "      <th>203</th>\n",
       "      <td>-2.818139</td>\n",
       "      <td>0.061937</td>\n",
       "      <td>1</td>\n",
       "      <td>1</td>\n",
       "    </tr>\n",
       "    <tr>\n",
       "      <th>204</th>\n",
       "      <td>0.239981</td>\n",
       "      <td>0.835923</td>\n",
       "      <td>1</td>\n",
       "      <td>1</td>\n",
       "    </tr>\n",
       "    <tr>\n",
       "      <th>205</th>\n",
       "      <td>7.459023</td>\n",
       "      <td>-0.161461</td>\n",
       "      <td>2</td>\n",
       "      <td>0</td>\n",
       "    </tr>\n",
       "    <tr>\n",
       "      <th>206</th>\n",
       "      <td>6.594832</td>\n",
       "      <td>-1.987388</td>\n",
       "      <td>0</td>\n",
       "      <td>0</td>\n",
       "    </tr>\n",
       "  </tbody>\n",
       "</table>\n",
       "<p>207 rows × 4 columns</p>\n",
       "</div>"
      ],
      "text/plain": [
       "            0         1  cluster  cluster2\n",
       "0    3.584786  0.858913        0         0\n",
       "1   -2.943227  0.016130        1         1\n",
       "2   -2.751701 -0.153355        1         1\n",
       "3   -3.461650  0.023427        1         1\n",
       "4   -3.196126  0.050598        1         1\n",
       "..        ...       ...      ...       ...\n",
       "202 -1.101682  0.499356        1         1\n",
       "203 -2.818139  0.061937        1         1\n",
       "204  0.239981  0.835923        1         1\n",
       "205  7.459023 -0.161461        2         0\n",
       "206  6.594832 -1.987388        0         0\n",
       "\n",
       "[207 rows x 4 columns]"
      ]
     },
     "execution_count": 61,
     "metadata": {},
     "output_type": "execute_result"
    }
   ],
   "source": [
    "principalDf"
   ]
  },
  {
   "cell_type": "code",
   "execution_count": 63,
   "id": "7b375036",
   "metadata": {
    "ExecuteTime": {
     "end_time": "2021-12-18T18:36:25.131202Z",
     "start_time": "2021-12-18T18:36:25.108330Z"
    }
   },
   "outputs": [
    {
     "data": {
      "text/html": [
       "<div>\n",
       "<style scoped>\n",
       "    .dataframe tbody tr th:only-of-type {\n",
       "        vertical-align: middle;\n",
       "    }\n",
       "\n",
       "    .dataframe tbody tr th {\n",
       "        vertical-align: top;\n",
       "    }\n",
       "\n",
       "    .dataframe thead th {\n",
       "        text-align: right;\n",
       "    }\n",
       "</style>\n",
       "<table border=\"1\" class=\"dataframe\">\n",
       "  <thead>\n",
       "    <tr style=\"text-align: right;\">\n",
       "      <th></th>\n",
       "      <th>Sales of Wheat in tons</th>\n",
       "      <th>1990</th>\n",
       "      <th>1991</th>\n",
       "      <th>1992</th>\n",
       "      <th>1993</th>\n",
       "      <th>1994</th>\n",
       "      <th>1995</th>\n",
       "      <th>1996</th>\n",
       "      <th>1997</th>\n",
       "      <th>1998</th>\n",
       "      <th>1999</th>\n",
       "      <th>2000</th>\n",
       "      <th>2001</th>\n",
       "      <th>2002</th>\n",
       "      <th>2003</th>\n",
       "      <th>2004</th>\n",
       "      <th>2005</th>\n",
       "      <th>2006</th>\n",
       "      <th>2007</th>\n",
       "      <th>cluster2</th>\n",
       "    </tr>\n",
       "  </thead>\n",
       "  <tbody>\n",
       "    <tr>\n",
       "      <th>0</th>\n",
       "      <td>Afghanistan</td>\n",
       "      <td>436</td>\n",
       "      <td>429</td>\n",
       "      <td>422</td>\n",
       "      <td>415</td>\n",
       "      <td>407</td>\n",
       "      <td>397</td>\n",
       "      <td>397</td>\n",
       "      <td>387</td>\n",
       "      <td>374</td>\n",
       "      <td>373</td>\n",
       "      <td>346</td>\n",
       "      <td>326</td>\n",
       "      <td>304</td>\n",
       "      <td>308</td>\n",
       "      <td>283</td>\n",
       "      <td>283</td>\n",
       "      <td>283</td>\n",
       "      <td>283</td>\n",
       "      <td>0</td>\n",
       "    </tr>\n",
       "    <tr>\n",
       "      <th>1</th>\n",
       "      <td>Albania</td>\n",
       "      <td>42</td>\n",
       "      <td>40</td>\n",
       "      <td>41</td>\n",
       "      <td>42</td>\n",
       "      <td>42</td>\n",
       "      <td>43</td>\n",
       "      <td>42</td>\n",
       "      <td>44</td>\n",
       "      <td>43</td>\n",
       "      <td>42</td>\n",
       "      <td>40</td>\n",
       "      <td>34</td>\n",
       "      <td>32</td>\n",
       "      <td>32</td>\n",
       "      <td>29</td>\n",
       "      <td>29</td>\n",
       "      <td>29</td>\n",
       "      <td>29</td>\n",
       "      <td>1</td>\n",
       "    </tr>\n",
       "    <tr>\n",
       "      <th>2</th>\n",
       "      <td>Algeria</td>\n",
       "      <td>45</td>\n",
       "      <td>44</td>\n",
       "      <td>44</td>\n",
       "      <td>43</td>\n",
       "      <td>43</td>\n",
       "      <td>42</td>\n",
       "      <td>43</td>\n",
       "      <td>44</td>\n",
       "      <td>45</td>\n",
       "      <td>46</td>\n",
       "      <td>48</td>\n",
       "      <td>49</td>\n",
       "      <td>50</td>\n",
       "      <td>51</td>\n",
       "      <td>52</td>\n",
       "      <td>52</td>\n",
       "      <td>52</td>\n",
       "      <td>52</td>\n",
       "      <td>1</td>\n",
       "    </tr>\n",
       "    <tr>\n",
       "      <th>3</th>\n",
       "      <td>American Samoa</td>\n",
       "      <td>42</td>\n",
       "      <td>14</td>\n",
       "      <td>4</td>\n",
       "      <td>18</td>\n",
       "      <td>17</td>\n",
       "      <td>22</td>\n",
       "      <td>0</td>\n",
       "      <td>25</td>\n",
       "      <td>12</td>\n",
       "      <td>8</td>\n",
       "      <td>8</td>\n",
       "      <td>6</td>\n",
       "      <td>5</td>\n",
       "      <td>6</td>\n",
       "      <td>9</td>\n",
       "      <td>9</td>\n",
       "      <td>9</td>\n",
       "      <td>9</td>\n",
       "      <td>1</td>\n",
       "    </tr>\n",
       "    <tr>\n",
       "      <th>4</th>\n",
       "      <td>Andorra</td>\n",
       "      <td>39</td>\n",
       "      <td>37</td>\n",
       "      <td>35</td>\n",
       "      <td>33</td>\n",
       "      <td>32</td>\n",
       "      <td>30</td>\n",
       "      <td>28</td>\n",
       "      <td>23</td>\n",
       "      <td>24</td>\n",
       "      <td>22</td>\n",
       "      <td>20</td>\n",
       "      <td>20</td>\n",
       "      <td>21</td>\n",
       "      <td>18</td>\n",
       "      <td>19</td>\n",
       "      <td>19</td>\n",
       "      <td>19</td>\n",
       "      <td>19</td>\n",
       "      <td>1</td>\n",
       "    </tr>\n",
       "    <tr>\n",
       "      <th>...</th>\n",
       "      <td>...</td>\n",
       "      <td>...</td>\n",
       "      <td>...</td>\n",
       "      <td>...</td>\n",
       "      <td>...</td>\n",
       "      <td>...</td>\n",
       "      <td>...</td>\n",
       "      <td>...</td>\n",
       "      <td>...</td>\n",
       "      <td>...</td>\n",
       "      <td>...</td>\n",
       "      <td>...</td>\n",
       "      <td>...</td>\n",
       "      <td>...</td>\n",
       "      <td>...</td>\n",
       "      <td>...</td>\n",
       "      <td>...</td>\n",
       "      <td>...</td>\n",
       "      <td>...</td>\n",
       "      <td>...</td>\n",
       "    </tr>\n",
       "    <tr>\n",
       "      <th>202</th>\n",
       "      <td>Wallis et Futuna</td>\n",
       "      <td>126</td>\n",
       "      <td>352</td>\n",
       "      <td>64</td>\n",
       "      <td>174</td>\n",
       "      <td>172</td>\n",
       "      <td>93</td>\n",
       "      <td>123</td>\n",
       "      <td>213</td>\n",
       "      <td>107</td>\n",
       "      <td>105</td>\n",
       "      <td>103</td>\n",
       "      <td>13</td>\n",
       "      <td>275</td>\n",
       "      <td>147</td>\n",
       "      <td>63</td>\n",
       "      <td>63</td>\n",
       "      <td>63</td>\n",
       "      <td>63</td>\n",
       "      <td>1</td>\n",
       "    </tr>\n",
       "    <tr>\n",
       "      <th>203</th>\n",
       "      <td>West Bank and Gaza</td>\n",
       "      <td>55</td>\n",
       "      <td>54</td>\n",
       "      <td>54</td>\n",
       "      <td>52</td>\n",
       "      <td>52</td>\n",
       "      <td>50</td>\n",
       "      <td>49</td>\n",
       "      <td>46</td>\n",
       "      <td>44</td>\n",
       "      <td>42</td>\n",
       "      <td>40</td>\n",
       "      <td>39</td>\n",
       "      <td>37</td>\n",
       "      <td>36</td>\n",
       "      <td>35</td>\n",
       "      <td>35</td>\n",
       "      <td>35</td>\n",
       "      <td>35</td>\n",
       "      <td>1</td>\n",
       "    </tr>\n",
       "    <tr>\n",
       "      <th>204</th>\n",
       "      <td>Yemen</td>\n",
       "      <td>265</td>\n",
       "      <td>261</td>\n",
       "      <td>263</td>\n",
       "      <td>253</td>\n",
       "      <td>250</td>\n",
       "      <td>244</td>\n",
       "      <td>233</td>\n",
       "      <td>207</td>\n",
       "      <td>194</td>\n",
       "      <td>175</td>\n",
       "      <td>164</td>\n",
       "      <td>154</td>\n",
       "      <td>149</td>\n",
       "      <td>146</td>\n",
       "      <td>138</td>\n",
       "      <td>138</td>\n",
       "      <td>138</td>\n",
       "      <td>138</td>\n",
       "      <td>1</td>\n",
       "    </tr>\n",
       "    <tr>\n",
       "      <th>205</th>\n",
       "      <td>Zambia</td>\n",
       "      <td>436</td>\n",
       "      <td>456</td>\n",
       "      <td>494</td>\n",
       "      <td>526</td>\n",
       "      <td>556</td>\n",
       "      <td>585</td>\n",
       "      <td>602</td>\n",
       "      <td>626</td>\n",
       "      <td>634</td>\n",
       "      <td>657</td>\n",
       "      <td>658</td>\n",
       "      <td>680</td>\n",
       "      <td>517</td>\n",
       "      <td>478</td>\n",
       "      <td>468</td>\n",
       "      <td>468</td>\n",
       "      <td>468</td>\n",
       "      <td>468</td>\n",
       "      <td>0</td>\n",
       "    </tr>\n",
       "    <tr>\n",
       "      <th>206</th>\n",
       "      <td>Zimbabwe</td>\n",
       "      <td>409</td>\n",
       "      <td>417</td>\n",
       "      <td>415</td>\n",
       "      <td>419</td>\n",
       "      <td>426</td>\n",
       "      <td>439</td>\n",
       "      <td>453</td>\n",
       "      <td>481</td>\n",
       "      <td>392</td>\n",
       "      <td>430</td>\n",
       "      <td>479</td>\n",
       "      <td>523</td>\n",
       "      <td>571</td>\n",
       "      <td>632</td>\n",
       "      <td>652</td>\n",
       "      <td>652</td>\n",
       "      <td>652</td>\n",
       "      <td>652</td>\n",
       "      <td>0</td>\n",
       "    </tr>\n",
       "  </tbody>\n",
       "</table>\n",
       "<p>207 rows × 20 columns</p>\n",
       "</div>"
      ],
      "text/plain": [
       "    Sales of Wheat in tons  1990  1991  1992  1993  1994  1995  1996  1997  \\\n",
       "0              Afghanistan   436   429   422   415   407   397   397   387   \n",
       "1                  Albania    42    40    41    42    42    43    42    44   \n",
       "2                  Algeria    45    44    44    43    43    42    43    44   \n",
       "3           American Samoa    42    14     4    18    17    22     0    25   \n",
       "4                  Andorra    39    37    35    33    32    30    28    23   \n",
       "..                     ...   ...   ...   ...   ...   ...   ...   ...   ...   \n",
       "202       Wallis et Futuna   126   352    64   174   172    93   123   213   \n",
       "203     West Bank and Gaza    55    54    54    52    52    50    49    46   \n",
       "204                  Yemen   265   261   263   253   250   244   233   207   \n",
       "205                 Zambia   436   456   494   526   556   585   602   626   \n",
       "206               Zimbabwe   409   417   415   419   426   439   453   481   \n",
       "\n",
       "     1998  1999  2000  2001  2002  2003  2004  2005  2006  2007  cluster2  \n",
       "0     374   373   346   326   304   308   283   283   283   283         0  \n",
       "1      43    42    40    34    32    32    29    29    29    29         1  \n",
       "2      45    46    48    49    50    51    52    52    52    52         1  \n",
       "3      12     8     8     6     5     6     9     9     9     9         1  \n",
       "4      24    22    20    20    21    18    19    19    19    19         1  \n",
       "..    ...   ...   ...   ...   ...   ...   ...   ...   ...   ...       ...  \n",
       "202   107   105   103    13   275   147    63    63    63    63         1  \n",
       "203    44    42    40    39    37    36    35    35    35    35         1  \n",
       "204   194   175   164   154   149   146   138   138   138   138         1  \n",
       "205   634   657   658   680   517   478   468   468   468   468         0  \n",
       "206   392   430   479   523   571   632   652   652   652   652         0  \n",
       "\n",
       "[207 rows x 20 columns]"
      ]
     },
     "execution_count": 63,
     "metadata": {},
     "output_type": "execute_result"
    }
   ],
   "source": [
    "df['cluster2'] = principalDf.cluster2\n",
    "df"
   ]
  },
  {
   "cell_type": "code",
   "execution_count": 66,
   "id": "71d70d7d",
   "metadata": {
    "ExecuteTime": {
     "end_time": "2021-12-18T18:56:09.659541Z",
     "start_time": "2021-12-18T18:56:09.645325Z"
    }
   },
   "outputs": [],
   "source": [
    "condition1 = df.cluster2 == 0\n",
    "condition2 = df.cluster2 == 1\n",
    "df_cluster_0 = df.loc[condition1]\n",
    "df_cluster_1 = df.loc[condition2]"
   ]
  },
  {
   "cell_type": "code",
   "execution_count": 68,
   "id": "91dbba40",
   "metadata": {
    "ExecuteTime": {
     "end_time": "2021-12-18T18:56:22.005466Z",
     "start_time": "2021-12-18T18:56:21.990185Z"
    }
   },
   "outputs": [
    {
     "data": {
      "text/html": [
       "<div>\n",
       "<style scoped>\n",
       "    .dataframe tbody tr th:only-of-type {\n",
       "        vertical-align: middle;\n",
       "    }\n",
       "\n",
       "    .dataframe tbody tr th {\n",
       "        vertical-align: top;\n",
       "    }\n",
       "\n",
       "    .dataframe thead th {\n",
       "        text-align: right;\n",
       "    }\n",
       "</style>\n",
       "<table border=\"1\" class=\"dataframe\">\n",
       "  <thead>\n",
       "    <tr style=\"text-align: right;\">\n",
       "      <th></th>\n",
       "      <th>Sales of Wheat in tons</th>\n",
       "      <th>1990</th>\n",
       "      <th>1991</th>\n",
       "      <th>1992</th>\n",
       "      <th>1993</th>\n",
       "      <th>1994</th>\n",
       "      <th>1995</th>\n",
       "      <th>1996</th>\n",
       "      <th>1997</th>\n",
       "      <th>1998</th>\n",
       "      <th>1999</th>\n",
       "      <th>2000</th>\n",
       "      <th>2001</th>\n",
       "      <th>2002</th>\n",
       "      <th>2003</th>\n",
       "      <th>2004</th>\n",
       "      <th>2005</th>\n",
       "      <th>2006</th>\n",
       "      <th>2007</th>\n",
       "      <th>cluster2</th>\n",
       "    </tr>\n",
       "  </thead>\n",
       "  <tbody>\n",
       "    <tr>\n",
       "      <th>69</th>\n",
       "      <td>Gambia</td>\n",
       "      <td>350</td>\n",
       "      <td>350</td>\n",
       "      <td>349</td>\n",
       "      <td>347</td>\n",
       "      <td>344</td>\n",
       "      <td>341</td>\n",
       "      <td>324</td>\n",
       "      <td>321</td>\n",
       "      <td>311</td>\n",
       "      <td>485</td>\n",
       "      <td>491</td>\n",
       "      <td>499</td>\n",
       "      <td>335</td>\n",
       "      <td>343</td>\n",
       "      <td>341</td>\n",
       "      <td>341</td>\n",
       "      <td>341</td>\n",
       "      <td>341</td>\n",
       "      <td>0</td>\n",
       "    </tr>\n",
       "  </tbody>\n",
       "</table>\n",
       "</div>"
      ],
      "text/plain": [
       "   Sales of Wheat in tons  1990  1991  1992  1993  1994  1995  1996  1997  \\\n",
       "69                 Gambia   350   350   349   347   344   341   324   321   \n",
       "\n",
       "    1998  1999  2000  2001  2002  2003  2004  2005  2006  2007  cluster2  \n",
       "69   311   485   491   499   335   343   341   341   341   341         0  "
      ]
     },
     "execution_count": 68,
     "metadata": {},
     "output_type": "execute_result"
    }
   ],
   "source": [
    "df_cluster_0.sample()"
   ]
  },
  {
   "cell_type": "code",
   "execution_count": 69,
   "id": "52f5813e",
   "metadata": {
    "ExecuteTime": {
     "end_time": "2021-12-18T18:56:29.942813Z",
     "start_time": "2021-12-18T18:56:29.928914Z"
    }
   },
   "outputs": [
    {
     "data": {
      "text/html": [
       "<div>\n",
       "<style scoped>\n",
       "    .dataframe tbody tr th:only-of-type {\n",
       "        vertical-align: middle;\n",
       "    }\n",
       "\n",
       "    .dataframe tbody tr th {\n",
       "        vertical-align: top;\n",
       "    }\n",
       "\n",
       "    .dataframe thead th {\n",
       "        text-align: right;\n",
       "    }\n",
       "</style>\n",
       "<table border=\"1\" class=\"dataframe\">\n",
       "  <thead>\n",
       "    <tr style=\"text-align: right;\">\n",
       "      <th></th>\n",
       "      <th>Sales of Wheat in tons</th>\n",
       "      <th>1990</th>\n",
       "      <th>1991</th>\n",
       "      <th>1992</th>\n",
       "      <th>1993</th>\n",
       "      <th>1994</th>\n",
       "      <th>1995</th>\n",
       "      <th>1996</th>\n",
       "      <th>1997</th>\n",
       "      <th>1998</th>\n",
       "      <th>1999</th>\n",
       "      <th>2000</th>\n",
       "      <th>2001</th>\n",
       "      <th>2002</th>\n",
       "      <th>2003</th>\n",
       "      <th>2004</th>\n",
       "      <th>2005</th>\n",
       "      <th>2006</th>\n",
       "      <th>2007</th>\n",
       "      <th>cluster2</th>\n",
       "    </tr>\n",
       "  </thead>\n",
       "  <tbody>\n",
       "    <tr>\n",
       "      <th>42</th>\n",
       "      <td>Comoros</td>\n",
       "      <td>188</td>\n",
       "      <td>177</td>\n",
       "      <td>167</td>\n",
       "      <td>157</td>\n",
       "      <td>148</td>\n",
       "      <td>140</td>\n",
       "      <td>130</td>\n",
       "      <td>155</td>\n",
       "      <td>120</td>\n",
       "      <td>143</td>\n",
       "      <td>112</td>\n",
       "      <td>103</td>\n",
       "      <td>104</td>\n",
       "      <td>107</td>\n",
       "      <td>99</td>\n",
       "      <td>99</td>\n",
       "      <td>99</td>\n",
       "      <td>99</td>\n",
       "      <td>1</td>\n",
       "    </tr>\n",
       "  </tbody>\n",
       "</table>\n",
       "</div>"
      ],
      "text/plain": [
       "   Sales of Wheat in tons  1990  1991  1992  1993  1994  1995  1996  1997  \\\n",
       "42                Comoros   188   177   167   157   148   140   130   155   \n",
       "\n",
       "    1998  1999  2000  2001  2002  2003  2004  2005  2006  2007  cluster2  \n",
       "42   120   143   112   103   104   107    99    99    99    99         1  "
      ]
     },
     "execution_count": 69,
     "metadata": {},
     "output_type": "execute_result"
    }
   ],
   "source": [
    "df_cluster_1.sample()"
   ]
  },
  {
   "cell_type": "code",
   "execution_count": 70,
   "id": "7071000a",
   "metadata": {
    "ExecuteTime": {
     "end_time": "2021-12-18T18:57:01.238271Z",
     "start_time": "2021-12-18T18:57:01.230757Z"
    }
   },
   "outputs": [
    {
     "data": {
      "text/plain": [
       "['Afghanistan',\n",
       " 'Angola',\n",
       " 'Bangladesh',\n",
       " 'Bhutan',\n",
       " 'Bolivia',\n",
       " 'Botswana',\n",
       " 'Burkina Faso',\n",
       " 'Burundi',\n",
       " 'Cambodia',\n",
       " 'Cape Verde',\n",
       " 'Central African Republic',\n",
       " 'Chad',\n",
       " 'China',\n",
       " 'Congo, Rep.',\n",
       " \"Cote d'Ivoire\",\n",
       " 'Korea, Dem. Rep.',\n",
       " 'Congo, Dem. Rep.',\n",
       " 'Djibouti',\n",
       " 'Equatorial Guinea',\n",
       " 'Ethiopia',\n",
       " 'Gabon',\n",
       " 'Gambia',\n",
       " 'Ghana',\n",
       " 'Guinea',\n",
       " 'Guinea-Bissau',\n",
       " 'Haiti',\n",
       " 'India',\n",
       " 'Indonesia',\n",
       " 'Kenya',\n",
       " 'Kiribati',\n",
       " 'Laos',\n",
       " 'Lesotho',\n",
       " 'Liberia',\n",
       " 'Madagascar',\n",
       " 'Malawi',\n",
       " 'Mali',\n",
       " 'Mauritania',\n",
       " 'Mongolia',\n",
       " 'Mozambique',\n",
       " 'Myanmar',\n",
       " 'Namibia',\n",
       " 'Nepal',\n",
       " 'Niger',\n",
       " 'Nigeria',\n",
       " 'Pakistan',\n",
       " 'Papua New Guinea',\n",
       " 'Philippines',\n",
       " 'Rwanda',\n",
       " 'Sao Tome and Principe',\n",
       " 'Senegal',\n",
       " 'Sierra Leone',\n",
       " 'Solomon Islands',\n",
       " 'Somalia',\n",
       " 'South Africa',\n",
       " 'Sudan',\n",
       " 'Swaziland',\n",
       " 'Timor-Leste',\n",
       " 'Togo',\n",
       " 'Tuvalu',\n",
       " 'Uganda',\n",
       " 'Tanzania',\n",
       " 'Viet Nam',\n",
       " 'Zambia',\n",
       " 'Zimbabwe']"
      ]
     },
     "execution_count": 70,
     "metadata": {},
     "output_type": "execute_result"
    }
   ],
   "source": [
    "df_cluster_0['Sales of Wheat in tons'].to_list()"
   ]
  },
  {
   "cell_type": "code",
   "execution_count": null,
   "id": "260268fd",
   "metadata": {},
   "outputs": [],
   "source": [
    "# The countries that fall in cluster 0 are importing more thus India is exporting more to this countries"
   ]
  },
  {
   "cell_type": "code",
   "execution_count": 71,
   "id": "85bf2027",
   "metadata": {
    "ExecuteTime": {
     "end_time": "2021-12-18T19:07:33.667886Z",
     "start_time": "2021-12-18T19:07:33.660117Z"
    }
   },
   "outputs": [
    {
     "data": {
      "text/plain": [
       "['Albania',\n",
       " 'Algeria',\n",
       " 'American Samoa',\n",
       " 'Andorra',\n",
       " 'Anguilla',\n",
       " 'Antigua and Barbuda',\n",
       " 'Argentina',\n",
       " 'Armenia',\n",
       " 'Australia',\n",
       " 'Austria',\n",
       " 'Azerbaijan',\n",
       " 'Bahamas',\n",
       " 'Bahrain',\n",
       " 'Barbados',\n",
       " 'Belarus',\n",
       " 'Belgium',\n",
       " 'Belize',\n",
       " 'Benin',\n",
       " 'Bermuda',\n",
       " 'Bosnia and Herzegovina',\n",
       " 'Brazil',\n",
       " 'British Virgin Islands',\n",
       " 'Brunei Darussalam',\n",
       " 'Bulgaria',\n",
       " 'Cameroon',\n",
       " 'Canada',\n",
       " 'Cayman Islands',\n",
       " 'Chile',\n",
       " 'Colombia',\n",
       " 'Comoros',\n",
       " 'Cook Islands',\n",
       " 'Costa Rica',\n",
       " 'Croatia',\n",
       " 'Cuba',\n",
       " 'Cyprus',\n",
       " 'Czech Republic',\n",
       " 'Denmark',\n",
       " 'Dominica',\n",
       " 'Dominican Republic',\n",
       " 'Ecuador',\n",
       " 'Egypt',\n",
       " 'El Salvador',\n",
       " 'Eritrea',\n",
       " 'Estonia',\n",
       " 'Fiji',\n",
       " 'Finland',\n",
       " 'France',\n",
       " 'French Polynesia',\n",
       " 'Georgia',\n",
       " 'Germany',\n",
       " 'Greece',\n",
       " 'Grenada',\n",
       " 'Guam',\n",
       " 'Guatemala',\n",
       " 'Guyana',\n",
       " 'Honduras',\n",
       " 'Hungary',\n",
       " 'Iceland',\n",
       " 'Iran',\n",
       " 'Iraq',\n",
       " 'Ireland',\n",
       " 'Israel',\n",
       " 'Italy',\n",
       " 'Jamaica',\n",
       " 'Japan',\n",
       " 'Jordan',\n",
       " 'Kazakhstan',\n",
       " 'Kuwait',\n",
       " 'Kyrgyzstan',\n",
       " 'Latvia',\n",
       " 'Lebanon',\n",
       " 'Libyan Arab Jamahiriya',\n",
       " 'Lithuania',\n",
       " 'Luxembourg',\n",
       " 'Malaysia',\n",
       " 'Maldives',\n",
       " 'Malta',\n",
       " 'Mauritius',\n",
       " 'Mexico',\n",
       " 'Micronesia, Fed. Sts.',\n",
       " 'Monaco',\n",
       " 'Montserrat',\n",
       " 'Morocco',\n",
       " 'Nauru',\n",
       " 'Netherlands',\n",
       " 'Netherlands Antilles',\n",
       " 'New Caledonia',\n",
       " 'New Zealand',\n",
       " 'Nicaragua',\n",
       " 'Niue',\n",
       " 'Northern Mariana Islands',\n",
       " 'Norway',\n",
       " 'Oman',\n",
       " 'Palau',\n",
       " 'Panama',\n",
       " 'Paraguay',\n",
       " 'Peru',\n",
       " 'Poland',\n",
       " 'Portugal',\n",
       " 'Puerto Rico',\n",
       " 'Qatar',\n",
       " 'Korea, Rep.',\n",
       " 'Moldova',\n",
       " 'Romania',\n",
       " 'Russian Federation',\n",
       " 'Saint Kitts and Nevis',\n",
       " 'Saint Lucia',\n",
       " 'Saint Vincent and the Grenadines',\n",
       " 'Samoa',\n",
       " 'San Marino',\n",
       " 'Saudi Arabia',\n",
       " 'Seychelles',\n",
       " 'Singapore',\n",
       " 'Slovakia',\n",
       " 'Slovenia',\n",
       " 'Spain',\n",
       " 'Sri Lanka',\n",
       " 'Suriname',\n",
       " 'Sweden',\n",
       " 'Switzerland',\n",
       " 'Syrian Arab Republic',\n",
       " 'Tajikistan',\n",
       " 'Thailand',\n",
       " 'Macedonia, FYR',\n",
       " 'Tokelau',\n",
       " 'Tonga',\n",
       " 'Trinidad and Tobago',\n",
       " 'Tunisia',\n",
       " 'Turkey',\n",
       " 'Turkmenistan',\n",
       " 'Turks and Caicos Islands',\n",
       " 'Ukraine',\n",
       " 'United Arab Emirates',\n",
       " 'United Kingdom',\n",
       " 'Virgin Islands (U.S.)',\n",
       " 'United States of America',\n",
       " 'Uruguay',\n",
       " 'Uzbekistan',\n",
       " 'Vanuatu',\n",
       " 'Venezuela',\n",
       " 'Wallis et Futuna',\n",
       " 'West Bank and Gaza',\n",
       " 'Yemen']"
      ]
     },
     "execution_count": 71,
     "metadata": {},
     "output_type": "execute_result"
    }
   ],
   "source": [
    "df_cluster_1['Sales of Wheat in tons'].to_list()"
   ]
  },
  {
   "cell_type": "code",
   "execution_count": 72,
   "id": "60315d66",
   "metadata": {
    "ExecuteTime": {
     "end_time": "2021-12-18T19:32:38.813231Z",
     "start_time": "2021-12-18T19:32:38.809947Z"
    }
   },
   "outputs": [],
   "source": [
    "#The countries that fall in cluster 1 are importing less and thus India is exporting to less in these countries,\n",
    "#so the company should come up with an effective strategy to increase sales in these countries."
   ]
  }
 ],
 "metadata": {
  "hide_input": false,
  "kernelspec": {
   "display_name": "Python 3 (ipykernel)",
   "language": "python",
   "name": "python3"
  },
  "language_info": {
   "codemirror_mode": {
    "name": "ipython",
    "version": 3
   },
   "file_extension": ".py",
   "mimetype": "text/x-python",
   "name": "python",
   "nbconvert_exporter": "python",
   "pygments_lexer": "ipython3",
   "version": "3.7.4"
  },
  "toc": {
   "base_numbering": 1,
   "nav_menu": {},
   "number_sections": true,
   "sideBar": true,
   "skip_h1_title": false,
   "title_cell": "Table of Contents",
   "title_sidebar": "Contents",
   "toc_cell": false,
   "toc_position": {},
   "toc_section_display": true,
   "toc_window_display": false
  },
  "varInspector": {
   "cols": {
    "lenName": 16,
    "lenType": 16,
    "lenVar": 40
   },
   "kernels_config": {
    "python": {
     "delete_cmd_postfix": "",
     "delete_cmd_prefix": "del ",
     "library": "var_list.py",
     "varRefreshCmd": "print(var_dic_list())"
    },
    "r": {
     "delete_cmd_postfix": ") ",
     "delete_cmd_prefix": "rm(",
     "library": "var_list.r",
     "varRefreshCmd": "cat(var_dic_list()) "
    }
   },
   "types_to_exclude": [
    "module",
    "function",
    "builtin_function_or_method",
    "instance",
    "_Feature"
   ],
   "window_display": false
  }
 },
 "nbformat": 4,
 "nbformat_minor": 5
}
